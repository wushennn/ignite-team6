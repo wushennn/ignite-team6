{
 "cells": [
  {
   "cell_type": "markdown",
   "metadata": {},
   "source": [
    "# Action Detection\n",
    "- Using MediaPipe to detect only using RH and LH keypoints\n",
    "\n",
    "Notes for future improvements:\n",
    "1. FACEMESH can map over 1000 keypoints on the face, and pose can map 132. \n",
    "    - FACEMESH can allow inclusion of facial expressions that can be paired with handsigns to help better translate the word, as there are some handsigns that can have another meaning based on context/ emotions\n",
    "    - POSE can also be used in real life scenarios to pair with handsigns (filming the entire person using a phone) to improve accuracy\n",
    "    * However, as our dataset is very small, we will not be using these points as they negatively influence the prediction. Implementation will need more work in this area\n",
    "    \n",
    "2. Threading to implement parallelism on prediction and text to speech from webcam output"
   ]
  },
  {
   "cell_type": "markdown",
   "metadata": {},
   "source": [
    "## Setup Dependencies, Libraries, Helper Functions"
   ]
  },
  {
   "cell_type": "code",
   "execution_count": null,
   "metadata": {},
   "outputs": [],
   "source": [
    "# Install dependencies\n",
    "# !pip install tensorflow==2.4.1 tensorflow-gpu==2.4.1 opencv-python mediapipe sklearn matplotlib pyttsx3"
   ]
  },
  {
   "cell_type": "code",
   "execution_count": 10,
   "metadata": {},
   "outputs": [],
   "source": [
    "import cv2\n",
    "import numpy as np\n",
    "import os\n",
    "from matplotlib import pyplot as plt\n",
    "import time\n",
    "import mediapipe as mp\n",
    "import pyttsx3"
   ]
  },
  {
   "cell_type": "code",
   "execution_count": 4,
   "metadata": {},
   "outputs": [],
   "source": [
    "mp_holistic = mp.solutions.holistic # Holistic model\n",
    "mp_drawing = mp.solutions.drawing_utils # Drawing utilities\n",
    "\n",
    "# Define detection and drawing functions\n",
    "def mediapipe_detection(image, model):\n",
    "    image = cv2.cvtColor(image, cv2.COLOR_BGR2RGB) # COLOR CONVERSION BGR 2 RGB\n",
    "    image.flags.writeable = False                  # Image is no longer writeable\n",
    "    results = model.process(image)                 # Make prediction\n",
    "    image.flags.writeable = True                   # Image is now writeable \n",
    "    image = cv2.cvtColor(image, cv2.COLOR_RGB2BGR) # COLOR COVERSION RGB 2 BGR\n",
    "    return image, results\n",
    "\n",
    "def draw_landmarks(image, results):\n",
    "    mp_drawing.draw_landmarks(image, results.left_hand_landmarks, mp_holistic.HAND_CONNECTIONS) # Draw left hand connections\n",
    "    mp_drawing.draw_landmarks(image, results.right_hand_landmarks, mp_holistic.HAND_CONNECTIONS) # Draw right hand connections\n",
    "\n",
    "def draw_styled_landmarks(image, results):\n",
    "    # Draw left hand connections\n",
    "    mp_drawing.draw_landmarks(image, results.left_hand_landmarks, mp_holistic.HAND_CONNECTIONS, \n",
    "                             mp_drawing.DrawingSpec(color=(60,20,220), thickness=2, circle_radius=1), \n",
    "                             mp_drawing.DrawingSpec(color=(0,255,30), thickness=2, circle_radius=2)\n",
    "                             ) \n",
    "    # Draw right hand connections  \n",
    "    mp_drawing.draw_landmarks(image, results.right_hand_landmarks, mp_holistic.HAND_CONNECTIONS, \n",
    "                             mp_drawing.DrawingSpec(color=(60,20,220), thickness=2, circle_radius=1), \n",
    "                             mp_drawing.DrawingSpec(color=(0,255,30), thickness=2, circle_radius=2)\n",
    "                             ) \n",
    "    \n",
    "def extract_keypoints(results):\n",
    "    lh = np.array([[res.x, res.y, res.z] for res in results.left_hand_landmarks.landmark]).flatten() if results.left_hand_landmarks else np.zeros(21*3)\n",
    "    rh = np.array([[res.x, res.y, res.z] for res in results.right_hand_landmarks.landmark]).flatten() if results.right_hand_landmarks else np.zeros(21*3)\n",
    "    return np.concatenate([lh, rh])"
   ]
  },
  {
   "cell_type": "code",
   "execution_count": 59,
   "metadata": {},
   "outputs": [],
   "source": [
    "# Check camera set up\n",
    "cap = cv2.VideoCapture(0)\n",
    "cap.set(cv2.CAP_PROP_FRAME_WIDTH, 1280)\n",
    "cap.set(cv2.CAP_PROP_FRAME_HEIGHT, 720)\n",
    "\n",
    "# Set mediapipe model: instantiate the model to fit into detection function\n",
    "with mp_holistic.Holistic(min_detection_confidence=0.5, min_tracking_confidence=0.5) as holistic:\n",
    "    while cap.isOpened():\n",
    "\n",
    "        # Read frame from webcam, return value, frame: image from webcam\n",
    "        ret, frame = cap.read()\n",
    "\n",
    "        # Feed webcam image to mediapipe to Make detections\n",
    "        image, results = mediapipe_detection(frame, holistic)\n",
    "        \n",
    "        # Draw landmarks\n",
    "        draw_styled_landmarks(image, results)\n",
    "\n",
    "        # Show to screen\n",
    "        cv2.imshow('OpenCV Feed', image)\n",
    "\n",
    "        # Break gracefully\n",
    "        if cv2.waitKey(10) & 0xFF == ord('q'):\n",
    "            break\n",
    "    cap.release()\n",
    "    cv2.destroyAllWindows()"
   ]
  },
  {
   "cell_type": "code",
   "execution_count": 30,
   "metadata": {},
   "outputs": [],
   "source": [
    "cap.release()\n",
    "cv2.destroyAllWindows()"
   ]
  },
  {
   "cell_type": "markdown",
   "metadata": {},
   "source": [
    "## Setup Folders for Data Collection\n"
   ]
  },
  {
   "cell_type": "code",
   "execution_count": 5,
   "metadata": {},
   "outputs": [],
   "source": [
    "# Path for exported data, numpy arrays\n",
    "DATA_PATH = os.path.join('hire') \n",
    "\n",
    "# Actions that we try to detect\n",
    "actions = np.array(['please', 'hire', 'me', 'google'])\n",
    "\n",
    "# Define number of videos to record\n",
    "no_sequences = 50\n",
    "\n",
    "# Videos are going to be 30 frames in length\n",
    "sequence_length = 30"
   ]
  },
  {
   "cell_type": "code",
   "execution_count": 6,
   "metadata": {},
   "outputs": [
    {
     "data": {
      "text/plain": [
       "4"
      ]
     },
     "execution_count": 6,
     "metadata": {},
     "output_type": "execute_result"
    }
   ],
   "source": [
    "actions.shape[0]"
   ]
  },
  {
   "cell_type": "code",
   "execution_count": 116,
   "metadata": {},
   "outputs": [],
   "source": [
    "for action in actions: \n",
    "    for sequence in range(no_sequences):\n",
    "        try: \n",
    "            os.makedirs(os.path.join(DATA_PATH, action, str(sequence)))\n",
    "        except:\n",
    "            pass"
   ]
  },
  {
   "cell_type": "markdown",
   "metadata": {},
   "source": [
    "## Collect keypoints for training"
   ]
  },
  {
   "cell_type": "code",
   "execution_count": null,
   "metadata": {},
   "outputs": [],
   "source": [
    "cap = cv2.VideoCapture(0)\n",
    "cap.set(cv2.CAP_PROP_FRAME_WIDTH, 1280)\n",
    "cap.set(cv2.CAP_PROP_FRAME_HEIGHT, 720)\n",
    "\n",
    "# Set mediapipe model \n",
    "with mp_holistic.Holistic(min_detection_confidence=0.5, min_tracking_confidence=0.5) as holistic:\n",
    "    \n",
    "    for action in actions:\n",
    "        # Loop through sequences aka videos\n",
    "        for sequence in range(no_sequences):\n",
    "            # Loop through video length aka sequence length, each frame, 30 frames of keypoints for each video\n",
    "            for frame_num in range(sequence_length):\n",
    "\n",
    "                # Read feed\n",
    "                ret, frame = cap.read()\n",
    "\n",
    "                # Make detections\n",
    "                image, results = mediapipe_detection(frame, holistic)\n",
    "\n",
    "                # Draw landmarks\n",
    "                draw_styled_landmarks(image, results)\n",
    "                \n",
    "                # NEW Apply wait logic\n",
    "                if frame_num == 0: \n",
    "                    cv2.putText(image, 'STARTING COLLECTION', (120,200), \n",
    "                               cv2.FONT_HERSHEY_SIMPLEX, 1, (0,255, 0), 4, cv2.LINE_AA)\n",
    "                    cv2.putText(image, 'Collecting frames for {} Video Number {}'.format(action, sequence), (15,12), \n",
    "                               cv2.FONT_HERSHEY_SIMPLEX, 0.5, (0, 0, 255), 1, cv2.LINE_AA)\n",
    "                    # Show to screen\n",
    "                    cv2.imshow('OpenCV Feed', image)\n",
    "                    cv2.waitKey(1000)\n",
    "                else: \n",
    "                    cv2.putText(image, 'Collecting frames for {} Video Number {}'.format(action, sequence), (15,12), \n",
    "                               cv2.FONT_HERSHEY_SIMPLEX, 0.5, (0, 0, 255), 1, cv2.LINE_AA)\n",
    "                    # Show to screen\n",
    "                    cv2.imshow('OpenCV Feed', image)\n",
    "                \n",
    "                # NEW Export keypoints\n",
    "                keypoints = extract_keypoints(results)\n",
    "                npy_path = os.path.join(DATA_PATH, action, str(sequence+50), str(frame_num))\n",
    "                np.save(npy_path, keypoints)\n",
    "\n",
    "                # Break gracefully\n",
    "                if cv2.waitKey(10) & 0xFF == ord('q'):\n",
    "                    break\n",
    "                    \n",
    "    cap.release()\n",
    "    cv2.destroyAllWindows()"
   ]
  },
  {
   "cell_type": "code",
   "execution_count": 9,
   "metadata": {},
   "outputs": [],
   "source": [
    "cap.release()\n",
    "cv2.destroyAllWindows()"
   ]
  },
  {
   "cell_type": "markdown",
   "metadata": {},
   "source": [
    "## Training Model"
   ]
  },
  {
   "cell_type": "markdown",
   "metadata": {},
   "source": [
    "### Preprocess Data"
   ]
  },
  {
   "cell_type": "code",
   "execution_count": 97,
   "metadata": {},
   "outputs": [],
   "source": [
    "from sklearn.model_selection import train_test_split\n",
    "from tensorflow.keras.utils import to_categorical"
   ]
  },
  {
   "cell_type": "code",
   "execution_count": 132,
   "metadata": {},
   "outputs": [],
   "source": [
    "label_map = {label:num for num, label in enumerate(actions)}"
   ]
  },
  {
   "cell_type": "code",
   "execution_count": 133,
   "metadata": {},
   "outputs": [
    {
     "data": {
      "text/plain": [
       "{'please': 0, 'hire': 1, 'me': 2, 'google': 3}"
      ]
     },
     "execution_count": 133,
     "metadata": {},
     "output_type": "execute_result"
    }
   ],
   "source": [
    "label_map"
   ]
  },
  {
   "cell_type": "code",
   "execution_count": 134,
   "metadata": {},
   "outputs": [],
   "source": [
    "sequences, labels = [], []\n",
    "for action in actions:\n",
    "    for sequence in np.array(os.listdir(os.path.join(DATA_PATH, action))).astype(int):\n",
    "        window = []\n",
    "        for frame_num in range(sequence_length):\n",
    "            res = np.load(os.path.join(DATA_PATH, action, str(sequence), \"{}.npy\".format(frame_num)))\n",
    "            window.append(res)\n",
    "        sequences.append(window)\n",
    "        labels.append(label_map[action])"
   ]
  },
  {
   "cell_type": "code",
   "execution_count": 135,
   "metadata": {},
   "outputs": [
    {
     "data": {
      "text/plain": [
       "(192, 30, 126)"
      ]
     },
     "execution_count": 135,
     "metadata": {},
     "output_type": "execute_result"
    }
   ],
   "source": [
    "# Check shape: (videos, frames, keypoints), adjust LSTM input accordingly\n",
    "np.array(sequences).shape"
   ]
  },
  {
   "cell_type": "code",
   "execution_count": 136,
   "metadata": {},
   "outputs": [],
   "source": [
    "X = np.array(sequences)\n",
    "y = to_categorical(labels).astype(int)"
   ]
  },
  {
   "cell_type": "code",
   "execution_count": 137,
   "metadata": {},
   "outputs": [],
   "source": [
    "X_train=X\n",
    "y_train=y"
   ]
  },
  {
   "cell_type": "code",
   "execution_count": null,
   "metadata": {},
   "outputs": [],
   "source": [
    "# Train test split (skip for more train data)\n",
    "# X_train, X_test, y_train, y_test = train_test_split(X, y, test_size=0.05, random_seed=0)"
   ]
  },
  {
   "cell_type": "markdown",
   "metadata": {},
   "source": [
    "### Model Training"
   ]
  },
  {
   "cell_type": "code",
   "execution_count": 15,
   "metadata": {},
   "outputs": [],
   "source": [
    "from tensorflow.keras.models import Sequential\n",
    "from tensorflow.keras.layers import LSTM, Dense\n",
    "from tensorflow.keras.callbacks import TensorBoard, EarlyStopping, ReduceLROnPlateau\n",
    "from tensorflow.keras import Model, callbacks\n",
    "# from tensorflow.keras.callbacks import TensorBoard"
   ]
  },
  {
   "cell_type": "code",
   "execution_count": 16,
   "metadata": {},
   "outputs": [],
   "source": [
    "# log_dir = os.path.join('Logs')\n",
    "# tb_callback = TensorBoard(log_dir=log_dir)"
   ]
  },
  {
   "cell_type": "code",
   "execution_count": 138,
   "metadata": {},
   "outputs": [],
   "source": [
    "model = Sequential()\n",
    "model.add(LSTM(64, return_sequences=True, activation='relu', input_shape=(30,126)))\n",
    "model.add(LSTM(128, return_sequences=True, activation='relu'))\n",
    "model.add(LSTM(64, return_sequences=False, activation='relu'))\n",
    "model.add(Dense(64, activation='relu'))\n",
    "model.add(Dense(32, activation='relu'))\n",
    "model.add(Dense(actions.shape[0], activation='softmax'))"
   ]
  },
  {
   "cell_type": "code",
   "execution_count": 139,
   "metadata": {},
   "outputs": [],
   "source": [
    "early_stopping = EarlyStopping(monitor='categorical_accuracy', min_delta=0.001, patience=100, verbose=1, mode='auto', restore_best_weights=True)"
   ]
  },
  {
   "cell_type": "code",
   "execution_count": 140,
   "metadata": {},
   "outputs": [],
   "source": [
    "model.compile(optimizer='Adam', loss='categorical_crossentropy', metrics=['categorical_accuracy'])"
   ]
  },
  {
   "cell_type": "code",
   "execution_count": 141,
   "metadata": {},
   "outputs": [
    {
     "name": "stdout",
     "output_type": "stream",
     "text": [
      "Epoch 1/1000\n",
      "6/6 [==============================] - 0s 62ms/step - loss: 1.3159 - categorical_accuracy: 0.3333\n",
      "Epoch 2/1000\n",
      "6/6 [==============================] - 0s 58ms/step - loss: 1.3038 - categorical_accuracy: 0.3021 0s - loss: 1.3682 - categorical_accuracy: \n",
      "Epoch 3/1000\n",
      "6/6 [==============================] - 0s 66ms/step - loss: 1.2561 - categorical_accuracy: 0.3490\n",
      "Epoch 4/1000\n",
      "6/6 [==============================] - 0s 61ms/step - loss: 1.2633 - categorical_accuracy: 0.4948\n",
      "Epoch 5/1000\n",
      "6/6 [==============================] - 0s 60ms/step - loss: 1.1798 - categorical_accuracy: 0.3490\n",
      "Epoch 6/1000\n",
      "6/6 [==============================] - 0s 63ms/step - loss: 1.0378 - categorical_accuracy: 0.5052\n",
      "Epoch 7/1000\n",
      "6/6 [==============================] - 0s 55ms/step - loss: 0.9170 - categorical_accuracy: 0.5729\n",
      "Epoch 8/1000\n",
      "6/6 [==============================] - 0s 60ms/step - loss: 0.8577 - categorical_accuracy: 0.5052\n",
      "Epoch 9/1000\n",
      "6/6 [==============================] - 0s 65ms/step - loss: 0.7315 - categorical_accuracy: 0.6667\n",
      "Epoch 10/1000\n",
      "6/6 [==============================] - 0s 61ms/step - loss: 0.6525 - categorical_accuracy: 0.8229\n",
      "Epoch 11/1000\n",
      "6/6 [==============================] - 0s 64ms/step - loss: 0.8086 - categorical_accuracy: 0.6771\n",
      "Epoch 12/1000\n",
      "6/6 [==============================] - 0s 65ms/step - loss: 0.6998 - categorical_accuracy: 0.7240\n",
      "Epoch 13/1000\n",
      "6/6 [==============================] - 0s 56ms/step - loss: 0.6992 - categorical_accuracy: 0.7396\n",
      "Epoch 14/1000\n",
      "6/6 [==============================] - 0s 65ms/step - loss: 0.6673 - categorical_accuracy: 0.7708\n",
      "Epoch 15/1000\n",
      "6/6 [==============================] - 0s 63ms/step - loss: 0.5060 - categorical_accuracy: 0.8438\n",
      "Epoch 16/1000\n",
      "6/6 [==============================] - 0s 64ms/step - loss: 0.4523 - categorical_accuracy: 0.8177\n",
      "Epoch 17/1000\n",
      "6/6 [==============================] - 0s 50ms/step - loss: 2.3990 - categorical_accuracy: 0.7083\n",
      "Epoch 18/1000\n",
      "6/6 [==============================] - 0s 65ms/step - loss: 1.3044 - categorical_accuracy: 0.6250\n",
      "Epoch 19/1000\n",
      "6/6 [==============================] - 0s 62ms/step - loss: 1.3066 - categorical_accuracy: 0.5677\n",
      "Epoch 20/1000\n",
      "6/6 [==============================] - 0s 64ms/step - loss: 1.2728 - categorical_accuracy: 0.6667\n",
      "Epoch 21/1000\n",
      "6/6 [==============================] - 0s 64ms/step - loss: 1.2523 - categorical_accuracy: 0.8073\n",
      "Epoch 22/1000\n",
      "6/6 [==============================] - 0s 61ms/step - loss: 1.1356 - categorical_accuracy: 0.7500\n",
      "Epoch 23/1000\n",
      "6/6 [==============================] - 0s 62ms/step - loss: 0.9349 - categorical_accuracy: 0.6771\n",
      "Epoch 24/1000\n",
      "6/6 [==============================] - 0s 63ms/step - loss: 0.9711 - categorical_accuracy: 0.7240\n",
      "Epoch 25/1000\n",
      "6/6 [==============================] - 0s 58ms/step - loss: 0.8943 - categorical_accuracy: 0.7344\n",
      "Epoch 26/1000\n",
      "6/6 [==============================] - 0s 57ms/step - loss: 0.6327 - categorical_accuracy: 0.8490\n",
      "Epoch 27/1000\n",
      "6/6 [==============================] - 0s 58ms/step - loss: 0.5798 - categorical_accuracy: 0.8229\n",
      "Epoch 28/1000\n",
      "6/6 [==============================] - 0s 65ms/step - loss: 0.6582 - categorical_accuracy: 0.7865\n",
      "Epoch 29/1000\n",
      "6/6 [==============================] - 0s 63ms/step - loss: 0.7279 - categorical_accuracy: 0.7708\n",
      "Epoch 30/1000\n",
      "6/6 [==============================] - 0s 66ms/step - loss: 0.5550 - categorical_accuracy: 0.7969\n",
      "Epoch 31/1000\n",
      "6/6 [==============================] - 0s 60ms/step - loss: 0.4699 - categorical_accuracy: 0.8490\n",
      "Epoch 32/1000\n",
      "6/6 [==============================] - 0s 63ms/step - loss: 0.4231 - categorical_accuracy: 0.8542\n",
      "Epoch 33/1000\n",
      "6/6 [==============================] - 0s 53ms/step - loss: 0.3900 - categorical_accuracy: 0.8542\n",
      "Epoch 34/1000\n",
      "6/6 [==============================] - 0s 59ms/step - loss: 0.3601 - categorical_accuracy: 0.8438\n",
      "Epoch 35/1000\n",
      "6/6 [==============================] - 0s 60ms/step - loss: 0.3455 - categorical_accuracy: 0.8490\n",
      "Epoch 36/1000\n",
      "6/6 [==============================] - 0s 56ms/step - loss: 0.2878 - categorical_accuracy: 0.8698\n",
      "Epoch 37/1000\n",
      "6/6 [==============================] - 0s 62ms/step - loss: 0.2746 - categorical_accuracy: 0.8594\n",
      "Epoch 38/1000\n",
      "6/6 [==============================] - 0s 63ms/step - loss: 0.2738 - categorical_accuracy: 0.8438\n",
      "Epoch 39/1000\n",
      "6/6 [==============================] - 0s 61ms/step - loss: 0.2673 - categorical_accuracy: 0.8646\n",
      "Epoch 40/1000\n",
      "6/6 [==============================] - 0s 60ms/step - loss: 0.2720 - categorical_accuracy: 0.8698\n",
      "Epoch 41/1000\n",
      "6/6 [==============================] - 0s 58ms/step - loss: 0.6044 - categorical_accuracy: 0.7865\n",
      "Epoch 42/1000\n",
      "6/6 [==============================] - 0s 63ms/step - loss: 0.5689 - categorical_accuracy: 0.7500\n",
      "Epoch 43/1000\n",
      "6/6 [==============================] - 0s 63ms/step - loss: 0.4155 - categorical_accuracy: 0.8021\n",
      "Epoch 44/1000\n",
      "6/6 [==============================] - 0s 65ms/step - loss: 0.3655 - categorical_accuracy: 0.8229\n",
      "Epoch 45/1000\n",
      "6/6 [==============================] - 0s 62ms/step - loss: 0.3290 - categorical_accuracy: 0.8438\n",
      "Epoch 46/1000\n",
      "6/6 [==============================] - 0s 63ms/step - loss: 0.3117 - categorical_accuracy: 0.8490\n",
      "Epoch 47/1000\n",
      "6/6 [==============================] - 0s 63ms/step - loss: 0.2819 - categorical_accuracy: 0.8490\n",
      "Epoch 48/1000\n",
      "6/6 [==============================] - 0s 59ms/step - loss: 0.2612 - categorical_accuracy: 0.8542\n",
      "Epoch 49/1000\n",
      "6/6 [==============================] - 0s 63ms/step - loss: 0.2541 - categorical_accuracy: 0.8542\n",
      "Epoch 50/1000\n",
      "6/6 [==============================] - 0s 62ms/step - loss: 0.2398 - categorical_accuracy: 0.8958\n",
      "Epoch 51/1000\n",
      "6/6 [==============================] - 0s 65ms/step - loss: 0.2347 - categorical_accuracy: 0.8906\n",
      "Epoch 52/1000\n",
      "6/6 [==============================] - 0s 65ms/step - loss: 0.2376 - categorical_accuracy: 0.8698\n",
      "Epoch 53/1000\n",
      "6/6 [==============================] - 0s 60ms/step - loss: 0.2152 - categorical_accuracy: 0.9010\n",
      "Epoch 54/1000\n",
      "6/6 [==============================] - 0s 58ms/step - loss: 0.2398 - categorical_accuracy: 0.8490\n",
      "Epoch 55/1000\n",
      "6/6 [==============================] - 0s 52ms/step - loss: 0.2849 - categorical_accuracy: 0.8646\n",
      "Epoch 56/1000\n",
      "6/6 [==============================] - 0s 66ms/step - loss: 0.4296 - categorical_accuracy: 0.8438\n",
      "Epoch 57/1000\n",
      "6/6 [==============================] - 0s 66ms/step - loss: 0.3203 - categorical_accuracy: 0.8750\n",
      "Epoch 58/1000\n",
      "6/6 [==============================] - 0s 55ms/step - loss: 0.2625 - categorical_accuracy: 0.8854\n",
      "Epoch 59/1000\n",
      "6/6 [==============================] - 0s 50ms/step - loss: 0.2677 - categorical_accuracy: 0.8698\n",
      "Epoch 60/1000\n",
      "6/6 [==============================] - 0s 58ms/step - loss: 0.2342 - categorical_accuracy: 0.8906\n",
      "Epoch 61/1000\n",
      "6/6 [==============================] - 0s 48ms/step - loss: 0.2226 - categorical_accuracy: 0.8958\n",
      "Epoch 62/1000\n",
      "6/6 [==============================] - 0s 50ms/step - loss: 0.2185 - categorical_accuracy: 0.9010\n",
      "Epoch 63/1000\n",
      "6/6 [==============================] - 0s 49ms/step - loss: 0.2065 - categorical_accuracy: 0.9062\n",
      "Epoch 64/1000\n",
      "6/6 [==============================] - 0s 56ms/step - loss: 0.2061 - categorical_accuracy: 0.9062\n",
      "Epoch 65/1000\n",
      "6/6 [==============================] - 0s 56ms/step - loss: 0.2187 - categorical_accuracy: 0.8802\n",
      "Epoch 66/1000\n",
      "6/6 [==============================] - 0s 62ms/step - loss: 0.2176 - categorical_accuracy: 0.8802\n",
      "Epoch 67/1000\n",
      "6/6 [==============================] - 0s 63ms/step - loss: 0.2026 - categorical_accuracy: 0.8958\n",
      "Epoch 68/1000\n",
      "6/6 [==============================] - 0s 63ms/step - loss: 0.1958 - categorical_accuracy: 0.9062\n",
      "Epoch 69/1000\n",
      "6/6 [==============================] - 0s 65ms/step - loss: 0.1947 - categorical_accuracy: 0.9115\n",
      "Epoch 70/1000\n",
      "6/6 [==============================] - 0s 65ms/step - loss: 0.2145 - categorical_accuracy: 0.8854\n",
      "Epoch 71/1000\n",
      "6/6 [==============================] - 0s 64ms/step - loss: 0.2299 - categorical_accuracy: 0.8750\n",
      "Epoch 72/1000\n",
      "6/6 [==============================] - 0s 60ms/step - loss: 0.2177 - categorical_accuracy: 0.8854\n",
      "Epoch 73/1000\n",
      "6/6 [==============================] - 0s 64ms/step - loss: 0.1932 - categorical_accuracy: 0.9062\n",
      "Epoch 74/1000\n",
      "6/6 [==============================] - 0s 66ms/step - loss: 0.1934 - categorical_accuracy: 0.9115\n",
      "Epoch 75/1000\n",
      "6/6 [==============================] - 0s 63ms/step - loss: 0.2251 - categorical_accuracy: 0.8750\n",
      "Epoch 76/1000\n",
      "6/6 [==============================] - 0s 60ms/step - loss: 0.2012 - categorical_accuracy: 0.9062\n",
      "Epoch 77/1000\n",
      "6/6 [==============================] - 0s 62ms/step - loss: 0.2030 - categorical_accuracy: 0.8854\n",
      "Epoch 78/1000\n",
      "6/6 [==============================] - 0s 67ms/step - loss: 0.2044 - categorical_accuracy: 0.8854\n",
      "Epoch 79/1000\n",
      "6/6 [==============================] - 0s 67ms/step - loss: 0.2024 - categorical_accuracy: 0.8802\n",
      "Epoch 80/1000\n",
      "6/6 [==============================] - 0s 67ms/step - loss: 0.1857 - categorical_accuracy: 0.9115\n",
      "Epoch 81/1000\n",
      "6/6 [==============================] - 0s 68ms/step - loss: 0.1798 - categorical_accuracy: 0.9167\n",
      "Epoch 82/1000\n",
      "6/6 [==============================] - 0s 67ms/step - loss: 0.2018 - categorical_accuracy: 0.8958\n",
      "Epoch 83/1000\n",
      "6/6 [==============================] - 0s 62ms/step - loss: 0.1728 - categorical_accuracy: 0.9010\n",
      "Epoch 84/1000\n",
      "6/6 [==============================] - 0s 67ms/step - loss: 0.1796 - categorical_accuracy: 0.9062\n",
      "Epoch 85/1000\n",
      "6/6 [==============================] - 0s 65ms/step - loss: 0.1834 - categorical_accuracy: 0.9062\n",
      "Epoch 86/1000\n",
      "6/6 [==============================] - 0s 58ms/step - loss: 0.1826 - categorical_accuracy: 0.9219\n",
      "Epoch 87/1000\n",
      "6/6 [==============================] - 0s 65ms/step - loss: 0.1908 - categorical_accuracy: 0.9062\n",
      "Epoch 88/1000\n",
      "6/6 [==============================] - 0s 64ms/step - loss: 0.1889 - categorical_accuracy: 0.9062\n",
      "Epoch 89/1000\n",
      "6/6 [==============================] - 0s 68ms/step - loss: 0.1880 - categorical_accuracy: 0.9323\n",
      "Epoch 90/1000\n",
      "6/6 [==============================] - 0s 62ms/step - loss: 0.1709 - categorical_accuracy: 0.8958\n",
      "Epoch 91/1000\n",
      "6/6 [==============================] - 0s 68ms/step - loss: 0.1641 - categorical_accuracy: 0.9167\n",
      "Epoch 92/1000\n",
      "6/6 [==============================] - 0s 68ms/step - loss: 0.1637 - categorical_accuracy: 0.8958\n",
      "Epoch 93/1000\n",
      "6/6 [==============================] - 0s 67ms/step - loss: 0.1999 - categorical_accuracy: 0.9062\n",
      "Epoch 94/1000\n",
      "6/6 [==============================] - 0s 60ms/step - loss: 0.1858 - categorical_accuracy: 0.9010\n",
      "Epoch 95/1000\n",
      "6/6 [==============================] - 0s 67ms/step - loss: 0.1878 - categorical_accuracy: 0.9010\n",
      "Epoch 96/1000\n",
      "6/6 [==============================] - 0s 51ms/step - loss: 0.1837 - categorical_accuracy: 0.9010\n",
      "Epoch 97/1000\n",
      "6/6 [==============================] - 0s 56ms/step - loss: 0.1878 - categorical_accuracy: 0.9010\n",
      "Epoch 98/1000\n",
      "6/6 [==============================] - 0s 63ms/step - loss: 0.1909 - categorical_accuracy: 0.9010\n",
      "Epoch 99/1000\n",
      "6/6 [==============================] - 0s 65ms/step - loss: 0.1995 - categorical_accuracy: 0.8802\n",
      "Epoch 100/1000\n",
      "6/6 [==============================] - 0s 66ms/step - loss: 0.1844 - categorical_accuracy: 0.8958\n",
      "Epoch 101/1000\n",
      "6/6 [==============================] - 0s 63ms/step - loss: 0.1666 - categorical_accuracy: 0.9167\n",
      "Epoch 102/1000\n",
      "6/6 [==============================] - 0s 66ms/step - loss: 0.1633 - categorical_accuracy: 0.9167\n",
      "Epoch 103/1000\n",
      "6/6 [==============================] - 0s 63ms/step - loss: 0.1739 - categorical_accuracy: 0.9062\n",
      "Epoch 104/1000\n",
      "6/6 [==============================] - 0s 67ms/step - loss: 0.2056 - categorical_accuracy: 0.8854\n",
      "Epoch 105/1000\n",
      "6/6 [==============================] - 0s 57ms/step - loss: 1.3579 - categorical_accuracy: 0.7760\n",
      "Epoch 106/1000\n",
      "6/6 [==============================] - 0s 64ms/step - loss: 1.1607 - categorical_accuracy: 0.6354\n",
      "Epoch 107/1000\n",
      "6/6 [==============================] - 0s 61ms/step - loss: 0.5325 - categorical_accuracy: 0.7396\n",
      "Epoch 108/1000\n",
      "6/6 [==============================] - 0s 62ms/step - loss: 0.5531 - categorical_accuracy: 0.7135\n",
      "Epoch 109/1000\n",
      "6/6 [==============================] - 0s 64ms/step - loss: 0.4711 - categorical_accuracy: 0.7344\n",
      "Epoch 110/1000\n",
      "6/6 [==============================] - 0s 62ms/step - loss: 0.6288 - categorical_accuracy: 0.7552\n",
      "Epoch 111/1000\n",
      "6/6 [==============================] - 0s 67ms/step - loss: 0.4647 - categorical_accuracy: 0.8021\n",
      "Epoch 112/1000\n",
      "6/6 [==============================] - 0s 65ms/step - loss: 0.3920 - categorical_accuracy: 0.8490\n",
      "Epoch 113/1000\n",
      "6/6 [==============================] - 0s 63ms/step - loss: 0.3424 - categorical_accuracy: 0.8490\n",
      "Epoch 114/1000\n",
      "6/6 [==============================] - 0s 63ms/step - loss: 0.3090 - categorical_accuracy: 0.8490\n",
      "Epoch 115/1000\n",
      "6/6 [==============================] - 0s 63ms/step - loss: 0.2689 - categorical_accuracy: 0.8490\n",
      "Epoch 116/1000\n",
      "6/6 [==============================] - 0s 50ms/step - loss: 0.2437 - categorical_accuracy: 0.8594\n",
      "Epoch 117/1000\n",
      "6/6 [==============================] - 0s 65ms/step - loss: 0.2503 - categorical_accuracy: 0.8646\n",
      "Epoch 118/1000\n",
      "6/6 [==============================] - 0s 60ms/step - loss: 0.2210 - categorical_accuracy: 0.8750\n",
      "Epoch 119/1000\n",
      "6/6 [==============================] - 0s 64ms/step - loss: 0.2087 - categorical_accuracy: 0.9010\n",
      "Epoch 120/1000\n",
      "6/6 [==============================] - 0s 60ms/step - loss: 0.1998 - categorical_accuracy: 0.9010\n",
      "Epoch 121/1000\n",
      "6/6 [==============================] - 0s 57ms/step - loss: 0.1930 - categorical_accuracy: 0.9010\n",
      "Epoch 122/1000\n",
      "6/6 [==============================] - 0s 58ms/step - loss: 0.1852 - categorical_accuracy: 0.9010\n",
      "Epoch 123/1000\n",
      "6/6 [==============================] - 0s 65ms/step - loss: 0.1815 - categorical_accuracy: 0.9010\n",
      "Epoch 124/1000\n",
      "6/6 [==============================] - 0s 65ms/step - loss: 0.1779 - categorical_accuracy: 0.9010\n",
      "Epoch 125/1000\n",
      "6/6 [==============================] - 0s 61ms/step - loss: 0.1598 - categorical_accuracy: 0.9271\n",
      "Epoch 126/1000\n",
      "6/6 [==============================] - 0s 65ms/step - loss: 2.8454 - categorical_accuracy: 0.5469\n",
      "Epoch 127/1000\n",
      "6/6 [==============================] - 0s 63ms/step - loss: 1.1936 - categorical_accuracy: 0.4896\n",
      "Epoch 128/1000\n",
      "6/6 [==============================] - 0s 53ms/step - loss: 0.9838 - categorical_accuracy: 0.5260\n",
      "Epoch 129/1000\n",
      "6/6 [==============================] - 0s 59ms/step - loss: 0.9074 - categorical_accuracy: 0.5052\n",
      "Epoch 130/1000\n",
      "6/6 [==============================] - 0s 65ms/step - loss: 0.8569 - categorical_accuracy: 0.5052\n",
      "Epoch 131/1000\n",
      "6/6 [==============================] - 0s 64ms/step - loss: 0.8110 - categorical_accuracy: 0.5052\n",
      "Epoch 132/1000\n",
      "6/6 [==============================] - 0s 49ms/step - loss: 0.7727 - categorical_accuracy: 0.5052\n",
      "Epoch 133/1000\n",
      "6/6 [==============================] - 0s 52ms/step - loss: 0.7343 - categorical_accuracy: 0.6094\n",
      "Epoch 134/1000\n",
      "6/6 [==============================] - 0s 53ms/step - loss: 0.6898 - categorical_accuracy: 0.8073\n",
      "Epoch 135/1000\n",
      "6/6 [==============================] - 0s 52ms/step - loss: 0.6470 - categorical_accuracy: 0.7865\n",
      "Epoch 136/1000\n",
      "6/6 [==============================] - 0s 64ms/step - loss: 3.2643 - categorical_accuracy: 0.6771\n",
      "Epoch 137/1000\n",
      "6/6 [==============================] - 0s 65ms/step - loss: 11.5389 - categorical_accuracy: 0.3281\n",
      "Epoch 138/1000\n",
      "6/6 [==============================] - 0s 66ms/step - loss: 1.2246 - categorical_accuracy: 0.3594\n",
      "Epoch 139/1000\n",
      "6/6 [==============================] - 0s 64ms/step - loss: 1.2053 - categorical_accuracy: 0.3906\n",
      "Epoch 140/1000\n",
      "6/6 [==============================] - 0s 59ms/step - loss: 1.1723 - categorical_accuracy: 0.3802\n",
      "Epoch 141/1000\n",
      "6/6 [==============================] - 0s 60ms/step - loss: 1.1458 - categorical_accuracy: 0.3281\n",
      "Epoch 142/1000\n",
      "6/6 [==============================] - 0s 58ms/step - loss: 1.0979 - categorical_accuracy: 0.2604\n",
      "Epoch 143/1000\n",
      "6/6 [==============================] - 0s 58ms/step - loss: 1.0506 - categorical_accuracy: 0.3125\n",
      "Epoch 144/1000\n",
      "6/6 [==============================] - 0s 65ms/step - loss: 0.9836 - categorical_accuracy: 0.4896\n",
      "Epoch 145/1000\n"
     ]
    },
    {
     "name": "stdout",
     "output_type": "stream",
     "text": [
      "6/6 [==============================] - 0s 65ms/step - loss: 0.8669 - categorical_accuracy: 0.7812\n",
      "Epoch 146/1000\n",
      "6/6 [==============================] - 0s 66ms/step - loss: 1.0929 - categorical_accuracy: 0.7396\n",
      "Epoch 147/1000\n",
      "6/6 [==============================] - 0s 65ms/step - loss: 1.2133 - categorical_accuracy: 0.4167\n",
      "Epoch 148/1000\n",
      "6/6 [==============================] - 0s 67ms/step - loss: 0.9281 - categorical_accuracy: 0.6094\n",
      "Epoch 149/1000\n",
      "6/6 [==============================] - 0s 67ms/step - loss: 0.8871 - categorical_accuracy: 0.6562\n",
      "Epoch 150/1000\n",
      "6/6 [==============================] - 0s 67ms/step - loss: 0.8306 - categorical_accuracy: 0.7448\n",
      "Epoch 151/1000\n",
      "6/6 [==============================] - 0s 56ms/step - loss: 0.7565 - categorical_accuracy: 0.7812\n",
      "Epoch 152/1000\n",
      "6/6 [==============================] - 0s 68ms/step - loss: 0.6768 - categorical_accuracy: 0.8281\n",
      "Epoch 153/1000\n",
      "6/6 [==============================] - 0s 64ms/step - loss: 0.6115 - categorical_accuracy: 0.8281\n",
      "Epoch 154/1000\n",
      "6/6 [==============================] - 0s 66ms/step - loss: 0.5569 - categorical_accuracy: 0.8438\n",
      "Epoch 155/1000\n",
      "6/6 [==============================] - 0s 66ms/step - loss: 0.5129 - categorical_accuracy: 0.8385\n",
      "Epoch 156/1000\n",
      "6/6 [==============================] - 0s 67ms/step - loss: 0.4510 - categorical_accuracy: 0.8438\n",
      "Epoch 157/1000\n",
      "6/6 [==============================] - 0s 68ms/step - loss: 0.3935 - categorical_accuracy: 0.8438\n",
      "Epoch 158/1000\n",
      "6/6 [==============================] - 0s 67ms/step - loss: 0.7327 - categorical_accuracy: 0.6458\n",
      "Epoch 159/1000\n",
      "6/6 [==============================] - 0s 64ms/step - loss: 0.9320 - categorical_accuracy: 0.5469\n",
      "Epoch 160/1000\n",
      "6/6 [==============================] - 0s 66ms/step - loss: 0.5479 - categorical_accuracy: 0.7865\n",
      "Epoch 161/1000\n",
      "6/6 [==============================] - 0s 63ms/step - loss: 0.4733 - categorical_accuracy: 0.7708\n",
      "Epoch 162/1000\n",
      "6/6 [==============================] - 0s 60ms/step - loss: 0.4231 - categorical_accuracy: 0.8490\n",
      "Epoch 163/1000\n",
      "6/6 [==============================] - 0s 63ms/step - loss: 0.3909 - categorical_accuracy: 0.8750\n",
      "Epoch 164/1000\n",
      "6/6 [==============================] - 0s 61ms/step - loss: 0.3471 - categorical_accuracy: 0.8490\n",
      "Epoch 165/1000\n",
      "6/6 [==============================] - 0s 65ms/step - loss: 0.3444 - categorical_accuracy: 0.8229\n",
      "Epoch 166/1000\n",
      "6/6 [==============================] - 0s 61ms/step - loss: 0.3431 - categorical_accuracy: 0.8490\n",
      "Epoch 167/1000\n",
      "6/6 [==============================] - 0s 50ms/step - loss: 0.3541 - categorical_accuracy: 0.8438\n",
      "Epoch 168/1000\n",
      "6/6 [==============================] - 0s 59ms/step - loss: 0.3169 - categorical_accuracy: 0.8490\n",
      "Epoch 169/1000\n",
      "6/6 [==============================] - 0s 54ms/step - loss: 0.3025 - categorical_accuracy: 0.8438\n",
      "Epoch 170/1000\n",
      "6/6 [==============================] - 0s 51ms/step - loss: 0.3144 - categorical_accuracy: 0.8542\n",
      "Epoch 171/1000\n",
      "6/6 [==============================] - 0s 54ms/step - loss: 0.3256 - categorical_accuracy: 0.8177\n",
      "Epoch 172/1000\n",
      "6/6 [==============================] - 0s 50ms/step - loss: 0.2905 - categorical_accuracy: 0.8490\n",
      "Epoch 173/1000\n",
      "6/6 [==============================] - 0s 52ms/step - loss: 0.2828 - categorical_accuracy: 0.8385\n",
      "Epoch 174/1000\n",
      "6/6 [==============================] - 0s 57ms/step - loss: 0.2671 - categorical_accuracy: 0.8698\n",
      "Epoch 175/1000\n",
      "6/6 [==============================] - 0s 62ms/step - loss: 0.2589 - categorical_accuracy: 0.8594\n",
      "Epoch 176/1000\n",
      "6/6 [==============================] - 0s 62ms/step - loss: 0.2476 - categorical_accuracy: 0.8750\n",
      "Epoch 177/1000\n",
      "6/6 [==============================] - 0s 51ms/step - loss: 0.2307 - categorical_accuracy: 0.8802\n",
      "Epoch 178/1000\n",
      "6/6 [==============================] - 0s 48ms/step - loss: 0.2736 - categorical_accuracy: 0.8854\n",
      "Epoch 179/1000\n",
      "6/6 [==============================] - 0s 49ms/step - loss: 0.2317 - categorical_accuracy: 0.8750\n",
      "Epoch 180/1000\n",
      "6/6 [==============================] - 0s 57ms/step - loss: 0.2247 - categorical_accuracy: 0.8802\n",
      "Epoch 181/1000\n",
      "6/6 [==============================] - 0s 55ms/step - loss: 0.2896 - categorical_accuracy: 0.8646\n",
      "Epoch 182/1000\n",
      "6/6 [==============================] - 0s 52ms/step - loss: 0.6609 - categorical_accuracy: 0.7812\n",
      "Epoch 183/1000\n",
      "6/6 [==============================] - 0s 50ms/step - loss: 0.7331 - categorical_accuracy: 0.5990 0s - loss: 0.7926 - categorical_accuracy\n",
      "Epoch 184/1000\n",
      "6/6 [==============================] - 0s 53ms/step - loss: 0.5100 - categorical_accuracy: 0.7708\n",
      "Epoch 185/1000\n",
      "6/6 [==============================] - 0s 52ms/step - loss: 0.3622 - categorical_accuracy: 0.8438\n",
      "Epoch 186/1000\n",
      "6/6 [==============================] - 0s 47ms/step - loss: 0.3234 - categorical_accuracy: 0.8490\n",
      "Epoch 187/1000\n",
      "6/6 [==============================] - 0s 55ms/step - loss: 0.2976 - categorical_accuracy: 0.8490\n",
      "Epoch 188/1000\n",
      "6/6 [==============================] - 0s 54ms/step - loss: 0.2793 - categorical_accuracy: 0.8490\n",
      "Epoch 189/1000\n",
      "6/6 [==============================] - ETA: 0s - loss: 0.2560 - categorical_accuracy: 0.8542Restoring model weights from the end of the best epoch.\n",
      "6/6 [==============================] - 0s 56ms/step - loss: 0.2560 - categorical_accuracy: 0.8542\n",
      "Epoch 00189: early stopping\n"
     ]
    },
    {
     "data": {
      "text/plain": [
       "<tensorflow.python.keras.callbacks.History at 0x19d2f168448>"
      ]
     },
     "execution_count": 141,
     "metadata": {},
     "output_type": "execute_result"
    }
   ],
   "source": [
    "model.fit(X_train, y_train, epochs=1000, callbacks=[early_stopping])"
   ]
  },
  {
   "cell_type": "code",
   "execution_count": 142,
   "metadata": {
    "scrolled": true
   },
   "outputs": [
    {
     "name": "stdout",
     "output_type": "stream",
     "text": [
      "Model: \"sequential_12\"\n",
      "_________________________________________________________________\n",
      "Layer (type)                 Output Shape              Param #   \n",
      "=================================================================\n",
      "lstm_36 (LSTM)               (None, 30, 64)            48896     \n",
      "_________________________________________________________________\n",
      "lstm_37 (LSTM)               (None, 30, 128)           98816     \n",
      "_________________________________________________________________\n",
      "lstm_38 (LSTM)               (None, 64)                49408     \n",
      "_________________________________________________________________\n",
      "dense_36 (Dense)             (None, 64)                4160      \n",
      "_________________________________________________________________\n",
      "dense_37 (Dense)             (None, 32)                2080      \n",
      "_________________________________________________________________\n",
      "dense_38 (Dense)             (None, 4)                 132       \n",
      "=================================================================\n",
      "Total params: 203,492\n",
      "Trainable params: 203,492\n",
      "Non-trainable params: 0\n",
      "_________________________________________________________________\n"
     ]
    }
   ],
   "source": [
    "model.summary()"
   ]
  },
  {
   "cell_type": "code",
   "execution_count": 143,
   "metadata": {},
   "outputs": [],
   "source": [
    "model.save('action_hireme.h5')"
   ]
  },
  {
   "cell_type": "code",
   "execution_count": 65,
   "metadata": {},
   "outputs": [],
   "source": [
    "# model.load_weights('hire_v2.h5')"
   ]
  },
  {
   "cell_type": "markdown",
   "metadata": {},
   "source": [
    "## Test Detection, Demo"
   ]
  },
  {
   "cell_type": "code",
   "execution_count": 7,
   "metadata": {},
   "outputs": [],
   "source": [
    "from tensorflow.keras.models import Sequential\n",
    "from tensorflow.keras.layers import LSTM, Dense\n",
    "\n",
    "# Define actions\n",
    "actions = np.array(['hire', 'me', 'please', 'Google'])\n",
    "\n",
    "# Model import\n",
    "model = Sequential()\n",
    "model.add(LSTM(64, return_sequences=True, activation='relu', input_shape=(30,126)))\n",
    "model.add(LSTM(128, return_sequences=True, activation='relu'))\n",
    "model.add(LSTM(64, return_sequences=False, activation='relu'))\n",
    "model.add(Dense(64, activation='relu'))\n",
    "model.add(Dense(32, activation='relu'))\n",
    "model.add(Dense(actions.shape[0], activation='softmax'))\n",
    "\n",
    "model.load_weights('action_hireme.h5')\n"
   ]
  },
  {
   "cell_type": "code",
   "execution_count": 18,
   "metadata": {},
   "outputs": [],
   "source": [
    "# Testing implementation of text to speech\n",
    "s = pyttsx3.init()           #for tts\n",
    "s.setProperty('rate', 100)     # setting up new voice rate\n",
    "voices = s.getProperty('voices') \n",
    "s.setProperty('voice', voices[0].id)  #change voice\n",
    "data = \"hire\"  \n",
    "s.say(data)  \n",
    "s.runAndWait()  "
   ]
  },
  {
   "cell_type": "code",
   "execution_count": 12,
   "metadata": {},
   "outputs": [],
   "source": [
    "# Test model with real time webcam video\n",
    "\n",
    "sequence = []        #collect the 30 frames to generate a prediction\n",
    "sentence = []        #concat history of detections\n",
    "predictions = []\n",
    "max_words = 8\n",
    "threshold = 0.8\n",
    "\n",
    "cap = cv2.VideoCapture(0)\n",
    "tts = pyttsx3.init()           #for tts\n",
    "tts.setProperty('rate', 100)\n",
    "\n",
    "# Set mediapipe model \n",
    "with mp_holistic.Holistic(min_detection_confidence=0.5, min_tracking_confidence=0.5) as holistic:\n",
    "    while cap.isOpened():\n",
    "\n",
    "        # Read feed\n",
    "        ret, frame = cap.read()\n",
    "\n",
    "        # Make detections\n",
    "        image, results = mediapipe_detection(frame, holistic)\n",
    "        \n",
    "        # Draw landmarks\n",
    "        draw_styled_landmarks(image, results)\n",
    "        \n",
    "        \n",
    "        if results.right_hand_landmarks or results.left_hand_landmarks:\n",
    "            # Prediction logic\n",
    "            keypoints = extract_keypoints(results)\n",
    "            sequence.append(keypoints)\n",
    "            sequence = sequence[-30:]\n",
    "        \n",
    "            # Make prediction once there is 30 frames in the sequence\n",
    "            if len(sequence) == 30: \n",
    "                res = model.predict(np.expand_dims(sequence, axis=0))[0]\n",
    "                predictions.append(np.argmax(res))\n",
    "                \n",
    "                # Vizualisation logic\n",
    "                if np.unique(predictions[-10:])[0]==np.argmax(res): \n",
    "                    if res[np.argmax(res)] > threshold: \n",
    "\n",
    "                        if len(sentence) > 0: \n",
    "                            if actions[np.argmax(res)] != sentence[-1]:   \n",
    "                                sentence.append(actions[np.argmax(res)])\n",
    "                                tts.say(actions[np.argmax(res)])\n",
    "                                tts.runAndWait()\n",
    "                        else:\n",
    "                            sentence.append(actions[np.argmax(res)])\n",
    "                            tts.say(actions[np.argmax(res)])\n",
    "                            tts.runAndWait()\n",
    "                            \n",
    "        # Skip when no hands are detected\n",
    "        else:   \n",
    "            pass\n",
    "            \n",
    "            if len(sentence) > max_words:          #just grab the last 5 values when sentence has more than 6 words\n",
    "                sentence = sentence[-max_words:]\n",
    "            \n",
    "        cv2.rectangle(image, (0,0), (1280, 40), (245, 139, 76), -1)\n",
    "        cv2.putText(image, ' '.join(sentence), (3,30),                                 # (left-right, up-down)\n",
    "                       cv2.FONT_HERSHEY_SIMPLEX, 1, (255, 255, 255), 2, cv2.LINE_AA)\n",
    "      \n",
    "        # Show to screen\n",
    "        cv2.imshow('OpenCV Feed', image)\n",
    "\n",
    "        # Break gracefully\n",
    "        if cv2.waitKey(10) & 0xFF == ord('q'):\n",
    "            break\n",
    "    cap.release()\n",
    "    cv2.destroyAllWindows()"
   ]
  },
  {
   "cell_type": "code",
   "execution_count": 78,
   "metadata": {},
   "outputs": [],
   "source": [
    "cap.release()\n",
    "cv2.destroyAllWindows()"
   ]
  },
  {
   "cell_type": "markdown",
   "metadata": {},
   "source": [
    "## Mediapipe Holistic Demo\n",
    "- Just to demonstrate mediapipe holistic with its face, pose and hand detection"
   ]
  },
  {
   "cell_type": "code",
   "execution_count": 13,
   "metadata": {},
   "outputs": [],
   "source": [
    "# Video demo for Mediapipe Holistic\n",
    "mp_holistic = mp.solutions.holistic # Holistic model\n",
    "mp_drawing = mp.solutions.drawing_utils # Drawing utilities\n",
    "\n",
    "def mediapipe_detection(image, model):\n",
    "    image = cv2.cvtColor(image, cv2.COLOR_BGR2RGB) # COLOR CONVERSION BGR 2 RGB\n",
    "    image.flags.writeable = False                  # Image is no longer writeable\n",
    "    results = model.process(image)                 # Make prediction\n",
    "    image.flags.writeable = True                   # Image is now writeable \n",
    "    image = cv2.cvtColor(image, cv2.COLOR_RGB2BGR) # COLOR COVERSION RGB 2 BGR\n",
    "    return image, results\n",
    "\n",
    "def draw_landmarks(image, results):\n",
    "    mp_drawing.draw_landmarks(image, results.face_landmarks, mp_holistic.FACEMESH_TESSELATION) # Draw face connections\n",
    "    mp_drawing.draw_landmarks(image, results.pose_landmarks, mp_holistic.POSE_CONNECTIONS) # Draw pose connections\n",
    "    mp_drawing.draw_landmarks(image, results.left_hand_landmarks, mp_holistic.HAND_CONNECTIONS) # Draw left hand connections\n",
    "    mp_drawing.draw_landmarks(image, results.right_hand_landmarks, mp_holistic.HAND_CONNECTIONS) # Draw right hand connections\n",
    "\n",
    "def draw_styled_landmarks(image, results):\n",
    "    # Draw face connections\n",
    "    mp_drawing.draw_landmarks(image, results.face_landmarks, mp_holistic.FACEMESH_TESSELATION, \n",
    "                             mp_drawing.DrawingSpec(color=(80,110,10), thickness=1, circle_radius=1), \n",
    "                             mp_drawing.DrawingSpec(color=(80,256,121), thickness=1, circle_radius=1)\n",
    "                             ) \n",
    "    # Draw pose connections\n",
    "    mp_drawing.draw_landmarks(image, results.pose_landmarks, mp_holistic.POSE_CONNECTIONS,\n",
    "                             mp_drawing.DrawingSpec(color=(60,20,220), thickness=2, circle_radius=1), \n",
    "                             mp_drawing.DrawingSpec(color=(255,144,30), thickness=2, circle_radius=2)\n",
    "                             ) \n",
    "    # Draw left hand connections\n",
    "    mp_drawing.draw_landmarks(image, results.left_hand_landmarks, mp_holistic.HAND_CONNECTIONS, \n",
    "                             mp_drawing.DrawingSpec(color=(60,20,220), thickness=2, circle_radius=1), \n",
    "                             mp_drawing.DrawingSpec(color=(0,255,30), thickness=2, circle_radius=2)\n",
    "                             ) \n",
    "    # Draw right hand connections  \n",
    "    mp_drawing.draw_landmarks(image, results.right_hand_landmarks, mp_holistic.HAND_CONNECTIONS, \n",
    "                             mp_drawing.DrawingSpec(color=(60,20,220), thickness=2, circle_radius=1), \n",
    "                             mp_drawing.DrawingSpec(color=(0,255,30), thickness=2, circle_radius=2)\n",
    "                             ) \n",
    "    \n",
    "def extract_keypoints(results):\n",
    "    pose = np.array([[res.x, res.y, res.z, res.visibility] for res in results.pose_landmarks.landmark]).flatten() if results.pose_landmarks else np.zeros(33*4)\n",
    "    face = np.array([[res.x, res.y, res.z] for res in results.face_landmarks.landmark]).flatten() if results.face_landmarks else np.zeros(468*3)\n",
    "    lh = np.array([[res.x, res.y, res.z] for res in results.left_hand_landmarks.landmark]).flatten() if results.left_hand_landmarks else np.zeros(21*3)\n",
    "    rh = np.array([[res.x, res.y, res.z] for res in results.right_hand_landmarks.landmark]).flatten() if results.right_hand_landmarks else np.zeros(21*3)\n",
    "    return np.concatenate([pose, face, lh, rh])\n",
    "\n",
    "# Check camera set up\n",
    "cap = cv2.VideoCapture(0)\n",
    "cap.set(cv2.CAP_PROP_FRAME_WIDTH, 1280)\n",
    "cap.set(cv2.CAP_PROP_FRAME_HEIGHT, 720)\n",
    "\n",
    "# Set mediapipe model: instantiate the model to fit into detection function\n",
    "with mp_holistic.Holistic(min_detection_confidence=0.5, min_tracking_confidence=0.5) as holistic:\n",
    "    while cap.isOpened():\n",
    "\n",
    "        # Read frame from webcam, return value, frame: image from webcam\n",
    "        ret, frame = cap.read()\n",
    "\n",
    "        # Feed webcam image to mediapipe to Make detections\n",
    "        image, results = mediapipe_detection(frame, holistic)\n",
    "#         print(results)\n",
    "        \n",
    "        # Draw landmarks\n",
    "        draw_styled_landmarks(image, results)\n",
    "\n",
    "        # Show to screen\n",
    "        cv2.imshow('OpenCV Feed', image)\n",
    "\n",
    "        # Break gracefully\n",
    "        if cv2.waitKey(10) & 0xFF == ord('q'):\n",
    "            break\n",
    "    cap.release()\n",
    "    cv2.destroyAllWindows()"
   ]
  },
  {
   "cell_type": "markdown",
   "metadata": {},
   "source": [
    "## Convert model to tflite"
   ]
  },
  {
   "cell_type": "code",
   "execution_count": 80,
   "metadata": {
    "collapsed": true
   },
   "outputs": [
    {
     "name": "stdout",
     "output_type": "stream",
     "text": [
      "WARNING:tensorflow:From C:\\Users\\wushen\\Anaconda3\\lib\\site-packages\\tensorflow\\python\\training\\tracking\\tracking.py:111: Model.state_updates (from tensorflow.python.keras.engine.training) is deprecated and will be removed in a future version.\n",
      "Instructions for updating:\n",
      "This property should not be used in TensorFlow 2.0, as updates are applied automatically.\n"
     ]
    },
    {
     "name": "stderr",
     "output_type": "stream",
     "text": [
      "WARNING:tensorflow:From C:\\Users\\wushen\\Anaconda3\\lib\\site-packages\\tensorflow\\python\\training\\tracking\\tracking.py:111: Model.state_updates (from tensorflow.python.keras.engine.training) is deprecated and will be removed in a future version.\n",
      "Instructions for updating:\n",
      "This property should not be used in TensorFlow 2.0, as updates are applied automatically.\n"
     ]
    },
    {
     "name": "stdout",
     "output_type": "stream",
     "text": [
      "WARNING:tensorflow:From C:\\Users\\wushen\\Anaconda3\\lib\\site-packages\\tensorflow\\python\\training\\tracking\\tracking.py:111: Layer.updates (from tensorflow.python.keras.engine.base_layer) is deprecated and will be removed in a future version.\n",
      "Instructions for updating:\n",
      "This property should not be used in TensorFlow 2.0, as updates are applied automatically.\n"
     ]
    },
    {
     "name": "stderr",
     "output_type": "stream",
     "text": [
      "WARNING:tensorflow:From C:\\Users\\wushen\\Anaconda3\\lib\\site-packages\\tensorflow\\python\\training\\tracking\\tracking.py:111: Layer.updates (from tensorflow.python.keras.engine.base_layer) is deprecated and will be removed in a future version.\n",
      "Instructions for updating:\n",
      "This property should not be used in TensorFlow 2.0, as updates are applied automatically.\n"
     ]
    },
    {
     "name": "stdout",
     "output_type": "stream",
     "text": [
      "INFO:tensorflow:Assets written to: C:\\Users\\wushen\\AppData\\Local\\Temp\\tmp_mad_k0k\\assets\n"
     ]
    },
    {
     "name": "stderr",
     "output_type": "stream",
     "text": [
      "INFO:tensorflow:Assets written to: C:\\Users\\wushen\\AppData\\Local\\Temp\\tmp_mad_k0k\\assets\n"
     ]
    }
   ],
   "source": [
    "import tensorflow as tf\n",
    "\n",
    "converter = tf.lite.TFLiteConverter.from_keras_model(model)\n",
    "tflite_model = converter.convert()\n",
    "\n",
    "# Save the model.\n",
    "with open('sentence1.tflite', 'wb') as f:\n",
    "    f.write(tflite_model)"
   ]
  }
 ],
 "metadata": {
  "kernelspec": {
   "display_name": "Python 3",
   "language": "python",
   "name": "python3"
  },
  "language_info": {
   "codemirror_mode": {
    "name": "ipython",
    "version": 3
   },
   "file_extension": ".py",
   "mimetype": "text/x-python",
   "name": "python",
   "nbconvert_exporter": "python",
   "pygments_lexer": "ipython3",
   "version": "3.7.4"
  }
 },
 "nbformat": 4,
 "nbformat_minor": 2
}
