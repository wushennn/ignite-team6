{
 "cells": [
  {
   "cell_type": "markdown",
   "metadata": {},
   "source": [
    "# Action Detection (Final)\n",
    "- only using RH and LH keypoints\n",
    "- implement checkpoints to save best model\n",
    "\n",
    "Notes for future improvements:\n",
    "1. FACEMESH can map slightly over 1k keypoints on the face, and pose can map 132. \n",
    "    - FACEMESH can introduce possibility to include facial expressions that can pair with handsigns to help better translate the word, as there are some handsigns that can have another meaning based on context/ emotions\n",
    "    - POSE can help in terms of real life scenario and filming the whole body with the phone or more of the upper body, and it can be taken into account to improve accuracy\n",
    "    * However, as our dataset is very small, we will not be using these points as they negatively influence the prediction. Implementation will need more work in this area\n",
    "2. Can include a demo for mediapipe in terms of full capabilities (or just take from their website)"
   ]
  },
  {
   "cell_type": "code",
   "execution_count": 1,
   "metadata": {},
   "outputs": [],
   "source": [
    "import cv2\n",
    "import numpy as np\n",
    "import os\n",
    "from matplotlib import pyplot as plt\n",
    "import time\n",
    "import mediapipe as mp\n",
    "import pyttsx3\n",
    "# !pip3 freeze"
   ]
  },
  {
   "cell_type": "code",
   "execution_count": 2,
   "metadata": {},
   "outputs": [],
   "source": [
    "mp_holistic = mp.solutions.holistic # Holistic model\n",
    "mp_drawing = mp.solutions.drawing_utils # Drawing utilities\n",
    "\n",
    "def mediapipe_detection(image, model):\n",
    "    image = cv2.cvtColor(image, cv2.COLOR_BGR2RGB) # COLOR CONVERSION BGR 2 RGB\n",
    "    image.flags.writeable = False                  # Image is no longer writeable\n",
    "    results = model.process(image)                 # Make prediction\n",
    "    image.flags.writeable = True                   # Image is now writeable \n",
    "    image = cv2.cvtColor(image, cv2.COLOR_RGB2BGR) # COLOR COVERSION RGB 2 BGR\n",
    "    return image, results\n",
    "\n",
    "def draw_landmarks(image, results):\n",
    "    mp_drawing.draw_landmarks(image, results.left_hand_landmarks, mp_holistic.HAND_CONNECTIONS) # Draw left hand connections\n",
    "    mp_drawing.draw_landmarks(image, results.right_hand_landmarks, mp_holistic.HAND_CONNECTIONS) # Draw right hand connections\n",
    "\n",
    "def draw_styled_landmarks(image, results):\n",
    "    # Draw left hand connections\n",
    "    mp_drawing.draw_landmarks(image, results.left_hand_landmarks, mp_holistic.HAND_CONNECTIONS, \n",
    "                             mp_drawing.DrawingSpec(color=(60,20,220), thickness=2, circle_radius=1), \n",
    "                             mp_drawing.DrawingSpec(color=(0,255,30), thickness=2, circle_radius=2)\n",
    "                             ) \n",
    "    # Draw right hand connections  \n",
    "    mp_drawing.draw_landmarks(image, results.right_hand_landmarks, mp_holistic.HAND_CONNECTIONS, \n",
    "                             mp_drawing.DrawingSpec(color=(60,20,220), thickness=2, circle_radius=1), \n",
    "                             mp_drawing.DrawingSpec(color=(0,255,30), thickness=2, circle_radius=2)\n",
    "                             ) \n",
    "    \n",
    "def extract_keypoints(results):\n",
    "    lh = np.array([[res.x, res.y, res.z] for res in results.left_hand_landmarks.landmark]).flatten() if results.left_hand_landmarks else np.zeros(21*3)\n",
    "    rh = np.array([[res.x, res.y, res.z] for res in results.right_hand_landmarks.landmark]).flatten() if results.right_hand_landmarks else np.zeros(21*3)\n",
    "    return np.concatenate([lh, rh])"
   ]
  },
  {
   "cell_type": "code",
   "execution_count": 59,
   "metadata": {},
   "outputs": [],
   "source": [
    "# Check camera set up\n",
    "cap = cv2.VideoCapture(0)\n",
    "# Set mediapipe model: instantiate the model to fit into detection function\n",
    "cap.set(cv2.CAP_PROP_FRAME_WIDTH, 1280)\n",
    "cap.set(cv2.CAP_PROP_FRAME_HEIGHT, 720)\n",
    "\n",
    "with mp_holistic.Holistic(min_detection_confidence=0.5, min_tracking_confidence=0.5) as holistic:\n",
    "    while cap.isOpened():\n",
    "\n",
    "        # Read frame from webcam, return value, frame: image from webcam\n",
    "        ret, frame = cap.read()\n",
    "\n",
    "        # Feed webcam image to mediapipe to Make detections\n",
    "        image, results = mediapipe_detection(frame, holistic)\n",
    "        \n",
    "        # Draw landmarks\n",
    "        draw_styled_landmarks(image, results)\n",
    "\n",
    "        # Show to screen\n",
    "        cv2.imshow('OpenCV Feed', image)\n",
    "\n",
    "        # Break gracefully\n",
    "        if cv2.waitKey(10) & 0xFF == ord('q'):\n",
    "            break\n",
    "    cap.release()\n",
    "    cv2.destroyAllWindows()"
   ]
  },
  {
   "cell_type": "code",
   "execution_count": 30,
   "metadata": {},
   "outputs": [],
   "source": [
    "cap.release()\n",
    "cv2.destroyAllWindows()"
   ]
  },
  {
   "cell_type": "markdown",
   "metadata": {},
   "source": [
    "## Setup Folder Collection"
   ]
  },
  {
   "cell_type": "code",
   "execution_count": 131,
   "metadata": {},
   "outputs": [],
   "source": [
    "# Path for exported data, numpy arrays\n",
    "DATA_PATH = os.path.join('hire') \n",
    "\n",
    "# Actions that we try to detect\n",
    "actions = np.array(['please', 'hire', 'me', 'google'])\n",
    "# actions = np.array(['please', 'hire'])\n",
    "\n",
    "# Thirty videos worth of data\n",
    "no_sequences = 40\n",
    "\n",
    "# Videos are going to be 30 frames in length\n",
    "sequence_length = 30"
   ]
  },
  {
   "cell_type": "code",
   "execution_count": 114,
   "metadata": {},
   "outputs": [
    {
     "data": {
      "text/plain": [
       "2"
      ]
     },
     "execution_count": 114,
     "metadata": {},
     "output_type": "execute_result"
    }
   ],
   "source": [
    "actions.shape[0]"
   ]
  },
  {
   "cell_type": "code",
   "execution_count": 116,
   "metadata": {},
   "outputs": [],
   "source": [
    "for action in actions: \n",
    "    for sequence in range(no_sequences):\n",
    "        try: \n",
    "            os.makedirs(os.path.join(DATA_PATH, action, str(sequence)))\n",
    "        except:\n",
    "            pass"
   ]
  },
  {
   "cell_type": "markdown",
   "metadata": {},
   "source": [
    "## Collect keypoints for training"
   ]
  },
  {
   "cell_type": "code",
   "execution_count": 120,
   "metadata": {
    "collapsed": true
   },
   "outputs": [
    {
     "ename": "FileNotFoundError",
     "evalue": "[Errno 2] No such file or directory: 'hire2\\\\please\\\\50\\\\0.npy'",
     "output_type": "error",
     "traceback": [
      "\u001b[1;31m---------------------------------------------------------------------------\u001b[0m",
      "\u001b[1;31mFileNotFoundError\u001b[0m                         Traceback (most recent call last)",
      "\u001b[1;32m<ipython-input-120-ee3530d002c8>\u001b[0m in \u001b[0;36m<module>\u001b[1;34m\u001b[0m\n\u001b[0;32m     39\u001b[0m                 \u001b[0mkeypoints\u001b[0m \u001b[1;33m=\u001b[0m \u001b[0mextract_keypoints\u001b[0m\u001b[1;33m(\u001b[0m\u001b[0mresults\u001b[0m\u001b[1;33m)\u001b[0m\u001b[1;33m\u001b[0m\u001b[1;33m\u001b[0m\u001b[0m\n\u001b[0;32m     40\u001b[0m                 \u001b[0mnpy_path\u001b[0m \u001b[1;33m=\u001b[0m \u001b[0mos\u001b[0m\u001b[1;33m.\u001b[0m\u001b[0mpath\u001b[0m\u001b[1;33m.\u001b[0m\u001b[0mjoin\u001b[0m\u001b[1;33m(\u001b[0m\u001b[0mDATA_PATH\u001b[0m\u001b[1;33m,\u001b[0m \u001b[0maction\u001b[0m\u001b[1;33m,\u001b[0m \u001b[0mstr\u001b[0m\u001b[1;33m(\u001b[0m\u001b[0msequence\u001b[0m\u001b[1;33m+\u001b[0m\u001b[1;36m50\u001b[0m\u001b[1;33m)\u001b[0m\u001b[1;33m,\u001b[0m \u001b[0mstr\u001b[0m\u001b[1;33m(\u001b[0m\u001b[0mframe_num\u001b[0m\u001b[1;33m)\u001b[0m\u001b[1;33m)\u001b[0m\u001b[1;33m\u001b[0m\u001b[1;33m\u001b[0m\u001b[0m\n\u001b[1;32m---> 41\u001b[1;33m                 \u001b[0mnp\u001b[0m\u001b[1;33m.\u001b[0m\u001b[0msave\u001b[0m\u001b[1;33m(\u001b[0m\u001b[0mnpy_path\u001b[0m\u001b[1;33m,\u001b[0m \u001b[0mkeypoints\u001b[0m\u001b[1;33m)\u001b[0m\u001b[1;33m\u001b[0m\u001b[1;33m\u001b[0m\u001b[0m\n\u001b[0m\u001b[0;32m     42\u001b[0m \u001b[1;33m\u001b[0m\u001b[0m\n\u001b[0;32m     43\u001b[0m                 \u001b[1;31m# Break gracefully\u001b[0m\u001b[1;33m\u001b[0m\u001b[1;33m\u001b[0m\u001b[1;33m\u001b[0m\u001b[0m\n",
      "\u001b[1;32m<__array_function__ internals>\u001b[0m in \u001b[0;36msave\u001b[1;34m(*args, **kwargs)\u001b[0m\n",
      "\u001b[1;32m~\\Anaconda3\\lib\\site-packages\\numpy\\lib\\npyio.py\u001b[0m in \u001b[0;36msave\u001b[1;34m(file, arr, allow_pickle, fix_imports)\u001b[0m\n\u001b[0;32m    522\u001b[0m         \u001b[1;32mif\u001b[0m \u001b[1;32mnot\u001b[0m \u001b[0mfile\u001b[0m\u001b[1;33m.\u001b[0m\u001b[0mendswith\u001b[0m\u001b[1;33m(\u001b[0m\u001b[1;34m'.npy'\u001b[0m\u001b[1;33m)\u001b[0m\u001b[1;33m:\u001b[0m\u001b[1;33m\u001b[0m\u001b[1;33m\u001b[0m\u001b[0m\n\u001b[0;32m    523\u001b[0m             \u001b[0mfile\u001b[0m \u001b[1;33m=\u001b[0m \u001b[0mfile\u001b[0m \u001b[1;33m+\u001b[0m \u001b[1;34m'.npy'\u001b[0m\u001b[1;33m\u001b[0m\u001b[1;33m\u001b[0m\u001b[0m\n\u001b[1;32m--> 524\u001b[1;33m         \u001b[0mfile_ctx\u001b[0m \u001b[1;33m=\u001b[0m \u001b[0mopen\u001b[0m\u001b[1;33m(\u001b[0m\u001b[0mfile\u001b[0m\u001b[1;33m,\u001b[0m \u001b[1;34m\"wb\"\u001b[0m\u001b[1;33m)\u001b[0m\u001b[1;33m\u001b[0m\u001b[1;33m\u001b[0m\u001b[0m\n\u001b[0m\u001b[0;32m    525\u001b[0m \u001b[1;33m\u001b[0m\u001b[0m\n\u001b[0;32m    526\u001b[0m     \u001b[1;32mwith\u001b[0m \u001b[0mfile_ctx\u001b[0m \u001b[1;32mas\u001b[0m \u001b[0mfid\u001b[0m\u001b[1;33m:\u001b[0m\u001b[1;33m\u001b[0m\u001b[1;33m\u001b[0m\u001b[0m\n",
      "\u001b[1;31mFileNotFoundError\u001b[0m: [Errno 2] No such file or directory: 'hire2\\\\please\\\\50\\\\0.npy'"
     ]
    }
   ],
   "source": [
    "cap = cv2.VideoCapture(0)\n",
    "cap.set(cv2.CAP_PROP_FRAME_WIDTH, 1280)\n",
    "cap.set(cv2.CAP_PROP_FRAME_HEIGHT, 720)\n",
    "\n",
    "# Set mediapipe model \n",
    "with mp_holistic.Holistic(min_detection_confidence=0.5, min_tracking_confidence=0.5) as holistic:\n",
    "    \n",
    "    for action in actions:\n",
    "        # Loop through sequences aka videos\n",
    "        for sequence in range(no_sequences):\n",
    "            # Loop through video length aka sequence length, each frame, 30 frames of keypoints for each video\n",
    "            for frame_num in range(sequence_length):\n",
    "\n",
    "                # Read feed\n",
    "                ret, frame = cap.read()\n",
    "\n",
    "                # Make detections\n",
    "                image, results = mediapipe_detection(frame, holistic)\n",
    "\n",
    "                # Draw landmarks\n",
    "                draw_styled_landmarks(image, results)\n",
    "                \n",
    "                # NEW Apply wait logic\n",
    "                if frame_num == 0: \n",
    "                    cv2.putText(image, 'STARTING COLLECTION', (120,200), \n",
    "                               cv2.FONT_HERSHEY_SIMPLEX, 1, (0,255, 0), 4, cv2.LINE_AA)\n",
    "                    cv2.putText(image, 'Collecting frames for {} Video Number {}'.format(action, sequence), (15,12), \n",
    "                               cv2.FONT_HERSHEY_SIMPLEX, 0.5, (0, 0, 255), 1, cv2.LINE_AA)\n",
    "                    # Show to screen\n",
    "                    cv2.imshow('OpenCV Feed', image)\n",
    "                    cv2.waitKey(1000)\n",
    "                else: \n",
    "                    cv2.putText(image, 'Collecting frames for {} Video Number {}'.format(action, sequence), (15,12), \n",
    "                               cv2.FONT_HERSHEY_SIMPLEX, 0.5, (0, 0, 255), 1, cv2.LINE_AA)\n",
    "                    # Show to screen\n",
    "                    cv2.imshow('OpenCV Feed', image)\n",
    "                \n",
    "                # NEW Export keypoints\n",
    "                keypoints = extract_keypoints(results)\n",
    "                npy_path = os.path.join(DATA_PATH, action, str(sequence+50), str(frame_num))\n",
    "                np.save(npy_path, keypoints)\n",
    "\n",
    "                # Break gracefully\n",
    "                if cv2.waitKey(10) & 0xFF == ord('q'):\n",
    "                    break\n",
    "                    \n",
    "    cap.release()\n",
    "    cv2.destroyAllWindows()"
   ]
  },
  {
   "cell_type": "code",
   "execution_count": 121,
   "metadata": {},
   "outputs": [],
   "source": [
    "cap.release()\n",
    "cv2.destroyAllWindows()"
   ]
  },
  {
   "cell_type": "markdown",
   "metadata": {},
   "source": [
    "## Training Model"
   ]
  },
  {
   "cell_type": "markdown",
   "metadata": {},
   "source": [
    "### Preprocess Data"
   ]
  },
  {
   "cell_type": "code",
   "execution_count": 97,
   "metadata": {},
   "outputs": [],
   "source": [
    "from sklearn.model_selection import train_test_split\n",
    "from tensorflow.keras.utils import to_categorical"
   ]
  },
  {
   "cell_type": "code",
   "execution_count": 132,
   "metadata": {},
   "outputs": [],
   "source": [
    "label_map = {label:num for num, label in enumerate(actions)}"
   ]
  },
  {
   "cell_type": "code",
   "execution_count": 133,
   "metadata": {},
   "outputs": [
    {
     "data": {
      "text/plain": [
       "{'please': 0, 'hire': 1, 'me': 2, 'google': 3}"
      ]
     },
     "execution_count": 133,
     "metadata": {},
     "output_type": "execute_result"
    }
   ],
   "source": [
    "label_map"
   ]
  },
  {
   "cell_type": "code",
   "execution_count": 134,
   "metadata": {},
   "outputs": [],
   "source": [
    "sequences, labels = [], []\n",
    "for action in actions:\n",
    "    for sequence in np.array(os.listdir(os.path.join(DATA_PATH, action))).astype(int):\n",
    "        window = []\n",
    "        for frame_num in range(sequence_length):\n",
    "            res = np.load(os.path.join(DATA_PATH, action, str(sequence), \"{}.npy\".format(frame_num)))\n",
    "            window.append(res)\n",
    "        sequences.append(window)\n",
    "        labels.append(label_map[action])"
   ]
  },
  {
   "cell_type": "code",
   "execution_count": 135,
   "metadata": {},
   "outputs": [
    {
     "data": {
      "text/plain": [
       "(192, 30, 126)"
      ]
     },
     "execution_count": 135,
     "metadata": {},
     "output_type": "execute_result"
    }
   ],
   "source": [
    "# Check shape: (videos, frames, keypoints), adjust LSTM input accordingly\n",
    "np.array(sequences).shape"
   ]
  },
  {
   "cell_type": "code",
   "execution_count": 136,
   "metadata": {},
   "outputs": [],
   "source": [
    "X = np.array(sequences)\n",
    "y = to_categorical(labels).astype(int)"
   ]
  },
  {
   "cell_type": "code",
   "execution_count": 137,
   "metadata": {},
   "outputs": [],
   "source": [
    "X_train=X\n",
    "y_train=y"
   ]
  },
  {
   "cell_type": "code",
   "execution_count": null,
   "metadata": {},
   "outputs": [],
   "source": [
    "# Train test split (skip for more train data)\n",
    "# X_train, X_test, y_train, y_test = train_test_split(X, y, test_size=0.05, random_seed=0)"
   ]
  },
  {
   "cell_type": "markdown",
   "metadata": {},
   "source": [
    "### Model Training"
   ]
  },
  {
   "cell_type": "code",
   "execution_count": 15,
   "metadata": {},
   "outputs": [],
   "source": [
    "from tensorflow.keras.models import Sequential\n",
    "from tensorflow.keras.layers import LSTM, Dense\n",
    "from tensorflow.keras.callbacks import TensorBoard, EarlyStopping, ReduceLROnPlateau\n",
    "from tensorflow.keras import Model, callbacks\n",
    "# from tensorflow.keras.callbacks import TensorBoard"
   ]
  },
  {
   "cell_type": "code",
   "execution_count": 16,
   "metadata": {},
   "outputs": [],
   "source": [
    "# log_dir = os.path.join('Logs')\n",
    "# tb_callback = TensorBoard(log_dir=log_dir)"
   ]
  },
  {
   "cell_type": "code",
   "execution_count": 138,
   "metadata": {},
   "outputs": [],
   "source": [
    "model = Sequential()\n",
    "model.add(LSTM(64, return_sequences=True, activation='relu', input_shape=(30,126)))\n",
    "model.add(LSTM(128, return_sequences=True, activation='relu'))\n",
    "model.add(LSTM(64, return_sequences=False, activation='relu'))\n",
    "model.add(Dense(64, activation='relu'))\n",
    "model.add(Dense(32, activation='relu'))\n",
    "model.add(Dense(actions.shape[0], activation='softmax'))"
   ]
  },
  {
   "cell_type": "code",
   "execution_count": 139,
   "metadata": {},
   "outputs": [],
   "source": [
    "early_stopping = EarlyStopping(monitor='categorical_accuracy', min_delta=0.001, patience=100, verbose=1, mode='auto', restore_best_weights=True)"
   ]
  },
  {
   "cell_type": "code",
   "execution_count": 140,
   "metadata": {},
   "outputs": [],
   "source": [
    "model.compile(optimizer='Adam', loss='categorical_crossentropy', metrics=['categorical_accuracy'])"
   ]
  },
  {
   "cell_type": "code",
   "execution_count": 141,
   "metadata": {},
   "outputs": [
    {
     "name": "stdout",
     "output_type": "stream",
     "text": [
      "Epoch 1/1000\n",
      "6/6 [==============================] - 0s 62ms/step - loss: 1.3159 - categorical_accuracy: 0.3333\n",
      "Epoch 2/1000\n",
      "6/6 [==============================] - 0s 58ms/step - loss: 1.3038 - categorical_accuracy: 0.3021 0s - loss: 1.3682 - categorical_accuracy: \n",
      "Epoch 3/1000\n",
      "6/6 [==============================] - 0s 66ms/step - loss: 1.2561 - categorical_accuracy: 0.3490\n",
      "Epoch 4/1000\n",
      "6/6 [==============================] - 0s 61ms/step - loss: 1.2633 - categorical_accuracy: 0.4948\n",
      "Epoch 5/1000\n",
      "6/6 [==============================] - 0s 60ms/step - loss: 1.1798 - categorical_accuracy: 0.3490\n",
      "Epoch 6/1000\n",
      "6/6 [==============================] - 0s 63ms/step - loss: 1.0378 - categorical_accuracy: 0.5052\n",
      "Epoch 7/1000\n",
      "6/6 [==============================] - 0s 55ms/step - loss: 0.9170 - categorical_accuracy: 0.5729\n",
      "Epoch 8/1000\n",
      "6/6 [==============================] - 0s 60ms/step - loss: 0.8577 - categorical_accuracy: 0.5052\n",
      "Epoch 9/1000\n",
      "6/6 [==============================] - 0s 65ms/step - loss: 0.7315 - categorical_accuracy: 0.6667\n",
      "Epoch 10/1000\n",
      "6/6 [==============================] - 0s 61ms/step - loss: 0.6525 - categorical_accuracy: 0.8229\n",
      "Epoch 11/1000\n",
      "6/6 [==============================] - 0s 64ms/step - loss: 0.8086 - categorical_accuracy: 0.6771\n",
      "Epoch 12/1000\n",
      "6/6 [==============================] - 0s 65ms/step - loss: 0.6998 - categorical_accuracy: 0.7240\n",
      "Epoch 13/1000\n",
      "6/6 [==============================] - 0s 56ms/step - loss: 0.6992 - categorical_accuracy: 0.7396\n",
      "Epoch 14/1000\n",
      "6/6 [==============================] - 0s 65ms/step - loss: 0.6673 - categorical_accuracy: 0.7708\n",
      "Epoch 15/1000\n",
      "6/6 [==============================] - 0s 63ms/step - loss: 0.5060 - categorical_accuracy: 0.8438\n",
      "Epoch 16/1000\n",
      "6/6 [==============================] - 0s 64ms/step - loss: 0.4523 - categorical_accuracy: 0.8177\n",
      "Epoch 17/1000\n",
      "6/6 [==============================] - 0s 50ms/step - loss: 2.3990 - categorical_accuracy: 0.7083\n",
      "Epoch 18/1000\n",
      "6/6 [==============================] - 0s 65ms/step - loss: 1.3044 - categorical_accuracy: 0.6250\n",
      "Epoch 19/1000\n",
      "6/6 [==============================] - 0s 62ms/step - loss: 1.3066 - categorical_accuracy: 0.5677\n",
      "Epoch 20/1000\n",
      "6/6 [==============================] - 0s 64ms/step - loss: 1.2728 - categorical_accuracy: 0.6667\n",
      "Epoch 21/1000\n",
      "6/6 [==============================] - 0s 64ms/step - loss: 1.2523 - categorical_accuracy: 0.8073\n",
      "Epoch 22/1000\n",
      "6/6 [==============================] - 0s 61ms/step - loss: 1.1356 - categorical_accuracy: 0.7500\n",
      "Epoch 23/1000\n",
      "6/6 [==============================] - 0s 62ms/step - loss: 0.9349 - categorical_accuracy: 0.6771\n",
      "Epoch 24/1000\n",
      "6/6 [==============================] - 0s 63ms/step - loss: 0.9711 - categorical_accuracy: 0.7240\n",
      "Epoch 25/1000\n",
      "6/6 [==============================] - 0s 58ms/step - loss: 0.8943 - categorical_accuracy: 0.7344\n",
      "Epoch 26/1000\n",
      "6/6 [==============================] - 0s 57ms/step - loss: 0.6327 - categorical_accuracy: 0.8490\n",
      "Epoch 27/1000\n",
      "6/6 [==============================] - 0s 58ms/step - loss: 0.5798 - categorical_accuracy: 0.8229\n",
      "Epoch 28/1000\n",
      "6/6 [==============================] - 0s 65ms/step - loss: 0.6582 - categorical_accuracy: 0.7865\n",
      "Epoch 29/1000\n",
      "6/6 [==============================] - 0s 63ms/step - loss: 0.7279 - categorical_accuracy: 0.7708\n",
      "Epoch 30/1000\n",
      "6/6 [==============================] - 0s 66ms/step - loss: 0.5550 - categorical_accuracy: 0.7969\n",
      "Epoch 31/1000\n",
      "6/6 [==============================] - 0s 60ms/step - loss: 0.4699 - categorical_accuracy: 0.8490\n",
      "Epoch 32/1000\n",
      "6/6 [==============================] - 0s 63ms/step - loss: 0.4231 - categorical_accuracy: 0.8542\n",
      "Epoch 33/1000\n",
      "6/6 [==============================] - 0s 53ms/step - loss: 0.3900 - categorical_accuracy: 0.8542\n",
      "Epoch 34/1000\n",
      "6/6 [==============================] - 0s 59ms/step - loss: 0.3601 - categorical_accuracy: 0.8438\n",
      "Epoch 35/1000\n",
      "6/6 [==============================] - 0s 60ms/step - loss: 0.3455 - categorical_accuracy: 0.8490\n",
      "Epoch 36/1000\n",
      "6/6 [==============================] - 0s 56ms/step - loss: 0.2878 - categorical_accuracy: 0.8698\n",
      "Epoch 37/1000\n",
      "6/6 [==============================] - 0s 62ms/step - loss: 0.2746 - categorical_accuracy: 0.8594\n",
      "Epoch 38/1000\n",
      "6/6 [==============================] - 0s 63ms/step - loss: 0.2738 - categorical_accuracy: 0.8438\n",
      "Epoch 39/1000\n",
      "6/6 [==============================] - 0s 61ms/step - loss: 0.2673 - categorical_accuracy: 0.8646\n",
      "Epoch 40/1000\n",
      "6/6 [==============================] - 0s 60ms/step - loss: 0.2720 - categorical_accuracy: 0.8698\n",
      "Epoch 41/1000\n",
      "6/6 [==============================] - 0s 58ms/step - loss: 0.6044 - categorical_accuracy: 0.7865\n",
      "Epoch 42/1000\n",
      "6/6 [==============================] - 0s 63ms/step - loss: 0.5689 - categorical_accuracy: 0.7500\n",
      "Epoch 43/1000\n",
      "6/6 [==============================] - 0s 63ms/step - loss: 0.4155 - categorical_accuracy: 0.8021\n",
      "Epoch 44/1000\n",
      "6/6 [==============================] - 0s 65ms/step - loss: 0.3655 - categorical_accuracy: 0.8229\n",
      "Epoch 45/1000\n",
      "6/6 [==============================] - 0s 62ms/step - loss: 0.3290 - categorical_accuracy: 0.8438\n",
      "Epoch 46/1000\n",
      "6/6 [==============================] - 0s 63ms/step - loss: 0.3117 - categorical_accuracy: 0.8490\n",
      "Epoch 47/1000\n",
      "6/6 [==============================] - 0s 63ms/step - loss: 0.2819 - categorical_accuracy: 0.8490\n",
      "Epoch 48/1000\n",
      "6/6 [==============================] - 0s 59ms/step - loss: 0.2612 - categorical_accuracy: 0.8542\n",
      "Epoch 49/1000\n",
      "6/6 [==============================] - 0s 63ms/step - loss: 0.2541 - categorical_accuracy: 0.8542\n",
      "Epoch 50/1000\n",
      "6/6 [==============================] - 0s 62ms/step - loss: 0.2398 - categorical_accuracy: 0.8958\n",
      "Epoch 51/1000\n",
      "6/6 [==============================] - 0s 65ms/step - loss: 0.2347 - categorical_accuracy: 0.8906\n",
      "Epoch 52/1000\n",
      "6/6 [==============================] - 0s 65ms/step - loss: 0.2376 - categorical_accuracy: 0.8698\n",
      "Epoch 53/1000\n",
      "6/6 [==============================] - 0s 60ms/step - loss: 0.2152 - categorical_accuracy: 0.9010\n",
      "Epoch 54/1000\n",
      "6/6 [==============================] - 0s 58ms/step - loss: 0.2398 - categorical_accuracy: 0.8490\n",
      "Epoch 55/1000\n",
      "6/6 [==============================] - 0s 52ms/step - loss: 0.2849 - categorical_accuracy: 0.8646\n",
      "Epoch 56/1000\n",
      "6/6 [==============================] - 0s 66ms/step - loss: 0.4296 - categorical_accuracy: 0.8438\n",
      "Epoch 57/1000\n",
      "6/6 [==============================] - 0s 66ms/step - loss: 0.3203 - categorical_accuracy: 0.8750\n",
      "Epoch 58/1000\n",
      "6/6 [==============================] - 0s 55ms/step - loss: 0.2625 - categorical_accuracy: 0.8854\n",
      "Epoch 59/1000\n",
      "6/6 [==============================] - 0s 50ms/step - loss: 0.2677 - categorical_accuracy: 0.8698\n",
      "Epoch 60/1000\n",
      "6/6 [==============================] - 0s 58ms/step - loss: 0.2342 - categorical_accuracy: 0.8906\n",
      "Epoch 61/1000\n",
      "6/6 [==============================] - 0s 48ms/step - loss: 0.2226 - categorical_accuracy: 0.8958\n",
      "Epoch 62/1000\n",
      "6/6 [==============================] - 0s 50ms/step - loss: 0.2185 - categorical_accuracy: 0.9010\n",
      "Epoch 63/1000\n",
      "6/6 [==============================] - 0s 49ms/step - loss: 0.2065 - categorical_accuracy: 0.9062\n",
      "Epoch 64/1000\n",
      "6/6 [==============================] - 0s 56ms/step - loss: 0.2061 - categorical_accuracy: 0.9062\n",
      "Epoch 65/1000\n",
      "6/6 [==============================] - 0s 56ms/step - loss: 0.2187 - categorical_accuracy: 0.8802\n",
      "Epoch 66/1000\n",
      "6/6 [==============================] - 0s 62ms/step - loss: 0.2176 - categorical_accuracy: 0.8802\n",
      "Epoch 67/1000\n",
      "6/6 [==============================] - 0s 63ms/step - loss: 0.2026 - categorical_accuracy: 0.8958\n",
      "Epoch 68/1000\n",
      "6/6 [==============================] - 0s 63ms/step - loss: 0.1958 - categorical_accuracy: 0.9062\n",
      "Epoch 69/1000\n",
      "6/6 [==============================] - 0s 65ms/step - loss: 0.1947 - categorical_accuracy: 0.9115\n",
      "Epoch 70/1000\n",
      "6/6 [==============================] - 0s 65ms/step - loss: 0.2145 - categorical_accuracy: 0.8854\n",
      "Epoch 71/1000\n",
      "6/6 [==============================] - 0s 64ms/step - loss: 0.2299 - categorical_accuracy: 0.8750\n",
      "Epoch 72/1000\n",
      "6/6 [==============================] - 0s 60ms/step - loss: 0.2177 - categorical_accuracy: 0.8854\n",
      "Epoch 73/1000\n"
     ]
    },
    {
     "name": "stdout",
     "output_type": "stream",
     "text": [
      "6/6 [==============================] - 0s 64ms/step - loss: 0.1932 - categorical_accuracy: 0.9062\n",
      "Epoch 74/1000\n",
      "6/6 [==============================] - 0s 66ms/step - loss: 0.1934 - categorical_accuracy: 0.9115\n",
      "Epoch 75/1000\n",
      "6/6 [==============================] - 0s 63ms/step - loss: 0.2251 - categorical_accuracy: 0.8750\n",
      "Epoch 76/1000\n",
      "6/6 [==============================] - 0s 60ms/step - loss: 0.2012 - categorical_accuracy: 0.9062\n",
      "Epoch 77/1000\n",
      "6/6 [==============================] - 0s 62ms/step - loss: 0.2030 - categorical_accuracy: 0.8854\n",
      "Epoch 78/1000\n",
      "6/6 [==============================] - 0s 67ms/step - loss: 0.2044 - categorical_accuracy: 0.8854\n",
      "Epoch 79/1000\n",
      "6/6 [==============================] - 0s 67ms/step - loss: 0.2024 - categorical_accuracy: 0.8802\n",
      "Epoch 80/1000\n",
      "6/6 [==============================] - 0s 67ms/step - loss: 0.1857 - categorical_accuracy: 0.9115\n",
      "Epoch 81/1000\n",
      "6/6 [==============================] - 0s 68ms/step - loss: 0.1798 - categorical_accuracy: 0.9167\n",
      "Epoch 82/1000\n",
      "6/6 [==============================] - 0s 67ms/step - loss: 0.2018 - categorical_accuracy: 0.8958\n",
      "Epoch 83/1000\n",
      "6/6 [==============================] - 0s 62ms/step - loss: 0.1728 - categorical_accuracy: 0.9010\n",
      "Epoch 84/1000\n",
      "6/6 [==============================] - 0s 67ms/step - loss: 0.1796 - categorical_accuracy: 0.9062\n",
      "Epoch 85/1000\n",
      "6/6 [==============================] - 0s 65ms/step - loss: 0.1834 - categorical_accuracy: 0.9062\n",
      "Epoch 86/1000\n",
      "6/6 [==============================] - 0s 58ms/step - loss: 0.1826 - categorical_accuracy: 0.9219\n",
      "Epoch 87/1000\n",
      "6/6 [==============================] - 0s 65ms/step - loss: 0.1908 - categorical_accuracy: 0.9062\n",
      "Epoch 88/1000\n",
      "6/6 [==============================] - 0s 64ms/step - loss: 0.1889 - categorical_accuracy: 0.9062\n",
      "Epoch 89/1000\n",
      "6/6 [==============================] - 0s 68ms/step - loss: 0.1880 - categorical_accuracy: 0.9323\n",
      "Epoch 90/1000\n",
      "6/6 [==============================] - 0s 62ms/step - loss: 0.1709 - categorical_accuracy: 0.8958\n",
      "Epoch 91/1000\n",
      "6/6 [==============================] - 0s 68ms/step - loss: 0.1641 - categorical_accuracy: 0.9167\n",
      "Epoch 92/1000\n",
      "6/6 [==============================] - 0s 68ms/step - loss: 0.1637 - categorical_accuracy: 0.8958\n",
      "Epoch 93/1000\n",
      "6/6 [==============================] - 0s 67ms/step - loss: 0.1999 - categorical_accuracy: 0.9062\n",
      "Epoch 94/1000\n",
      "6/6 [==============================] - 0s 60ms/step - loss: 0.1858 - categorical_accuracy: 0.9010\n",
      "Epoch 95/1000\n",
      "6/6 [==============================] - 0s 67ms/step - loss: 0.1878 - categorical_accuracy: 0.9010\n",
      "Epoch 96/1000\n",
      "6/6 [==============================] - 0s 51ms/step - loss: 0.1837 - categorical_accuracy: 0.9010\n",
      "Epoch 97/1000\n",
      "6/6 [==============================] - 0s 56ms/step - loss: 0.1878 - categorical_accuracy: 0.9010\n",
      "Epoch 98/1000\n",
      "6/6 [==============================] - 0s 63ms/step - loss: 0.1909 - categorical_accuracy: 0.9010\n",
      "Epoch 99/1000\n",
      "6/6 [==============================] - 0s 65ms/step - loss: 0.1995 - categorical_accuracy: 0.8802\n",
      "Epoch 100/1000\n",
      "6/6 [==============================] - 0s 66ms/step - loss: 0.1844 - categorical_accuracy: 0.8958\n",
      "Epoch 101/1000\n",
      "6/6 [==============================] - 0s 63ms/step - loss: 0.1666 - categorical_accuracy: 0.9167\n",
      "Epoch 102/1000\n",
      "6/6 [==============================] - 0s 66ms/step - loss: 0.1633 - categorical_accuracy: 0.9167\n",
      "Epoch 103/1000\n",
      "6/6 [==============================] - 0s 63ms/step - loss: 0.1739 - categorical_accuracy: 0.9062\n",
      "Epoch 104/1000\n",
      "6/6 [==============================] - 0s 67ms/step - loss: 0.2056 - categorical_accuracy: 0.8854\n",
      "Epoch 105/1000\n",
      "6/6 [==============================] - 0s 57ms/step - loss: 1.3579 - categorical_accuracy: 0.7760\n",
      "Epoch 106/1000\n",
      "6/6 [==============================] - 0s 64ms/step - loss: 1.1607 - categorical_accuracy: 0.6354\n",
      "Epoch 107/1000\n",
      "6/6 [==============================] - 0s 61ms/step - loss: 0.5325 - categorical_accuracy: 0.7396\n",
      "Epoch 108/1000\n",
      "6/6 [==============================] - 0s 62ms/step - loss: 0.5531 - categorical_accuracy: 0.7135\n",
      "Epoch 109/1000\n",
      "6/6 [==============================] - 0s 64ms/step - loss: 0.4711 - categorical_accuracy: 0.7344\n",
      "Epoch 110/1000\n",
      "6/6 [==============================] - 0s 62ms/step - loss: 0.6288 - categorical_accuracy: 0.7552\n",
      "Epoch 111/1000\n",
      "6/6 [==============================] - 0s 67ms/step - loss: 0.4647 - categorical_accuracy: 0.8021\n",
      "Epoch 112/1000\n",
      "6/6 [==============================] - 0s 65ms/step - loss: 0.3920 - categorical_accuracy: 0.8490\n",
      "Epoch 113/1000\n",
      "6/6 [==============================] - 0s 63ms/step - loss: 0.3424 - categorical_accuracy: 0.8490\n",
      "Epoch 114/1000\n",
      "6/6 [==============================] - 0s 63ms/step - loss: 0.3090 - categorical_accuracy: 0.8490\n",
      "Epoch 115/1000\n",
      "6/6 [==============================] - 0s 63ms/step - loss: 0.2689 - categorical_accuracy: 0.8490\n",
      "Epoch 116/1000\n",
      "6/6 [==============================] - 0s 50ms/step - loss: 0.2437 - categorical_accuracy: 0.8594\n",
      "Epoch 117/1000\n",
      "6/6 [==============================] - 0s 65ms/step - loss: 0.2503 - categorical_accuracy: 0.8646\n",
      "Epoch 118/1000\n",
      "6/6 [==============================] - 0s 60ms/step - loss: 0.2210 - categorical_accuracy: 0.8750\n",
      "Epoch 119/1000\n",
      "6/6 [==============================] - 0s 64ms/step - loss: 0.2087 - categorical_accuracy: 0.9010\n",
      "Epoch 120/1000\n",
      "6/6 [==============================] - 0s 60ms/step - loss: 0.1998 - categorical_accuracy: 0.9010\n",
      "Epoch 121/1000\n",
      "6/6 [==============================] - 0s 57ms/step - loss: 0.1930 - categorical_accuracy: 0.9010\n",
      "Epoch 122/1000\n",
      "6/6 [==============================] - 0s 58ms/step - loss: 0.1852 - categorical_accuracy: 0.9010\n",
      "Epoch 123/1000\n",
      "6/6 [==============================] - 0s 65ms/step - loss: 0.1815 - categorical_accuracy: 0.9010\n",
      "Epoch 124/1000\n",
      "6/6 [==============================] - 0s 65ms/step - loss: 0.1779 - categorical_accuracy: 0.9010\n",
      "Epoch 125/1000\n",
      "6/6 [==============================] - 0s 61ms/step - loss: 0.1598 - categorical_accuracy: 0.9271\n",
      "Epoch 126/1000\n",
      "6/6 [==============================] - 0s 65ms/step - loss: 2.8454 - categorical_accuracy: 0.5469\n",
      "Epoch 127/1000\n",
      "6/6 [==============================] - 0s 63ms/step - loss: 1.1936 - categorical_accuracy: 0.4896\n",
      "Epoch 128/1000\n",
      "6/6 [==============================] - 0s 53ms/step - loss: 0.9838 - categorical_accuracy: 0.5260\n",
      "Epoch 129/1000\n",
      "6/6 [==============================] - 0s 59ms/step - loss: 0.9074 - categorical_accuracy: 0.5052\n",
      "Epoch 130/1000\n",
      "6/6 [==============================] - 0s 65ms/step - loss: 0.8569 - categorical_accuracy: 0.5052\n",
      "Epoch 131/1000\n",
      "6/6 [==============================] - 0s 64ms/step - loss: 0.8110 - categorical_accuracy: 0.5052\n",
      "Epoch 132/1000\n",
      "6/6 [==============================] - 0s 49ms/step - loss: 0.7727 - categorical_accuracy: 0.5052\n",
      "Epoch 133/1000\n",
      "6/6 [==============================] - 0s 52ms/step - loss: 0.7343 - categorical_accuracy: 0.6094\n",
      "Epoch 134/1000\n",
      "6/6 [==============================] - 0s 53ms/step - loss: 0.6898 - categorical_accuracy: 0.8073\n",
      "Epoch 135/1000\n",
      "6/6 [==============================] - 0s 52ms/step - loss: 0.6470 - categorical_accuracy: 0.7865\n",
      "Epoch 136/1000\n",
      "6/6 [==============================] - 0s 64ms/step - loss: 3.2643 - categorical_accuracy: 0.6771\n",
      "Epoch 137/1000\n",
      "6/6 [==============================] - 0s 65ms/step - loss: 11.5389 - categorical_accuracy: 0.3281\n",
      "Epoch 138/1000\n",
      "6/6 [==============================] - 0s 66ms/step - loss: 1.2246 - categorical_accuracy: 0.3594\n",
      "Epoch 139/1000\n",
      "6/6 [==============================] - 0s 64ms/step - loss: 1.2053 - categorical_accuracy: 0.3906\n",
      "Epoch 140/1000\n",
      "6/6 [==============================] - 0s 59ms/step - loss: 1.1723 - categorical_accuracy: 0.3802\n",
      "Epoch 141/1000\n",
      "6/6 [==============================] - 0s 60ms/step - loss: 1.1458 - categorical_accuracy: 0.3281\n",
      "Epoch 142/1000\n",
      "6/6 [==============================] - 0s 58ms/step - loss: 1.0979 - categorical_accuracy: 0.2604\n",
      "Epoch 143/1000\n",
      "6/6 [==============================] - 0s 58ms/step - loss: 1.0506 - categorical_accuracy: 0.3125\n",
      "Epoch 144/1000\n",
      "6/6 [==============================] - 0s 65ms/step - loss: 0.9836 - categorical_accuracy: 0.4896\n",
      "Epoch 145/1000\n"
     ]
    },
    {
     "name": "stdout",
     "output_type": "stream",
     "text": [
      "6/6 [==============================] - 0s 65ms/step - loss: 0.8669 - categorical_accuracy: 0.7812\n",
      "Epoch 146/1000\n",
      "6/6 [==============================] - 0s 66ms/step - loss: 1.0929 - categorical_accuracy: 0.7396\n",
      "Epoch 147/1000\n",
      "6/6 [==============================] - 0s 65ms/step - loss: 1.2133 - categorical_accuracy: 0.4167\n",
      "Epoch 148/1000\n",
      "6/6 [==============================] - 0s 67ms/step - loss: 0.9281 - categorical_accuracy: 0.6094\n",
      "Epoch 149/1000\n",
      "6/6 [==============================] - 0s 67ms/step - loss: 0.8871 - categorical_accuracy: 0.6562\n",
      "Epoch 150/1000\n",
      "6/6 [==============================] - 0s 67ms/step - loss: 0.8306 - categorical_accuracy: 0.7448\n",
      "Epoch 151/1000\n",
      "6/6 [==============================] - 0s 56ms/step - loss: 0.7565 - categorical_accuracy: 0.7812\n",
      "Epoch 152/1000\n",
      "6/6 [==============================] - 0s 68ms/step - loss: 0.6768 - categorical_accuracy: 0.8281\n",
      "Epoch 153/1000\n",
      "6/6 [==============================] - 0s 64ms/step - loss: 0.6115 - categorical_accuracy: 0.8281\n",
      "Epoch 154/1000\n",
      "6/6 [==============================] - 0s 66ms/step - loss: 0.5569 - categorical_accuracy: 0.8438\n",
      "Epoch 155/1000\n",
      "6/6 [==============================] - 0s 66ms/step - loss: 0.5129 - categorical_accuracy: 0.8385\n",
      "Epoch 156/1000\n",
      "6/6 [==============================] - 0s 67ms/step - loss: 0.4510 - categorical_accuracy: 0.8438\n",
      "Epoch 157/1000\n",
      "6/6 [==============================] - 0s 68ms/step - loss: 0.3935 - categorical_accuracy: 0.8438\n",
      "Epoch 158/1000\n",
      "6/6 [==============================] - 0s 67ms/step - loss: 0.7327 - categorical_accuracy: 0.6458\n",
      "Epoch 159/1000\n",
      "6/6 [==============================] - 0s 64ms/step - loss: 0.9320 - categorical_accuracy: 0.5469\n",
      "Epoch 160/1000\n",
      "6/6 [==============================] - 0s 66ms/step - loss: 0.5479 - categorical_accuracy: 0.7865\n",
      "Epoch 161/1000\n",
      "6/6 [==============================] - 0s 63ms/step - loss: 0.4733 - categorical_accuracy: 0.7708\n",
      "Epoch 162/1000\n",
      "6/6 [==============================] - 0s 60ms/step - loss: 0.4231 - categorical_accuracy: 0.8490\n",
      "Epoch 163/1000\n",
      "6/6 [==============================] - 0s 63ms/step - loss: 0.3909 - categorical_accuracy: 0.8750\n",
      "Epoch 164/1000\n",
      "6/6 [==============================] - 0s 61ms/step - loss: 0.3471 - categorical_accuracy: 0.8490\n",
      "Epoch 165/1000\n",
      "6/6 [==============================] - 0s 65ms/step - loss: 0.3444 - categorical_accuracy: 0.8229\n",
      "Epoch 166/1000\n",
      "6/6 [==============================] - 0s 61ms/step - loss: 0.3431 - categorical_accuracy: 0.8490\n",
      "Epoch 167/1000\n",
      "6/6 [==============================] - 0s 50ms/step - loss: 0.3541 - categorical_accuracy: 0.8438\n",
      "Epoch 168/1000\n",
      "6/6 [==============================] - 0s 59ms/step - loss: 0.3169 - categorical_accuracy: 0.8490\n",
      "Epoch 169/1000\n",
      "6/6 [==============================] - 0s 54ms/step - loss: 0.3025 - categorical_accuracy: 0.8438\n",
      "Epoch 170/1000\n",
      "6/6 [==============================] - 0s 51ms/step - loss: 0.3144 - categorical_accuracy: 0.8542\n",
      "Epoch 171/1000\n",
      "6/6 [==============================] - 0s 54ms/step - loss: 0.3256 - categorical_accuracy: 0.8177\n",
      "Epoch 172/1000\n",
      "6/6 [==============================] - 0s 50ms/step - loss: 0.2905 - categorical_accuracy: 0.8490\n",
      "Epoch 173/1000\n",
      "6/6 [==============================] - 0s 52ms/step - loss: 0.2828 - categorical_accuracy: 0.8385\n",
      "Epoch 174/1000\n",
      "6/6 [==============================] - 0s 57ms/step - loss: 0.2671 - categorical_accuracy: 0.8698\n",
      "Epoch 175/1000\n",
      "6/6 [==============================] - 0s 62ms/step - loss: 0.2589 - categorical_accuracy: 0.8594\n",
      "Epoch 176/1000\n",
      "6/6 [==============================] - 0s 62ms/step - loss: 0.2476 - categorical_accuracy: 0.8750\n",
      "Epoch 177/1000\n",
      "6/6 [==============================] - 0s 51ms/step - loss: 0.2307 - categorical_accuracy: 0.8802\n",
      "Epoch 178/1000\n",
      "6/6 [==============================] - 0s 48ms/step - loss: 0.2736 - categorical_accuracy: 0.8854\n",
      "Epoch 179/1000\n",
      "6/6 [==============================] - 0s 49ms/step - loss: 0.2317 - categorical_accuracy: 0.8750\n",
      "Epoch 180/1000\n",
      "6/6 [==============================] - 0s 57ms/step - loss: 0.2247 - categorical_accuracy: 0.8802\n",
      "Epoch 181/1000\n",
      "6/6 [==============================] - 0s 55ms/step - loss: 0.2896 - categorical_accuracy: 0.8646\n",
      "Epoch 182/1000\n",
      "6/6 [==============================] - 0s 52ms/step - loss: 0.6609 - categorical_accuracy: 0.7812\n",
      "Epoch 183/1000\n",
      "6/6 [==============================] - 0s 50ms/step - loss: 0.7331 - categorical_accuracy: 0.5990 0s - loss: 0.7926 - categorical_accuracy\n",
      "Epoch 184/1000\n",
      "6/6 [==============================] - 0s 53ms/step - loss: 0.5100 - categorical_accuracy: 0.7708\n",
      "Epoch 185/1000\n",
      "6/6 [==============================] - 0s 52ms/step - loss: 0.3622 - categorical_accuracy: 0.8438\n",
      "Epoch 186/1000\n",
      "6/6 [==============================] - 0s 47ms/step - loss: 0.3234 - categorical_accuracy: 0.8490\n",
      "Epoch 187/1000\n",
      "6/6 [==============================] - 0s 55ms/step - loss: 0.2976 - categorical_accuracy: 0.8490\n",
      "Epoch 188/1000\n",
      "6/6 [==============================] - 0s 54ms/step - loss: 0.2793 - categorical_accuracy: 0.8490\n",
      "Epoch 189/1000\n",
      "6/6 [==============================] - ETA: 0s - loss: 0.2560 - categorical_accuracy: 0.8542Restoring model weights from the end of the best epoch.\n",
      "6/6 [==============================] - 0s 56ms/step - loss: 0.2560 - categorical_accuracy: 0.8542\n",
      "Epoch 00189: early stopping\n"
     ]
    },
    {
     "data": {
      "text/plain": [
       "<tensorflow.python.keras.callbacks.History at 0x19d2f168448>"
      ]
     },
     "execution_count": 141,
     "metadata": {},
     "output_type": "execute_result"
    }
   ],
   "source": [
    "model.fit(X_train, y_train, epochs=1000, callbacks=[early_stopping])"
   ]
  },
  {
   "cell_type": "code",
   "execution_count": 142,
   "metadata": {
    "scrolled": true
   },
   "outputs": [
    {
     "name": "stdout",
     "output_type": "stream",
     "text": [
      "Model: \"sequential_12\"\n",
      "_________________________________________________________________\n",
      "Layer (type)                 Output Shape              Param #   \n",
      "=================================================================\n",
      "lstm_36 (LSTM)               (None, 30, 64)            48896     \n",
      "_________________________________________________________________\n",
      "lstm_37 (LSTM)               (None, 30, 128)           98816     \n",
      "_________________________________________________________________\n",
      "lstm_38 (LSTM)               (None, 64)                49408     \n",
      "_________________________________________________________________\n",
      "dense_36 (Dense)             (None, 64)                4160      \n",
      "_________________________________________________________________\n",
      "dense_37 (Dense)             (None, 32)                2080      \n",
      "_________________________________________________________________\n",
      "dense_38 (Dense)             (None, 4)                 132       \n",
      "=================================================================\n",
      "Total params: 203,492\n",
      "Trainable params: 203,492\n",
      "Non-trainable params: 0\n",
      "_________________________________________________________________\n"
     ]
    }
   ],
   "source": [
    "model.summary()"
   ]
  },
  {
   "cell_type": "code",
   "execution_count": 143,
   "metadata": {},
   "outputs": [],
   "source": [
    "model.save('hire_v2.h5')"
   ]
  },
  {
   "cell_type": "code",
   "execution_count": 65,
   "metadata": {},
   "outputs": [],
   "source": [
    "# model.load_weights('sentence1.h5')"
   ]
  },
  {
   "cell_type": "markdown",
   "metadata": {},
   "source": [
    "## Test Detection"
   ]
  },
  {
   "cell_type": "code",
   "execution_count": 86,
   "metadata": {},
   "outputs": [],
   "source": [
    "from tensorflow.keras.models import Sequential\n",
    "from tensorflow.keras.layers import LSTM, Dense\n",
    "\n",
    "# Define actions\n",
    "actions = np.array(['hire', 'me', 'please', 'Google'])\n",
    "# actions = np.array([\"i'm\", 'doing', 'well', 'thanks'])\n",
    "# actions = np.array(['let', 'us', 'discuss', 'our', 'plan'])\n",
    "\n",
    "# Model import\n",
    "model = Sequential()\n",
    "model.add(LSTM(64, return_sequences=True, activation='relu', input_shape=(30,126)))\n",
    "model.add(LSTM(128, return_sequences=True, activation='relu'))\n",
    "model.add(LSTM(64, return_sequences=False, activation='relu'))\n",
    "model.add(Dense(64, activation='relu'))\n",
    "model.add(Dense(32, activation='relu'))\n",
    "model.add(Dense(actions.shape[0], activation='softmax'))\n",
    "\n",
    "# model.load_weights('sentence1_v2.h5')\n",
    "# model.load_weights('sentence3_v2.h5')\n",
    "model.load_weights('action_hireme_rhlh.h5')\n"
   ]
  },
  {
   "cell_type": "code",
   "execution_count": 112,
   "metadata": {},
   "outputs": [],
   "source": [
    "# 1. New detection variables\n",
    "sequence = []        #collect the 30 frames to generate a prediction\n",
    "sentence = []        #concat history of detections\n",
    "predictions = []\n",
    "max_words = 8\n",
    "threshold = 0.9\n",
    "\n",
    "cap = cv2.VideoCapture(0)\n",
    "cap.set(cv2.CAP_PROP_FRAME_WIDTH, 1280)\n",
    "cap.set(cv2.CAP_PROP_FRAME_HEIGHT, 720)\n",
    "# tts = pyttsx3.init()           #for tts\n",
    "# tts.setProperty('rate', 85)\n",
    "\n",
    "# Set mediapipe model \n",
    "with mp_holistic.Holistic(min_detection_confidence=0.5, min_tracking_confidence=0.5) as holistic:\n",
    "    while cap.isOpened():\n",
    "\n",
    "        # Read feed\n",
    "        ret, frame = cap.read()\n",
    "\n",
    "        # Make detections\n",
    "        image, results = mediapipe_detection(frame, holistic)\n",
    "#         print(results)\n",
    "        \n",
    "        # Draw landmarks\n",
    "        draw_styled_landmarks(image, results)\n",
    "        \n",
    "        # 2. Prediction logic\n",
    "        keypoints = extract_keypoints(results)\n",
    "        sequence.append(keypoints)\n",
    "        sequence = sequence[-30:]   \n",
    "        \n",
    "#         once sequence has 30 frames\n",
    "        if len(sequence) == 30: \n",
    "            res = model.predict(np.expand_dims(sequence, axis=0))[0]\n",
    "            predictions.append(np.argmax(res))\n",
    "            \n",
    "            \n",
    "        #3. Viz logic\n",
    "            if np.unique(predictions[-10:])[0]==np.argmax(res): \n",
    "                if res[np.argmax(res)] > threshold: \n",
    "                    \n",
    "                    if len(sentence) > 0:                         \n",
    "                        if actions[np.argmax(res)] != sentence[-1]:    #append only if next action is different\n",
    "                            sentence.append(actions[np.argmax(res)])\n",
    "                            \n",
    "#                             tts.say(actions[np.argmax(res)])\n",
    "#                             tts.runAndWait()\n",
    "                    else:\n",
    "                        sentence.append(actions[np.argmax(res)])\n",
    "#                         tts.say(actions[np.argmax(res)])\n",
    "#                         tts.runAndWait()\n",
    "\n",
    "            if len(sentence) > max_words:          #just grab the last 5 values when sentence has more than 6 words\n",
    "                sentence = sentence[-max_words:]\n",
    "            \n",
    "        cv2.rectangle(image, (0,0), (1280, 40), (245, 139, 76), -1)\n",
    "        cv2.putText(image, ' '.join(sentence), (3,30),                                 # (left-right, up-down)\n",
    "                       cv2.FONT_HERSHEY_SIMPLEX, 1, (255, 255, 255), 2, cv2.LINE_AA)\n",
    "      \n",
    "        # Show to screen\n",
    "        cv2.imshow('OpenCV Feed', image)\n",
    "\n",
    "        # Break gracefully\n",
    "        if cv2.waitKey(10) & 0xFF == ord('q'):\n",
    "            break\n",
    "    cap.release()\n",
    "    cv2.destroyAllWindows()"
   ]
  },
  {
   "cell_type": "code",
   "execution_count": 18,
   "metadata": {},
   "outputs": [],
   "source": [
    "# Testing text to speech\n",
    "s = pyttsx3.init()           #for tts\n",
    "s.setProperty('rate', 100)     # setting up new voice rate\n",
    "voices = s.getProperty('voices') \n",
    "s.setProperty('voice', voices[0].id)  #change voice\n",
    "data = \"giddy\"  \n",
    "s.say(data)  \n",
    "s.runAndWait()  "
   ]
  },
  {
   "cell_type": "markdown",
   "metadata": {},
   "source": [
    "### Testing improved logic"
   ]
  },
  {
   "cell_type": "code",
   "execution_count": 148,
   "metadata": {},
   "outputs": [],
   "source": [
    "# 1. New detection variables\n",
    "sequence = []        #collect the 30 frames to generate a prediction\n",
    "sentence = []        #concat history of detections\n",
    "predictions = []\n",
    "max_words = 8\n",
    "threshold = 0.7\n",
    "\n",
    "cap = cv2.VideoCapture(0)\n",
    "cap.set(cv2.CAP_PROP_FRAME_WIDTH, 1280)\n",
    "cap.set(cv2.CAP_PROP_FRAME_HEIGHT, 720)\n",
    "# tts = pyttsx3.init()           #for tts\n",
    "# tts.setProperty('rate', 85)\n",
    "\n",
    "# Set mediapipe model \n",
    "with mp_holistic.Holistic(min_detection_confidence=0.5, min_tracking_confidence=0.5) as holistic:\n",
    "    while cap.isOpened():\n",
    "\n",
    "        # Read feed\n",
    "        ret, frame = cap.read()\n",
    "\n",
    "        # Make detections\n",
    "        image, results = mediapipe_detection(frame, holistic)\n",
    "        \n",
    "        # Draw landmarks\n",
    "        draw_styled_landmarks(image, results)\n",
    "        \n",
    "        \n",
    "        if results.right_hand_landmarks or results.left_hand_landmarks:\n",
    "            # Prediction logic\n",
    "            keypoints = extract_keypoints(results)\n",
    "            sequence.append(keypoints)\n",
    "            sequence = sequence[-30:]\n",
    "        \n",
    "            # Make prediction once there is 30 frames in the sequence\n",
    "            if len(sequence) == 30: \n",
    "                res = model.predict(np.expand_dims(sequence, axis=0))[0]\n",
    "                predictions.append(np.argmax(res))\n",
    "                \n",
    "                # Vizualisation logic\n",
    "                if np.unique(predictions[-10:])[0]==np.argmax(res): \n",
    "                    if res[np.argmax(res)] > threshold: \n",
    "\n",
    "                        if len(sentence) > 0: \n",
    "                            if actions[np.argmax(res)] != sentence[-1] and actions[np.argmax(res)] not in sentence:   #DAMN HACK HERE #append only if next action is different\n",
    "                                sentence.append(actions[np.argmax(res)])\n",
    "    #                             tts.say(actions[np.argmax(res)])\n",
    "    #                             tts.runAndWait()\n",
    "                        else:\n",
    "                            sentence.append(actions[np.argmax(res)])\n",
    "    #                         tts.say(actions[np.argmax(res)])\n",
    "    #                         tts.runAndWait()\n",
    "        \n",
    "        else:\n",
    "            pass\n",
    "            \n",
    "            if len(sentence) > max_words:          #just grab the last 5 values when sentence has more than 6 words\n",
    "                sentence = sentence[-max_words:]\n",
    "            \n",
    "        cv2.rectangle(image, (0,0), (1280, 40), (245, 139, 76), -1)\n",
    "        cv2.putText(image, ' '.join(sentence), (3,30),                                 # (left-right, up-down)\n",
    "                       cv2.FONT_HERSHEY_SIMPLEX, 1, (255, 255, 255), 2, cv2.LINE_AA)\n",
    "      \n",
    "        # Show to screen\n",
    "        cv2.imshow('OpenCV Feed', image)\n",
    "\n",
    "        # Break gracefully\n",
    "        if cv2.waitKey(10) & 0xFF == ord('q'):\n",
    "            break\n",
    "    cap.release()\n",
    "    cv2.destroyAllWindows()"
   ]
  },
  {
   "cell_type": "code",
   "execution_count": 78,
   "metadata": {},
   "outputs": [],
   "source": [
    "cap.release()\n",
    "cv2.destroyAllWindows()"
   ]
  },
  {
   "cell_type": "markdown",
   "metadata": {},
   "source": [
    "### GIF Demo"
   ]
  },
  {
   "cell_type": "code",
   "execution_count": 170,
   "metadata": {},
   "outputs": [],
   "source": [
    "# With hire_v2\n",
    "# 1. New detection variables\n",
    "sequence = []        #collect the 30 frames to generate a prediction\n",
    "sentence = []        #concat history of detections\n",
    "predictions = []\n",
    "max_words = 8\n",
    "threshold = 0.6\n",
    "\n",
    "cap = cv2.VideoCapture(0)\n",
    "cap.set(cv2.CAP_PROP_FRAME_WIDTH, 1280)\n",
    "cap.set(cv2.CAP_PROP_FRAME_HEIGHT, 720)\n",
    "# tts = pyttsx3.init()           #for tts\n",
    "# tts.setProperty('rate', 85)\n",
    "\n",
    "# Set mediapipe model \n",
    "with mp_holistic.Holistic(min_detection_confidence=0.5, min_tracking_confidence=0.5) as holistic:\n",
    "    while cap.isOpened():\n",
    "\n",
    "        # Read feed\n",
    "        ret, frame = cap.read()\n",
    "\n",
    "        # Make detections\n",
    "        image, results = mediapipe_detection(frame, holistic)\n",
    "        \n",
    "        # Draw landmarks\n",
    "        draw_styled_landmarks(image, results)\n",
    "        \n",
    "        \n",
    "        if results.right_hand_landmarks or results.left_hand_landmarks:\n",
    "            # Prediction logic\n",
    "            keypoints = extract_keypoints(results)\n",
    "            sequence.append(keypoints)\n",
    "            sequence = sequence[-30:]\n",
    "        \n",
    "            # Make prediction once there is 30 frames in the sequence\n",
    "            if len(sequence) == 30: \n",
    "                res = model.predict(np.expand_dims(sequence, axis=0))[0]\n",
    "                predictions.append(np.argmax(res))\n",
    "                \n",
    "                # Vizualisation logic\n",
    "                if np.unique(predictions[-10:])[0]==np.argmax(res): \n",
    "                    if res[np.argmax(res)] > threshold: \n",
    "\n",
    "                        if len(sentence) > 0: \n",
    "                            if actions[np.argmax(res)] != sentence[-1] and actions[np.argmax(res)] not in sentence:   #DAMN HACK HERE #append only if next action is different\n",
    "                                sentence.append(actions[np.argmax(res)])\n",
    "    #                             tts.say(actions[np.argmax(res)])\n",
    "    #                             tts.runAndWait()\n",
    "                        else:\n",
    "                            sentence.append(actions[np.argmax(res)])\n",
    "    #                         tts.say(actions[np.argmax(res)])\n",
    "    #                         tts.runAndWait()\n",
    "        \n",
    "        else:\n",
    "            pass\n",
    "            \n",
    "            if len(sentence) > max_words:          #just grab the last 5 values when sentence has more than 6 words\n",
    "                sentence = sentence[-max_words:]\n",
    "            \n",
    "        cv2.rectangle(image, (0,0), (1280, 70), (245, 139, 76), -1)\n",
    "        cv2.putText(image, ' '.join(sentence), (15, 50),                                 # (left-right, up-down)\n",
    "                       cv2.FONT_HERSHEY_SIMPLEX, 2, (255, 255, 255), 2, cv2.LINE_AA)\n",
    "      \n",
    "        # Show to screen\n",
    "        cv2.imshow('OpenCV Feed', image)\n",
    "\n",
    "        # Break gracefully\n",
    "        if cv2.waitKey(10) & 0xFF == ord('q'):\n",
    "            break\n",
    "    cap.release()\n",
    "    cv2.destroyAllWindows()"
   ]
  },
  {
   "cell_type": "code",
   "execution_count": 160,
   "metadata": {},
   "outputs": [],
   "source": [
    "from tensorflow.keras.models import Sequential\n",
    "from tensorflow.keras.layers import LSTM, Dense\n",
    "\n",
    "# Define actions\n",
    "actions = np.array(['hire', 'me', 'please', 'Google'])\n",
    "# actions = np.array([\"i'm\", 'doing', 'well', 'thanks'])\n",
    "# actions = np.array(['let', 'us', 'discuss', 'our', 'plan'])\n",
    "\n",
    "# Model import\n",
    "model = Sequential()\n",
    "model.add(LSTM(64, return_sequences=True, activation='relu', input_shape=(30,126)))\n",
    "model.add(LSTM(128, return_sequences=True, activation='relu'))\n",
    "model.add(LSTM(64, return_sequences=False, activation='relu'))\n",
    "model.add(Dense(64, activation='relu'))\n",
    "model.add(Dense(32, activation='relu'))\n",
    "model.add(Dense(actions.shape[0], activation='softmax'))\n",
    "\n",
    "# model.load_weights('sentence1_v2.h5')\n",
    "# model.load_weights('sentence3_v2.h5')\n",
    "model.load_weights('action_hireme_rhlh.h5')\n"
   ]
  },
  {
   "cell_type": "code",
   "execution_count": 179,
   "metadata": {},
   "outputs": [],
   "source": [
    "# 1. New detection variables\n",
    "sequence = []        #collect the 30 frames to generate a prediction\n",
    "sentence = []        #concat history of detections\n",
    "predictions = []\n",
    "threshold = 0.5\n",
    "\n",
    "cap = cv2.VideoCapture(0)\n",
    "\n",
    "# Set mediapipe model \n",
    "with mp_holistic.Holistic(min_detection_confidence=0.5, min_tracking_confidence=0.5) as holistic:\n",
    "    while cap.isOpened():\n",
    "\n",
    "        # Read feed\n",
    "        ret, frame = cap.read()\n",
    "\n",
    "        # Make detections\n",
    "        image, results = mediapipe_detection(frame, holistic)\n",
    "#         print(results)\n",
    "        \n",
    "        # Draw landmarks\n",
    "        draw_styled_landmarks(image, results)\n",
    "        \n",
    "        # 2. Prediction logic\n",
    "        keypoints = extract_keypoints(results)\n",
    "        sequence.append(keypoints)\n",
    "        sequence = sequence[-30:]   \n",
    "        \n",
    "#         once sequence has 30 frames\n",
    "        if len(sequence) == 30: \n",
    "            # model expects (1, 30, 258), current sequence (30, 258)\n",
    "            res = model.predict(np.expand_dims(sequence, axis=0))[0]\n",
    "            predictions.append(np.argmax(res))\n",
    "            \n",
    "            \n",
    "        #3. Viz logic\n",
    "            if np.unique(predictions[-10:])[0]==np.argmax(res): \n",
    "                if res[np.argmax(res)] > threshold: \n",
    "                    \n",
    "                    if len(sentence) > 0: \n",
    "                        if actions[np.argmax(res)] != sentence[-1] and actions[np.argmax(res)] not in sentence:    #append only if next action is different\n",
    "                            sentence.append(actions[np.argmax(res)])\n",
    "                    else:\n",
    "                        sentence.append(actions[np.argmax(res)])\n",
    "\n",
    "            if len(sentence) > 5:          #just grab the last 5 values when sentence has more than 5 words\n",
    "                sentence = sentence[-5:]\n",
    "\n",
    "#             # Viz probabilities\n",
    "#             image = prob_viz(res, actions, image, colors)\n",
    "            \n",
    "        cv2.rectangle(image, (0,0), (640, 40), (245, 117, 16), -1)\n",
    "        cv2.putText(image, ' '.join(sentence), (3,30), \n",
    "                       cv2.FONT_HERSHEY_SIMPLEX, 1, (255, 255, 255), 2, cv2.LINE_AA)\n",
    "        \n",
    "        # Show to screen\n",
    "        cv2.imshow('OpenCV Feed', image)\n",
    "\n",
    "        # Break gracefully\n",
    "        if cv2.waitKey(10) & 0xFF == ord('q'):\n",
    "            break\n",
    "    cap.release()\n",
    "    cv2.destroyAllWindows()"
   ]
  },
  {
   "cell_type": "markdown",
   "metadata": {
    "heading_collapsed": true
   },
   "source": [
    "### Mediapipe Holistic Demo"
   ]
  },
  {
   "cell_type": "code",
   "execution_count": null,
   "metadata": {
    "hidden": true
   },
   "outputs": [],
   "source": [
    "# Video demo for Mediapipe Holistic\n",
    "mp_holistic = mp.solutions.holistic # Holistic model\n",
    "mp_drawing = mp.solutions.drawing_utils # Drawing utilities\n",
    "\n",
    "def mediapipe_detection(image, model):\n",
    "    image = cv2.cvtColor(image, cv2.COLOR_BGR2RGB) # COLOR CONVERSION BGR 2 RGB\n",
    "    image.flags.writeable = False                  # Image is no longer writeable\n",
    "    results = model.process(image)                 # Make prediction\n",
    "    image.flags.writeable = True                   # Image is now writeable \n",
    "    image = cv2.cvtColor(image, cv2.COLOR_RGB2BGR) # COLOR COVERSION RGB 2 BGR\n",
    "    return image, results\n",
    "\n",
    "def draw_landmarks(image, results):\n",
    "    mp_drawing.draw_landmarks(image, results.face_landmarks, mp_holistic.FACEMESH_TESSELATION) # Draw face connections\n",
    "    mp_drawing.draw_landmarks(image, results.pose_landmarks, mp_holistic.POSE_CONNECTIONS) # Draw pose connections\n",
    "    mp_drawing.draw_landmarks(image, results.left_hand_landmarks, mp_holistic.HAND_CONNECTIONS) # Draw left hand connections\n",
    "    mp_drawing.draw_landmarks(image, results.right_hand_landmarks, mp_holistic.HAND_CONNECTIONS) # Draw right hand connections\n",
    "\n",
    "def draw_styled_landmarks(image, results):\n",
    "    # Draw face connections\n",
    "    mp_drawing.draw_landmarks(image, results.face_landmarks, mp_holistic.FACEMESH_TESSELATION, \n",
    "                             mp_drawing.DrawingSpec(color=(80,110,10), thickness=1, circle_radius=1), \n",
    "                             mp_drawing.DrawingSpec(color=(80,256,121), thickness=1, circle_radius=1)\n",
    "                             ) \n",
    "    # Draw pose connections\n",
    "    mp_drawing.draw_landmarks(image, results.pose_landmarks, mp_holistic.POSE_CONNECTIONS,\n",
    "                             mp_drawing.DrawingSpec(color=(60,20,220), thickness=2, circle_radius=1), \n",
    "                             mp_drawing.DrawingSpec(color=(255,144,30), thickness=2, circle_radius=2)\n",
    "                             ) \n",
    "    # Draw left hand connections\n",
    "    mp_drawing.draw_landmarks(image, results.left_hand_landmarks, mp_holistic.HAND_CONNECTIONS, \n",
    "                             mp_drawing.DrawingSpec(color=(60,20,220), thickness=2, circle_radius=1), \n",
    "                             mp_drawing.DrawingSpec(color=(0,255,30), thickness=2, circle_radius=2)\n",
    "                             ) \n",
    "    # Draw right hand connections  \n",
    "    mp_drawing.draw_landmarks(image, results.right_hand_landmarks, mp_holistic.HAND_CONNECTIONS, \n",
    "                             mp_drawing.DrawingSpec(color=(60,20,220), thickness=2, circle_radius=1), \n",
    "                             mp_drawing.DrawingSpec(color=(0,255,30), thickness=2, circle_radius=2)\n",
    "                             ) \n",
    "    \n",
    "def extract_keypoints(results):\n",
    "    pose = np.array([[res.x, res.y, res.z, res.visibility] for res in results.pose_landmarks.landmark]).flatten() if results.pose_landmarks else np.zeros(33*4)\n",
    "    face = np.array([[res.x, res.y, res.z] for res in results.face_landmarks.landmark]).flatten() if results.face_landmarks else np.zeros(468*3)\n",
    "    lh = np.array([[res.x, res.y, res.z] for res in results.left_hand_landmarks.landmark]).flatten() if results.left_hand_landmarks else np.zeros(21*3)\n",
    "    rh = np.array([[res.x, res.y, res.z] for res in results.right_hand_landmarks.landmark]).flatten() if results.right_hand_landmarks else np.zeros(21*3)\n",
    "    return np.concatenate([pose, face, lh, rh])\n",
    "\n",
    "# Check camera set up\n",
    "cap = cv2.VideoCapture(0)\n",
    "cap.set(cv2.CAP_PROP_FRAME_WIDTH, 1280)\n",
    "cap.set(cv2.CAP_PROP_FRAME_HEIGHT, 720)\n",
    "\n",
    "# Set mediapipe model: instantiate the model to fit into detection function\n",
    "with mp_holistic.Holistic(min_detection_confidence=0.5, min_tracking_confidence=0.5) as holistic:\n",
    "    while cap.isOpened():\n",
    "\n",
    "        # Read frame from webcam, return value, frame: image from webcam\n",
    "        ret, frame = cap.read()\n",
    "\n",
    "        # Feed webcam image to mediapipe to Make detections\n",
    "        image, results = mediapipe_detection(frame, holistic)\n",
    "#         print(results)\n",
    "        \n",
    "        # Draw landmarks\n",
    "        draw_styled_landmarks(image, results)\n",
    "\n",
    "        # Show to screen\n",
    "        cv2.imshow('OpenCV Feed', image)\n",
    "\n",
    "        # Break gracefully\n",
    "        if cv2.waitKey(10) & 0xFF == ord('q'):\n",
    "            break\n",
    "    cap.release()\n",
    "    cv2.destroyAllWindows()"
   ]
  },
  {
   "cell_type": "markdown",
   "metadata": {
    "heading_collapsed": true
   },
   "source": [
    "## Convert to tflite"
   ]
  },
  {
   "cell_type": "code",
   "execution_count": 80,
   "metadata": {
    "collapsed": true,
    "hidden": true
   },
   "outputs": [
    {
     "name": "stdout",
     "output_type": "stream",
     "text": [
      "WARNING:tensorflow:From C:\\Users\\wushen\\Anaconda3\\lib\\site-packages\\tensorflow\\python\\training\\tracking\\tracking.py:111: Model.state_updates (from tensorflow.python.keras.engine.training) is deprecated and will be removed in a future version.\n",
      "Instructions for updating:\n",
      "This property should not be used in TensorFlow 2.0, as updates are applied automatically.\n"
     ]
    },
    {
     "name": "stderr",
     "output_type": "stream",
     "text": [
      "WARNING:tensorflow:From C:\\Users\\wushen\\Anaconda3\\lib\\site-packages\\tensorflow\\python\\training\\tracking\\tracking.py:111: Model.state_updates (from tensorflow.python.keras.engine.training) is deprecated and will be removed in a future version.\n",
      "Instructions for updating:\n",
      "This property should not be used in TensorFlow 2.0, as updates are applied automatically.\n"
     ]
    },
    {
     "name": "stdout",
     "output_type": "stream",
     "text": [
      "WARNING:tensorflow:From C:\\Users\\wushen\\Anaconda3\\lib\\site-packages\\tensorflow\\python\\training\\tracking\\tracking.py:111: Layer.updates (from tensorflow.python.keras.engine.base_layer) is deprecated and will be removed in a future version.\n",
      "Instructions for updating:\n",
      "This property should not be used in TensorFlow 2.0, as updates are applied automatically.\n"
     ]
    },
    {
     "name": "stderr",
     "output_type": "stream",
     "text": [
      "WARNING:tensorflow:From C:\\Users\\wushen\\Anaconda3\\lib\\site-packages\\tensorflow\\python\\training\\tracking\\tracking.py:111: Layer.updates (from tensorflow.python.keras.engine.base_layer) is deprecated and will be removed in a future version.\n",
      "Instructions for updating:\n",
      "This property should not be used in TensorFlow 2.0, as updates are applied automatically.\n"
     ]
    },
    {
     "name": "stdout",
     "output_type": "stream",
     "text": [
      "INFO:tensorflow:Assets written to: C:\\Users\\wushen\\AppData\\Local\\Temp\\tmp_mad_k0k\\assets\n"
     ]
    },
    {
     "name": "stderr",
     "output_type": "stream",
     "text": [
      "INFO:tensorflow:Assets written to: C:\\Users\\wushen\\AppData\\Local\\Temp\\tmp_mad_k0k\\assets\n"
     ]
    }
   ],
   "source": [
    "import tensorflow as tf\n",
    "\n",
    "converter = tf.lite.TFLiteConverter.from_keras_model(model)\n",
    "tflite_model = converter.convert()\n",
    "\n",
    "# Save the model.\n",
    "with open('sentence1.tflite', 'wb') as f:\n",
    "    f.write(tflite_model)"
   ]
  },
  {
   "cell_type": "code",
   "execution_count": null,
   "metadata": {
    "hidden": true
   },
   "outputs": [],
   "source": [
    "import numpy as np\n",
    "import tensorflow as tf\n",
    "\n",
    "# Load the TFLite model and allocate tensors.\n",
    "interpreter = tf.lite.Interpreter(model_path=\"converted_model.tflite\")\n",
    "interpreter.allocate_tensors()\n",
    "\n",
    "# Get input and output tensors.\n",
    "input_details = interpreter.get_input_details()\n",
    "output_details = interpreter.get_output_details()\n",
    "\n",
    "# Test the model on random input data.\n",
    "input_shape = input_details[0]['shape']\n",
    "input_data = np.array(np.random.random_sample(input_shape), dtype=np.float32)\n",
    "interpreter.set_tensor(input_details[0]['index'], input_data)\n",
    "\n",
    "interpreter.invoke()\n",
    "\n",
    "# The function `get_tensor()` returns a copy of the tensor data.\n",
    "# Use `tensor()` in order to get a pointer to the tensor.\n",
    "output_data = interpreter.get_tensor(output_details[0]['index'])\n",
    "print(output_data)"
   ]
  },
  {
   "cell_type": "markdown",
   "metadata": {},
   "source": [
    "# Action Detection Refined\n",
    "- edited section to exclude FACEMESH_TESSELATION "
   ]
  },
  {
   "cell_type": "markdown",
   "metadata": {},
   "source": [
    "## 1. Import and Install Dependencies"
   ]
  },
  {
   "cell_type": "code",
   "execution_count": 3,
   "metadata": {
    "collapsed": true
   },
   "outputs": [
    {
     "name": "stdout",
     "output_type": "stream",
     "text": [
      "Collecting tensorflow==2.4.1\n",
      "  Downloading tensorflow-2.4.1-cp37-cp37m-win_amd64.whl (370.7 MB)\n",
      "Collecting tensorflow-gpu==2.4.1\n",
      "  Downloading tensorflow_gpu-2.4.1-cp37-cp37m-win_amd64.whl (370.7 MB)\n",
      "Collecting mediapipe\n",
      "  Downloading mediapipe-0.8.8-cp37-cp37m-win_amd64.whl (45.8 MB)\n",
      "Collecting sklearn\n",
      "  Downloading sklearn-0.0.tar.gz (1.1 kB)\n",
      "Requirement already satisfied: protobuf>=3.9.2 in c:\\users\\wushen\\anaconda3\\lib\\site-packages (from tensorflow==2.4.1) (3.12.3)\n",
      "Requirement already satisfied: termcolor~=1.1.0 in c:\\users\\wushen\\anaconda3\\lib\\site-packages (from tensorflow==2.4.1) (1.1.0)\n",
      "Collecting numpy~=1.19.2\n",
      "  Downloading numpy-1.19.5-cp37-cp37m-win_amd64.whl (13.2 MB)\n",
      "Requirement already satisfied: keras-preprocessing~=1.1.2 in c:\\users\\wushen\\anaconda3\\lib\\site-packages (from tensorflow==2.4.1) (1.1.2)\n",
      "Requirement already satisfied: six~=1.15.0 in c:\\users\\wushen\\anaconda3\\lib\\site-packages (from tensorflow==2.4.1) (1.15.0)\n",
      "Requirement already satisfied: h5py~=2.10.0 in c:\\users\\wushen\\anaconda3\\lib\\site-packages (from tensorflow==2.4.1) (2.10.0)\n",
      "Collecting wrapt~=1.12.1\n",
      "  Downloading wrapt-1.12.1.tar.gz (27 kB)\n",
      "Collecting tensorboard~=2.4\n",
      "  Downloading tensorboard-2.6.0-py3-none-any.whl (5.6 MB)\n",
      "Collecting wheel~=0.35\n",
      "  Downloading wheel-0.37.0-py2.py3-none-any.whl (35 kB)\n",
      "Collecting grpcio~=1.32.0\n",
      "  Downloading grpcio-1.32.0-cp37-cp37m-win_amd64.whl (2.5 MB)\n",
      "Requirement already satisfied: opt-einsum~=3.3.0 in c:\\users\\wushen\\anaconda3\\lib\\site-packages (from tensorflow==2.4.1) (3.3.0)\n",
      "Requirement already satisfied: gast==0.3.3 in c:\\users\\wushen\\anaconda3\\lib\\site-packages (from tensorflow==2.4.1) (0.3.3)\n",
      "Collecting flatbuffers~=1.12.0\n",
      "  Downloading flatbuffers-1.12-py2.py3-none-any.whl (15 kB)\n",
      "Requirement already satisfied: google-pasta~=0.2 in c:\\users\\wushen\\anaconda3\\lib\\site-packages (from tensorflow==2.4.1) (0.2.0)\n",
      "Collecting tensorflow-estimator<2.5.0,>=2.4.0\n",
      "  Downloading tensorflow_estimator-2.4.0-py2.py3-none-any.whl (462 kB)\n",
      "Requirement already satisfied: astunparse~=1.6.3 in c:\\users\\wushen\\anaconda3\\lib\\site-packages (from tensorflow==2.4.1) (1.6.3)\n",
      "Requirement already satisfied: typing-extensions~=3.7.4 in c:\\users\\wushen\\anaconda3\\lib\\site-packages (from tensorflow==2.4.1) (3.7.4.1)\n",
      "Requirement already satisfied: absl-py~=0.10 in c:\\users\\wushen\\anaconda3\\lib\\site-packages (from tensorflow==2.4.1) (0.10.0)\n",
      "Collecting opencv-contrib-python\n",
      "  Downloading opencv_contrib_python-4.5.3.56-cp37-cp37m-win_amd64.whl (41.8 MB)\n",
      "Requirement already satisfied: attrs>=19.1.0 in c:\\users\\wushen\\anaconda3\\lib\\site-packages (from mediapipe) (19.3.0)\n",
      "Requirement already satisfied: matplotlib in c:\\users\\wushen\\appdata\\roaming\\python\\python37\\site-packages (from mediapipe) (3.2.1)\n",
      "Requirement already satisfied: scikit-learn in c:\\users\\wushen\\anaconda3\\lib\\site-packages (from sklearn) (0.22.1)\n",
      "Requirement already satisfied: setuptools in c:\\users\\wushen\\anaconda3\\lib\\site-packages (from protobuf>=3.9.2->tensorflow==2.4.1) (46.0.0.post20200309)\n",
      "Requirement already satisfied: tensorboard-plugin-wit>=1.6.0 in c:\\users\\wushen\\anaconda3\\lib\\site-packages (from tensorboard~=2.4->tensorflow==2.4.1) (1.7.0)\n",
      "Collecting tensorboard-data-server<0.7.0,>=0.6.0\n",
      "  Downloading tensorboard_data_server-0.6.1-py3-none-any.whl (2.4 kB)\n",
      "Requirement already satisfied: requests<3,>=2.21.0 in c:\\users\\wushen\\anaconda3\\lib\\site-packages (from tensorboard~=2.4->tensorflow==2.4.1) (2.24.0)\n",
      "Requirement already satisfied: markdown>=2.6.8 in c:\\users\\wushen\\anaconda3\\lib\\site-packages (from tensorboard~=2.4->tensorflow==2.4.1) (3.3.3)\n",
      "Requirement already satisfied: google-auth<2,>=1.6.3 in c:\\users\\wushen\\anaconda3\\lib\\site-packages (from tensorboard~=2.4->tensorflow==2.4.1) (1.24.0)\n",
      "Requirement already satisfied: werkzeug>=0.11.15 in c:\\users\\wushen\\anaconda3\\lib\\site-packages (from tensorboard~=2.4->tensorflow==2.4.1) (1.0.0)\n",
      "Requirement already satisfied: google-auth-oauthlib<0.5,>=0.4.1 in c:\\users\\wushen\\anaconda3\\lib\\site-packages (from tensorboard~=2.4->tensorflow==2.4.1) (0.4.1)\n",
      "Requirement already satisfied: pyparsing!=2.0.4,!=2.1.2,!=2.1.6,>=2.0.1 in c:\\users\\wushen\\appdata\\roaming\\python\\python37\\site-packages (from matplotlib->mediapipe) (2.4.6)\n",
      "Requirement already satisfied: python-dateutil>=2.1 in c:\\users\\wushen\\anaconda3\\lib\\site-packages (from matplotlib->mediapipe) (2.8.1)\n",
      "Requirement already satisfied: kiwisolver>=1.0.1 in c:\\users\\wushen\\appdata\\roaming\\python\\python37\\site-packages (from matplotlib->mediapipe) (1.1.0)\n",
      "Requirement already satisfied: cycler>=0.10 in c:\\users\\wushen\\appdata\\roaming\\python\\python37\\site-packages (from matplotlib->mediapipe) (0.10.0)\n",
      "Requirement already satisfied: joblib>=0.11 in c:\\users\\wushen\\anaconda3\\lib\\site-packages (from scikit-learn->sklearn) (0.14.1)\n",
      "Requirement already satisfied: scipy>=0.17.0 in c:\\users\\wushen\\appdata\\roaming\\python\\python37\\site-packages (from scikit-learn->sklearn) (1.4.1)\n",
      "Requirement already satisfied: certifi>=2017.4.17 in c:\\users\\wushen\\anaconda3\\lib\\site-packages (from requests<3,>=2.21.0->tensorboard~=2.4->tensorflow==2.4.1) (2020.6.20)\n",
      "Requirement already satisfied: chardet<4,>=3.0.2 in c:\\users\\wushen\\anaconda3\\lib\\site-packages (from requests<3,>=2.21.0->tensorboard~=2.4->tensorflow==2.4.1) (3.0.4)\n",
      "Requirement already satisfied: idna<3,>=2.5 in c:\\users\\wushen\\anaconda3\\lib\\site-packages (from requests<3,>=2.21.0->tensorboard~=2.4->tensorflow==2.4.1) (2.10)\n",
      "Requirement already satisfied: urllib3!=1.25.0,!=1.25.1,<1.26,>=1.21.1 in c:\\users\\wushen\\anaconda3\\lib\\site-packages (from requests<3,>=2.21.0->tensorboard~=2.4->tensorflow==2.4.1) (1.25.9)\n",
      "Requirement already satisfied: importlib-metadata; python_version < \"3.8\" in c:\\users\\wushen\\appdata\\roaming\\python\\python37\\site-packages (from markdown>=2.6.8->tensorboard~=2.4->tensorflow==2.4.1) (1.6.0)\n",
      "Requirement already satisfied: rsa<5,>=3.1.4; python_version >= \"3.6\" in c:\\users\\wushen\\anaconda3\\lib\\site-packages (from google-auth<2,>=1.6.3->tensorboard~=2.4->tensorflow==2.4.1) (4.6)\n",
      "Requirement already satisfied: pyasn1-modules>=0.2.1 in c:\\users\\wushen\\anaconda3\\lib\\site-packages (from google-auth<2,>=1.6.3->tensorboard~=2.4->tensorflow==2.4.1) (0.2.8)\n",
      "Requirement already satisfied: cachetools<5.0,>=2.0.0 in c:\\users\\wushen\\anaconda3\\lib\\site-packages (from google-auth<2,>=1.6.3->tensorboard~=2.4->tensorflow==2.4.1) (4.1.1)\n",
      "Requirement already satisfied: requests-oauthlib>=0.7.0 in c:\\users\\wushen\\anaconda3\\lib\\site-packages (from google-auth-oauthlib<0.5,>=0.4.1->tensorboard~=2.4->tensorflow==2.4.1) (1.3.0)\n",
      "Requirement already satisfied: zipp>=0.5 in c:\\users\\wushen\\appdata\\roaming\\python\\python37\\site-packages (from importlib-metadata; python_version < \"3.8\"->markdown>=2.6.8->tensorboard~=2.4->tensorflow==2.4.1) (3.1.0)\n",
      "Requirement already satisfied: pyasn1>=0.1.3 in c:\\users\\wushen\\anaconda3\\lib\\site-packages (from rsa<5,>=3.1.4; python_version >= \"3.6\"->google-auth<2,>=1.6.3->tensorboard~=2.4->tensorflow==2.4.1) (0.4.8)\n",
      "Requirement already satisfied: oauthlib>=3.0.0 in c:\\users\\wushen\\anaconda3\\lib\\site-packages (from requests-oauthlib>=0.7.0->google-auth-oauthlib<0.5,>=0.4.1->tensorboard~=2.4->tensorflow==2.4.1) (3.1.0)\n",
      "Building wheels for collected packages: sklearn, wrapt\n",
      "  Building wheel for sklearn (setup.py): started\n",
      "  Building wheel for sklearn (setup.py): finished with status 'done'\n",
      "  Created wheel for sklearn: filename=sklearn-0.0-py2.py3-none-any.whl size=1320 sha256=aa69acdab25590a0f1ccb34f5b896debbd33315941c68d98d20b53939f9acd41\n",
      "  Stored in directory: c:\\users\\wushen\\appdata\\local\\pip\\cache\\wheels\\46\\ef\\c3\\157e41f5ee1372d1be90b09f74f82b10e391eaacca8f22d33e\n",
      "  Building wheel for wrapt (setup.py): started\n",
      "  Building wheel for wrapt (setup.py): finished with status 'done'\n",
      "  Created wheel for wrapt: filename=wrapt-1.12.1-py3-none-any.whl size=19558 sha256=38ad63ea8eaa28d8cdea9b53016d60f095bb63e2d098d38f0b46b876074bdc1a\n",
      "  Stored in directory: c:\\users\\wushen\\appdata\\local\\pip\\cache\\wheels\\62\\76\\4c\\aa25851149f3f6d9785f6c869387ad82b3fd37582fa8147ac6\n",
      "Successfully built sklearn wrapt\n",
      "Installing collected packages: numpy, wrapt, tensorboard-data-server, wheel, grpcio, tensorboard, flatbuffers, tensorflow-estimator, tensorflow, tensorflow-gpu, opencv-contrib-python, mediapipe, sklearn\n",
      "  Attempting uninstall: numpy\n",
      "    Found existing installation: numpy 1.18.1\n",
      "    Uninstalling numpy-1.18.1:\n"
     ]
    },
    {
     "name": "stderr",
     "output_type": "stream",
     "text": [
      "ERROR: astroid 2.3.3 has requirement wrapt==1.11.*, but you'll have wrapt 1.12.1 which is incompatible.\n",
      "ERROR: Could not install packages due to an EnvironmentError: [WinError 5] Access is denied: 'c:\\\\users\\\\wushen\\\\anaconda3\\\\lib\\\\site-packages\\\\~umpy\\\\core\\\\_multiarray_tests.cp37-win_amd64.pyd'\n",
      "Consider using the `--user` option or check the permissions.\n",
      "\n"
     ]
    },
    {
     "name": "stdout",
     "output_type": "stream",
     "text": [
      "      Successfully uninstalled numpy-1.18.1\n"
     ]
    }
   ],
   "source": [
    "# !pip install tensorflow==2.4.1 tensorflow-gpu==2.4.1 opencv-python mediapipe sklearn matplotlib\n",
    "!pip install tensorflow==2.4.1 tensorflow-gpu==2.4.1 mediapipe sklearn"
   ]
  },
  {
   "cell_type": "code",
   "execution_count": 1,
   "metadata": {
    "collapsed": true
   },
   "outputs": [
    {
     "name": "stdout",
     "output_type": "stream",
     "text": [
      "Collecting pyttsx3\n",
      "  Downloading pyttsx3-2.90-py3-none-any.whl (39 kB)\n",
      "Requirement already satisfied: comtypes; platform_system == \"Windows\" in c:\\users\\wushen\\anaconda3\\lib\\site-packages (from pyttsx3) (1.1.7)\n",
      "Collecting pypiwin32; platform_system == \"Windows\"\n",
      "  Downloading pypiwin32-223-py3-none-any.whl (1.7 kB)\n",
      "Requirement already satisfied: pywin32; platform_system == \"Windows\" in c:\\users\\wushen\\appdata\\roaming\\python\\python37\\site-packages (from pyttsx3) (227)\n",
      "Installing collected packages: pypiwin32, pyttsx3\n",
      "Successfully installed pypiwin32-223 pyttsx3-2.90\n"
     ]
    }
   ],
   "source": [
    "!pip install pyttsx3"
   ]
  },
  {
   "cell_type": "code",
   "execution_count": 30,
   "metadata": {},
   "outputs": [],
   "source": [
    "import cv2\n",
    "import numpy as np\n",
    "import os\n",
    "from matplotlib import pyplot as plt\n",
    "import time\n",
    "import mediapipe as mp"
   ]
  },
  {
   "cell_type": "code",
   "execution_count": 31,
   "metadata": {},
   "outputs": [],
   "source": [
    "mp_holistic = mp.solutions.holistic # Holistic model\n",
    "mp_drawing = mp.solutions.drawing_utils # Drawing utilities\n",
    "\n",
    "def mediapipe_detection(image, model):\n",
    "    image = cv2.cvtColor(image, cv2.COLOR_BGR2RGB) # COLOR CONVERSION BGR 2 RGB\n",
    "    image.flags.writeable = False                  # Image is no longer writeable\n",
    "    results = model.process(image)                 # Make prediction\n",
    "    image.flags.writeable = True                   # Image is now writeable \n",
    "    image = cv2.cvtColor(image, cv2.COLOR_RGB2BGR) # COLOR COVERSION RGB 2 BGR\n",
    "    return image, results\n",
    "\n",
    "def draw_landmarks(image, results):\n",
    "    mp_drawing.draw_landmarks(image, results.pose_landmarks, mp_holistic.POSE_CONNECTIONS) # Draw pose connections\n",
    "    mp_drawing.draw_landmarks(image, results.left_hand_landmarks, mp_holistic.HAND_CONNECTIONS) # Draw left hand connections\n",
    "    mp_drawing.draw_landmarks(image, results.right_hand_landmarks, mp_holistic.HAND_CONNECTIONS) # Draw right hand connections\n",
    "\n",
    "def draw_styled_landmarks(image, results):\n",
    "    # Draw pose connections\n",
    "    mp_drawing.draw_landmarks(image, results.pose_landmarks, mp_holistic.POSE_CONNECTIONS,\n",
    "                             mp_drawing.DrawingSpec(color=(60,20,220), thickness=2, circle_radius=1), \n",
    "                             mp_drawing.DrawingSpec(color=(255,144,30), thickness=2, circle_radius=2)\n",
    "                             ) \n",
    "    # Draw left hand connections\n",
    "    mp_drawing.draw_landmarks(image, results.left_hand_landmarks, mp_holistic.HAND_CONNECTIONS, \n",
    "                             mp_drawing.DrawingSpec(color=(60,20,220), thickness=2, circle_radius=1), \n",
    "                             mp_drawing.DrawingSpec(color=(0,255,30), thickness=2, circle_radius=2)\n",
    "                             ) \n",
    "    # Draw right hand connections  \n",
    "    mp_drawing.draw_landmarks(image, results.right_hand_landmarks, mp_holistic.HAND_CONNECTIONS, \n",
    "                             mp_drawing.DrawingSpec(color=(60,20,220), thickness=2, circle_radius=1), \n",
    "                             mp_drawing.DrawingSpec(color=(0,255,30), thickness=2, circle_radius=2)\n",
    "                             ) \n",
    "    \n",
    "def extract_keypoints(results):\n",
    "    pose = np.array([[res.x, res.y, res.z, res.visibility] for res in results.pose_landmarks.landmark]).flatten() if results.pose_landmarks else np.zeros(33*4)\n",
    "    lh = np.array([[res.x, res.y, res.z] for res in results.left_hand_landmarks.landmark]).flatten() if results.left_hand_landmarks else np.zeros(21*3)\n",
    "    rh = np.array([[res.x, res.y, res.z] for res in results.right_hand_landmarks.landmark]).flatten() if results.right_hand_landmarks else np.zeros(21*3)\n",
    "    return np.concatenate([pose, lh, rh])\n",
    "\n",
    "# I have removed FACE FROM THIS FUNCTION"
   ]
  },
  {
   "cell_type": "markdown",
   "metadata": {
    "heading_collapsed": true
   },
   "source": [
    "## 2. Keypoints using MP Holistic"
   ]
  },
  {
   "cell_type": "code",
   "execution_count": 4,
   "metadata": {
    "hidden": true
   },
   "outputs": [],
   "source": [
    "mp_holistic = mp.solutions.holistic # Holistic model\n",
    "mp_drawing = mp.solutions.drawing_utils # Drawing utilities"
   ]
  },
  {
   "cell_type": "code",
   "execution_count": 5,
   "metadata": {
    "hidden": true
   },
   "outputs": [],
   "source": [
    "def mediapipe_detection(image, model):\n",
    "    image = cv2.cvtColor(image, cv2.COLOR_BGR2RGB) # COLOR CONVERSION BGR 2 RGB\n",
    "    image.flags.writeable = False                  # Image is no longer writeable:\n",
    "    results = model.process(image)                 # Make prediction\n",
    "    image.flags.writeable = True                   # Image is now writeable \n",
    "    image = cv2.cvtColor(image, cv2.COLOR_RGB2BGR) # COLOR COVERSION RGB 2 BGR\n",
    "    return image, results #return the image and results back to loop"
   ]
  },
  {
   "cell_type": "code",
   "execution_count": 55,
   "metadata": {
    "hidden": true
   },
   "outputs": [],
   "source": [
    "# Applies to the frame in place\n",
    "\n",
    "def draw_landmarks(image, results):\n",
    "#     mp_drawing.draw_landmarks(image, results.face_landmarks, mp_holistic.FACEMESH_TESSELATION) # Draw face connections\n",
    "    mp_drawing.draw_landmarks(image, results.pose_landmarks, mp_holistic.POSE_CONNECTIONS) # Draw pose connections\n",
    "    mp_drawing.draw_landmarks(image, results.left_hand_landmarks, mp_holistic.HAND_CONNECTIONS) # Draw left hand connections\n",
    "    mp_drawing.draw_landmarks(image, results.right_hand_landmarks, mp_holistic.HAND_CONNECTIONS) # Draw right hand connections"
   ]
  },
  {
   "cell_type": "code",
   "execution_count": 54,
   "metadata": {
    "hidden": true
   },
   "outputs": [],
   "source": [
    "def draw_styled_landmarks(image, results):\n",
    "    # Draw face connections\n",
    "#     mp_drawing.draw_landmarks(image, results.face_landmarks, mp_holistic.FACEMESH_TESSELATION, \n",
    "#                              mp_drawing.DrawingSpec(color=(80,110,10), thickness=1, circle_radius=1), \n",
    "#                              mp_drawing.DrawingSpec(color=(80,256,121), thickness=1, circle_radius=1)\n",
    "#                              ) \n",
    "    # Draw pose connections\n",
    "    mp_drawing.draw_landmarks(image, results.pose_landmarks, mp_holistic.POSE_CONNECTIONS,\n",
    "                             mp_drawing.DrawingSpec(color=(60,20,220), thickness=2, circle_radius=1), \n",
    "                             mp_drawing.DrawingSpec(color=(255,144,30), thickness=2, circle_radius=2)\n",
    "                             ) \n",
    "    # Draw left hand connections\n",
    "    mp_drawing.draw_landmarks(image, results.left_hand_landmarks, mp_holistic.HAND_CONNECTIONS, \n",
    "                             mp_drawing.DrawingSpec(color=(60,20,220), thickness=2, circle_radius=1), \n",
    "                             mp_drawing.DrawingSpec(color=(0,255,30), thickness=2, circle_radius=2)\n",
    "                             ) \n",
    "    # Draw right hand connections  \n",
    "    mp_drawing.draw_landmarks(image, results.right_hand_landmarks, mp_holistic.HAND_CONNECTIONS, \n",
    "                             mp_drawing.DrawingSpec(color=(60,20,220), thickness=2, circle_radius=1), \n",
    "                             mp_drawing.DrawingSpec(color=(0,255,30), thickness=2, circle_radius=2)\n",
    "                             ) "
   ]
  },
  {
   "cell_type": "code",
   "execution_count": 53,
   "metadata": {
    "hidden": true
   },
   "outputs": [],
   "source": [
    "cap = cv2.VideoCapture(0)\n",
    "# Set mediapipe model: instantiate the model to fit into detection function\n",
    "with mp_holistic.Holistic(min_detection_confidence=0.5, min_tracking_confidence=0.5) as holistic:\n",
    "    while cap.isOpened():\n",
    "\n",
    "        # Read frame from webcam, return value, frame: image from webcam\n",
    "        ret, frame = cap.read()\n",
    "\n",
    "        # Feed webcam image to mediapipe to Make detections\n",
    "        image, results = mediapipe_detection(frame, holistic)\n",
    "#         print(results)\n",
    "        \n",
    "        # Draw landmarks\n",
    "        draw_styled_landmarks(image, results)\n",
    "\n",
    "        # Show to screen\n",
    "        cv2.imshow('OpenCV Feed', image)\n",
    "\n",
    "        # Break gracefully\n",
    "        if cv2.waitKey(10) & 0xFF == ord('q'):\n",
    "            break\n",
    "    cap.release()\n",
    "    cv2.destroyAllWindows()"
   ]
  },
  {
   "cell_type": "code",
   "execution_count": 56,
   "metadata": {
    "hidden": true
   },
   "outputs": [],
   "source": [
    "draw_styled_landmarks(frame, results)"
   ]
  },
  {
   "cell_type": "code",
   "execution_count": 57,
   "metadata": {
    "hidden": true
   },
   "outputs": [
    {
     "data": {
      "text/plain": [
       "<matplotlib.image.AxesImage at 0x1ec590b3788>"
      ]
     },
     "execution_count": 57,
     "metadata": {},
     "output_type": "execute_result"
    },
    {
     "data": {
      "image/png": "[encoded data removed]",
      "text/plain": [
       "<Figure size 432x288 with 1 Axes>"
      ]
     },
     "metadata": {
      "needs_background": "light"
     },
     "output_type": "display_data"
    }
   ],
   "source": [
    "plt.imshow(cv2.cvtColor(frame, cv2.COLOR_BGR2RGB))"
   ]
  },
  {
   "cell_type": "markdown",
   "metadata": {
    "heading_collapsed": true
   },
   "source": [
    "## 3. Extract Keypoint Values\n",
    "- Extracting the landmark values from the results\n",
    "- Flatten them to 1D array to feed into LSTM\n",
    "- If landmark not captured, fill with array of 0s"
   ]
  },
  {
   "cell_type": "code",
   "execution_count": 62,
   "metadata": {
    "collapsed": true,
    "hidden": true
   },
   "outputs": [
    {
     "data": {
      "text/plain": [
       "landmark {\n",
       "  x: 0.24774070084095\n",
       "  y: 0.2455667108297348\n",
       "  z: -1.1843081712722778\n",
       "  visibility: 0.9691494703292847\n",
       "}\n",
       "landmark {\n",
       "  x: 0.3009430170059204\n",
       "  y: 0.1811092346906662\n",
       "  z: -1.1041088104248047\n",
       "  visibility: 0.9626727104187012\n",
       "}\n",
       "landmark {\n",
       "  x: 0.31714388728141785\n",
       "  y: 0.18394657969474792\n",
       "  z: -1.104417324066162\n",
       "  visibility: 0.9649668335914612\n",
       "}\n",
       "landmark {\n",
       "  x: 0.33355623483657837\n",
       "  y: 0.18778085708618164\n",
       "  z: -1.1042152643203735\n",
       "  visibility: 0.9674609899520874\n",
       "}\n",
       "landmark {\n",
       "  x: 0.2258281707763672\n",
       "  y: 0.182098388671875\n",
       "  z: -1.078637719154358\n",
       "  visibility: 0.9590281248092651\n",
       "}\n",
       "landmark {\n",
       "  x: 0.19400504231452942\n",
       "  y: 0.18549874424934387\n",
       "  z: -1.0781339406967163\n",
       "  visibility: 0.9561684727668762\n",
       "}\n",
       "landmark {\n",
       "  x: 0.17342180013656616\n",
       "  y: 0.18909096717834473\n",
       "  z: -1.0786815881729126\n",
       "  visibility: 0.9541824460029602\n",
       "}\n",
       "landmark {\n",
       "  x: 0.38271626830101013\n",
       "  y: 0.2434673309326172\n",
       "  z: -0.7004262208938599\n",
       "  visibility: 0.9761441349983215\n",
       "}\n",
       "landmark {\n",
       "  x: 0.17809848487377167\n",
       "  y: 0.24002575874328613\n",
       "  z: -0.47694501280784607\n",
       "  visibility: 0.9628667235374451\n",
       "}\n",
       "landmark {\n",
       "  x: 0.2927128076553345\n",
       "  y: 0.34985437989234924\n",
       "  z: -1.0261646509170532\n",
       "  visibility: 0.9734675288200378\n",
       "}\n",
       "landmark {\n",
       "  x: 0.2173338383436203\n",
       "  y: 0.34614142775535583\n",
       "  z: -0.9899989366531372\n",
       "  visibility: 0.9727557301521301\n",
       "}\n",
       "landmark {\n",
       "  x: 0.6075707674026489\n",
       "  y: 0.6927384734153748\n",
       "  z: -0.5354439616203308\n",
       "  visibility: 0.9827286601066589\n",
       "}\n",
       "landmark {\n",
       "  x: 0.10398884862661362\n",
       "  y: 0.7399818897247314\n",
       "  z: -0.18307563662528992\n",
       "  visibility: 0.9439193606376648\n",
       "}\n",
       "landmark {\n",
       "  x: 0.6899722814559937\n",
       "  y: 1.210422396659851\n",
       "  z: -1.1779497861862183\n",
       "  visibility: 0.771993100643158\n",
       "}\n",
       "landmark {\n",
       "  x: -0.01711740344762802\n",
       "  y: 1.2297810316085815\n",
       "  z: -0.6983098983764648\n",
       "  visibility: 0.16256403923034668\n",
       "}\n",
       "landmark {\n",
       "  x: 0.5279968976974487\n",
       "  y: 1.0073648691177368\n",
       "  z: -1.8132911920547485\n",
       "  visibility: 0.8318876028060913\n",
       "}\n",
       "landmark {\n",
       "  x: 0.1749153733253479\n",
       "  y: 1.169548749923706\n",
       "  z: -1.7829936742782593\n",
       "  visibility: 0.16570578515529633\n",
       "}\n",
       "landmark {\n",
       "  x: 0.46618881821632385\n",
       "  y: 0.9796984195709229\n",
       "  z: -1.965885877609253\n",
       "  visibility: 0.7561862468719482\n",
       "}\n",
       "landmark {\n",
       "  x: 0.208003431558609\n",
       "  y: 1.1800342798233032\n",
       "  z: -1.9590330123901367\n",
       "  visibility: 0.173000305891037\n",
       "}\n",
       "landmark {\n",
       "  x: 0.4324067533016205\n",
       "  y: 0.9052168726921082\n",
       "  z: -1.8168096542358398\n",
       "  visibility: 0.7866500020027161\n",
       "}\n",
       "landmark {\n",
       "  x: 0.2301969975233078\n",
       "  y: 1.1179907321929932\n",
       "  z: -1.8941446542739868\n",
       "  visibility: 0.23078787326812744\n",
       "}\n",
       "landmark {\n",
       "  x: 0.44193679094314575\n",
       "  y: 0.9328525066375732\n",
       "  z: -1.7692975997924805\n",
       "  visibility: 0.7710412740707397\n",
       "}\n",
       "landmark {\n",
       "  x: 0.22515234351158142\n",
       "  y: 1.1236685514450073\n",
       "  z: -1.791452407836914\n",
       "  visibility: 0.22350843250751495\n",
       "}\n",
       "landmark {\n",
       "  x: 0.5475994348526001\n",
       "  y: 1.6154433488845825\n",
       "  z: -0.1774863302707672\n",
       "  visibility: 0.0022773905657231808\n",
       "}\n",
       "landmark {\n",
       "  x: 0.19157379865646362\n",
       "  y: 1.6116611957550049\n",
       "  z: 0.18403801321983337\n",
       "  visibility: 0.0013804315822198987\n",
       "}\n",
       "landmark {\n",
       "  x: 0.5402716994285583\n",
       "  y: 2.372580051422119\n",
       "  z: -0.17580607533454895\n",
       "  visibility: 0.0032184687443077564\n",
       "}\n",
       "landmark {\n",
       "  x: 0.24527254700660706\n",
       "  y: 2.364205837249756\n",
       "  z: 0.19240440428256989\n",
       "  visibility: 0.0011644348269328475\n",
       "}\n",
       "landmark {\n",
       "  x: 0.555838942527771\n",
       "  y: 3.045600175857544\n",
       "  z: 0.6977396011352539\n",
       "  visibility: 8.501827687723562e-05\n",
       "}\n",
       "landmark {\n",
       "  x: 0.25773486495018005\n",
       "  y: 3.0334722995758057\n",
       "  z: 0.7434802651405334\n",
       "  visibility: 2.8421578463166952e-05\n",
       "}\n",
       "landmark {\n",
       "  x: 0.584579586982727\n",
       "  y: 3.1604127883911133\n",
       "  z: 0.6970919370651245\n",
       "  visibility: 5.232138209976256e-05\n",
       "}\n",
       "landmark {\n",
       "  x: 0.26213717460632324\n",
       "  y: 3.1469829082489014\n",
       "  z: 0.7767581343650818\n",
       "  visibility: 5.616068665403873e-05\n",
       "}\n",
       "landmark {\n",
       "  x: 0.4479224681854248\n",
       "  y: 3.249541997909546\n",
       "  z: -0.17771032452583313\n",
       "  visibility: 0.00012624385999515653\n",
       "}\n",
       "landmark {\n",
       "  x: 0.2542433738708496\n",
       "  y: 3.2479491233825684\n",
       "  z: 0.1281130462884903\n",
       "  visibility: 0.00019538581545930356\n",
       "}"
      ]
     },
     "execution_count": 62,
     "metadata": {},
     "output_type": "execute_result"
    }
   ],
   "source": [
    "# Show the pose landmarks that was captured\n",
    "results.pose_landmarks"
   ]
  },
  {
   "cell_type": "code",
   "execution_count": 63,
   "metadata": {
    "hidden": true
   },
   "outputs": [],
   "source": [
    "# Testing, getting all the landmarks from pose\n",
    "pose = []\n",
    "for res in results.pose_landmarks.landmark:\n",
    "    test = np.array([res.x, res.y, res.z, res.visibility])\n",
    "    pose.append(test)"
   ]
  },
  {
   "cell_type": "code",
   "execution_count": 64,
   "metadata": {
    "hidden": true
   },
   "outputs": [
    {
     "data": {
      "text/plain": [
       "[array([ 0.2477407 ,  0.24556671, -1.18430817,  0.96914947]),\n",
       " array([ 0.30094302,  0.18110923, -1.10410881,  0.96267271]),\n",
       " array([ 0.31714389,  0.18394658, -1.10441732,  0.96496683]),\n",
       " array([ 0.33355623,  0.18778086, -1.10421526,  0.96746099]),\n",
       " array([ 0.22582817,  0.18209839, -1.07863772,  0.95902812]),\n",
       " array([ 0.19400504,  0.18549874, -1.07813394,  0.95616847]),\n",
       " array([ 0.1734218 ,  0.18909097, -1.07868159,  0.95418245]),\n",
       " array([ 0.38271627,  0.24346733, -0.70042622,  0.97614413]),\n",
       " array([ 0.17809848,  0.24002576, -0.47694501,  0.96286672]),\n",
       " array([ 0.29271281,  0.34985438, -1.02616465,  0.97346753]),\n",
       " array([ 0.21733384,  0.34614143, -0.98999894,  0.97275573]),\n",
       " array([ 0.60757077,  0.69273847, -0.53544396,  0.98272866]),\n",
       " array([ 0.10398885,  0.73998189, -0.18307564,  0.94391936]),\n",
       " array([ 0.68997228,  1.2104224 , -1.17794979,  0.7719931 ]),\n",
       " array([-0.0171174 ,  1.22978103, -0.6983099 ,  0.16256404]),\n",
       " array([ 0.5279969 ,  1.00736487, -1.81329119,  0.8318876 ]),\n",
       " array([ 0.17491537,  1.16954875, -1.78299367,  0.16570579]),\n",
       " array([ 0.46618882,  0.97969842, -1.96588588,  0.75618625]),\n",
       " array([ 0.20800343,  1.18003428, -1.95903301,  0.17300031]),\n",
       " array([ 0.43240675,  0.90521687, -1.81680965,  0.78665   ]),\n",
       " array([ 0.230197  ,  1.11799073, -1.89414465,  0.23078787]),\n",
       " array([ 0.44193679,  0.93285251, -1.7692976 ,  0.77104127]),\n",
       " array([ 0.22515234,  1.12366855, -1.79145241,  0.22350843]),\n",
       " array([ 0.54759943,  1.61544335, -0.17748633,  0.00227739]),\n",
       " array([1.91573799e-01, 1.61166120e+00, 1.84038013e-01, 1.38043158e-03]),\n",
       " array([ 0.5402717 ,  2.37258005, -0.17580608,  0.00321847]),\n",
       " array([2.45272547e-01, 2.36420584e+00, 1.92404404e-01, 1.16443483e-03]),\n",
       " array([5.55838943e-01, 3.04560018e+00, 6.97739601e-01, 8.50182769e-05]),\n",
       " array([2.57734865e-01, 3.03347230e+00, 7.43480265e-01, 2.84215785e-05]),\n",
       " array([5.84579587e-01, 3.16041279e+00, 6.97091937e-01, 5.23213821e-05]),\n",
       " array([2.62137175e-01, 3.14698291e+00, 7.76758134e-01, 5.61606867e-05]),\n",
       " array([ 4.47922468e-01,  3.24954200e+00, -1.77710325e-01,  1.26243860e-04]),\n",
       " array([2.54243374e-01, 3.24794912e+00, 1.28113046e-01, 1.95385815e-04])]"
      ]
     },
     "execution_count": 64,
     "metadata": {},
     "output_type": "execute_result"
    }
   ],
   "source": [
    "pose"
   ]
  },
  {
   "cell_type": "code",
   "execution_count": 25,
   "metadata": {
    "hidden": true
   },
   "outputs": [],
   "source": [
    "# in list comprehension form\n",
    "pose = np.array([[res.x, res.y, res.z, res.visibility] for res in results.pose_landmarks.landmark]).flatten() if results.pose_landmarks else np.zeros(132)\n",
    "# face = np.array([[res.x, res.y, res.z] for res in results.face_landmarks.landmark]).flatten() if results.face_landmarks else np.zeros(1404)\n",
    "lh = np.array([[res.x, res.y, res.z] for res in results.left_hand_landmarks.landmark]).flatten() if results.left_hand_landmarks else np.zeros(21*3)\n",
    "rh = np.array([[res.x, res.y, res.z] for res in results.right_hand_landmarks.landmark]).flatten() if results.right_hand_landmarks else np.zeros(21*3)"
   ]
  },
  {
   "cell_type": "code",
   "execution_count": 21,
   "metadata": {
    "hidden": true
   },
   "outputs": [],
   "source": [
    "def extract_keypoints(results):\n",
    "    pose = np.array([[res.x, res.y, res.z, res.visibility] for res in results.pose_landmarks.landmark]).flatten() if results.pose_landmarks else np.zeros(33*4)\n",
    "#     face = np.array([[res.x, res.y, res.z] for res in results.face_landmarks.landmark]).flatten() if results.face_landmarks else np.zeros(468*3)\n",
    "    lh = np.array([[res.x, res.y, res.z] for res in results.left_hand_landmarks.landmark]).flatten() if results.left_hand_landmarks else np.zeros(21*3)\n",
    "    rh = np.array([[res.x, res.y, res.z] for res in results.right_hand_landmarks.landmark]).flatten() if results.right_hand_landmarks else np.zeros(21*3)\n",
    "    return np.concatenate([pose, face, lh, rh])"
   ]
  },
  {
   "cell_type": "code",
   "execution_count": 22,
   "metadata": {
    "hidden": true
   },
   "outputs": [],
   "source": [
    "# Assign output numpy array to variable\n",
    "result_test = extract_keypoints(results)"
   ]
  },
  {
   "cell_type": "code",
   "execution_count": 23,
   "metadata": {
    "hidden": true
   },
   "outputs": [
    {
     "data": {
      "text/plain": [
       "array([ 0.28550807,  0.31009305, -1.60173321, ...,  0.        ,\n",
       "        0.        ,  0.        ])"
      ]
     },
     "execution_count": 23,
     "metadata": {},
     "output_type": "execute_result"
    }
   ],
   "source": [
    "# Print numpy variable\n",
    "result_test"
   ]
  },
  {
   "cell_type": "code",
   "execution_count": 24,
   "metadata": {
    "hidden": true
   },
   "outputs": [],
   "source": [
    "# Save numpy array as a file\n",
    "np.save('0', result_test)"
   ]
  },
  {
   "cell_type": "code",
   "execution_count": 25,
   "metadata": {
    "hidden": true
   },
   "outputs": [],
   "source": [
    "# Load the numpy file\n",
    "# np.load('0.npy')"
   ]
  },
  {
   "cell_type": "markdown",
   "metadata": {},
   "source": [
    "## 4. Setup Folders for Collection"
   ]
  },
  {
   "cell_type": "code",
   "execution_count": 32,
   "metadata": {},
   "outputs": [],
   "source": [
    "actions = np.array(['hire', 'me', 'please', 'Google'])"
   ]
  },
  {
   "cell_type": "code",
   "execution_count": 10,
   "metadata": {},
   "outputs": [],
   "source": [
    "# Path for exported data, numpy arrays\n",
    "DATA_PATH = os.path.join('hire_me_please_google') \n",
    "\n",
    "# Actions that we try to detect\n",
    "actions = np.array(['hire', 'me', 'please', 'Google'])\n",
    "\n",
    "# Thirty videos worth of data\n",
    "no_sequences = 15\n",
    "\n",
    "# Videos are going to be 30 frames in length\n",
    "sequence_length = 30"
   ]
  },
  {
   "cell_type": "code",
   "execution_count": 11,
   "metadata": {},
   "outputs": [],
   "source": [
    "for action in actions: \n",
    "    for sequence in range(no_sequences):\n",
    "        try: \n",
    "            os.makedirs(os.path.join(DATA_PATH, action, str(sequence)))\n",
    "        except:\n",
    "            pass"
   ]
  },
  {
   "cell_type": "markdown",
   "metadata": {
    "heading_collapsed": true
   },
   "source": [
    "## 5. Collect Keypoint Values for Training and Testing"
   ]
  },
  {
   "cell_type": "code",
   "execution_count": 9,
   "metadata": {
    "hidden": true
   },
   "outputs": [],
   "source": [
    "# Test camera position\n",
    "cap = cv2.VideoCapture(0)\n",
    "with mp_holistic.Holistic(min_detection_confidence=0.5, min_tracking_confidence=0.5) as holistic:\n",
    "    while cap.isOpened():\n",
    "        ret, frame = cap.read()\n",
    "        image, results = mediapipe_detection(frame, holistic)\n",
    "        draw_styled_landmarks(image, results)\n",
    "        cv2.imshow('OpenCV Feed', image)\n",
    "        if cv2.waitKey(10) & 0xFF == ord('q'):\n",
    "            break\n",
    "    cap.release()\n",
    "    cv2.destroyAllWindows()"
   ]
  },
  {
   "cell_type": "code",
   "execution_count": 12,
   "metadata": {
    "hidden": true
   },
   "outputs": [],
   "source": [
    "cap = cv2.VideoCapture(0)\n",
    "# Set mediapipe model \n",
    "with mp_holistic.Holistic(min_detection_confidence=0.5, min_tracking_confidence=0.5) as holistic:\n",
    "    \n",
    "    # NEW LOOP\n",
    "    # Loop through actions (hello, thanks, ily)\n",
    "    for action in actions:\n",
    "        # Loop through sequences aka videos\n",
    "        for sequence in range(no_sequences):\n",
    "            # Loop through video length aka sequence length, each frame, 30 frames of keypoints for each video\n",
    "            for frame_num in range(sequence_length):\n",
    "\n",
    "                # Read feed\n",
    "                ret, frame = cap.read()\n",
    "\n",
    "                # Make detections\n",
    "                image, results = mediapipe_detection(frame, holistic)\n",
    "#                 print(results)\n",
    "\n",
    "                # Draw landmarks\n",
    "                draw_styled_landmarks(image, results)\n",
    "                \n",
    "                # NEW Apply wait logic\n",
    "                if frame_num == 0: \n",
    "                    cv2.putText(image, 'STARTING COLLECTION', (120,200), \n",
    "                               cv2.FONT_HERSHEY_SIMPLEX, 1, (0,255, 0), 4, cv2.LINE_AA)\n",
    "                    cv2.putText(image, 'Collecting frames for {} Video Number {}'.format(action, sequence), (15,12), \n",
    "                               cv2.FONT_HERSHEY_SIMPLEX, 0.5, (0, 0, 255), 1, cv2.LINE_AA)\n",
    "                    # Show to screen\n",
    "                    cv2.imshow('OpenCV Feed', image)\n",
    "                    cv2.waitKey(1000)\n",
    "                else: \n",
    "                    cv2.putText(image, 'Collecting frames for {} Video Number {}'.format(action, sequence), (15,12), \n",
    "                               cv2.FONT_HERSHEY_SIMPLEX, 0.5, (0, 0, 255), 1, cv2.LINE_AA)\n",
    "                    # Show to screen\n",
    "                    cv2.imshow('OpenCV Feed', image)\n",
    "                \n",
    "                # NEW Export keypoints\n",
    "                keypoints = extract_keypoints(results)\n",
    "                npy_path = os.path.join(DATA_PATH, action, str(sequence), str(frame_num))\n",
    "                np.save(npy_path, keypoints)\n",
    "\n",
    "                # Break gracefully\n",
    "                if cv2.waitKey(10) & 0xFF == ord('q'):\n",
    "                    break\n",
    "                    \n",
    "    cap.release()\n",
    "    cv2.destroyAllWindows()"
   ]
  },
  {
   "cell_type": "code",
   "execution_count": 8,
   "metadata": {
    "hidden": true
   },
   "outputs": [],
   "source": [
    "cap.release()\n",
    "cv2.destroyAllWindows()"
   ]
  },
  {
   "cell_type": "markdown",
   "metadata": {
    "heading_collapsed": true
   },
   "source": [
    "## 6. Preprocess Data and Create Labels and Features"
   ]
  },
  {
   "cell_type": "code",
   "execution_count": 13,
   "metadata": {
    "hidden": true
   },
   "outputs": [],
   "source": [
    "from sklearn.model_selection import train_test_split\n",
    "from tensorflow.keras.utils import to_categorical"
   ]
  },
  {
   "cell_type": "code",
   "execution_count": 14,
   "metadata": {
    "hidden": true
   },
   "outputs": [],
   "source": [
    "label_map = {label:num for num, label in enumerate(actions)}"
   ]
  },
  {
   "cell_type": "code",
   "execution_count": 15,
   "metadata": {
    "hidden": true
   },
   "outputs": [
    {
     "data": {
      "text/plain": [
       "{'hire': 0, 'me': 1, 'please': 2, 'Google': 3}"
      ]
     },
     "execution_count": 15,
     "metadata": {},
     "output_type": "execute_result"
    }
   ],
   "source": [
    "label_map"
   ]
  },
  {
   "cell_type": "code",
   "execution_count": 16,
   "metadata": {
    "hidden": true
   },
   "outputs": [],
   "source": [
    "sequences, labels = [], []\n",
    "for action in actions:\n",
    "    for sequence in np.array(os.listdir(os.path.join(DATA_PATH, action))).astype(int):\n",
    "        window = []\n",
    "        for frame_num in range(sequence_length):\n",
    "            res = np.load(os.path.join(DATA_PATH, action, str(sequence), \"{}.npy\".format(frame_num)))\n",
    "            window.append(res)\n",
    "        sequences.append(window)\n",
    "        labels.append(label_map[action])"
   ]
  },
  {
   "cell_type": "code",
   "execution_count": 17,
   "metadata": {
    "hidden": true
   },
   "outputs": [
    {
     "data": {
      "text/plain": [
       "(60, 30, 258)"
      ]
     },
     "execution_count": 17,
     "metadata": {},
     "output_type": "execute_result"
    }
   ],
   "source": [
    "# (videos, frames, keypoints)\n",
    "np.array(sequences).shape"
   ]
  },
  {
   "cell_type": "code",
   "execution_count": 18,
   "metadata": {
    "hidden": true
   },
   "outputs": [
    {
     "data": {
      "text/plain": [
       "(60,)"
      ]
     },
     "execution_count": 18,
     "metadata": {},
     "output_type": "execute_result"
    }
   ],
   "source": [
    "# (videos * labels)\n",
    "np.array(labels).shape"
   ]
  },
  {
   "cell_type": "code",
   "execution_count": 19,
   "metadata": {
    "hidden": true
   },
   "outputs": [],
   "source": [
    "X = np.array(sequences)"
   ]
  },
  {
   "cell_type": "code",
   "execution_count": 20,
   "metadata": {
    "hidden": true
   },
   "outputs": [
    {
     "data": {
      "text/plain": [
       "(60, 30, 258)"
      ]
     },
     "execution_count": 20,
     "metadata": {},
     "output_type": "execute_result"
    }
   ],
   "source": [
    "X.shape"
   ]
  },
  {
   "cell_type": "code",
   "execution_count": 21,
   "metadata": {
    "hidden": true
   },
   "outputs": [],
   "source": [
    "# one hot encode y variables\n",
    "y = to_categorical(labels).astype(int)"
   ]
  },
  {
   "cell_type": "code",
   "execution_count": 28,
   "metadata": {
    "hidden": true
   },
   "outputs": [],
   "source": [
    "# Skip train test split\n",
    "X_train = X\n",
    "y_train = y"
   ]
  },
  {
   "cell_type": "code",
   "execution_count": 19,
   "metadata": {
    "hidden": true
   },
   "outputs": [],
   "source": [
    "# X_train, X_test, y_train, y_test = train_test_split(X, y, test_size=0.05)"
   ]
  },
  {
   "cell_type": "code",
   "execution_count": 29,
   "metadata": {
    "collapsed": true,
    "hidden": true
   },
   "outputs": [
    {
     "ename": "NameError",
     "evalue": "name 'y_test' is not defined",
     "output_type": "error",
     "traceback": [
      "\u001b[1;31m---------------------------------------------------------------------------\u001b[0m",
      "\u001b[1;31mNameError\u001b[0m                                 Traceback (most recent call last)",
      "\u001b[1;32m<ipython-input-29-4f30429c224a>\u001b[0m in \u001b[0;36m<module>\u001b[1;34m\u001b[0m\n\u001b[1;32m----> 1\u001b[1;33m \u001b[0my_test\u001b[0m\u001b[1;33m.\u001b[0m\u001b[0mshape\u001b[0m\u001b[1;33m\u001b[0m\u001b[1;33m\u001b[0m\u001b[0m\n\u001b[0m",
      "\u001b[1;31mNameError\u001b[0m: name 'y_test' is not defined"
     ]
    }
   ],
   "source": [
    "y_test.shape"
   ]
  },
  {
   "cell_type": "markdown",
   "metadata": {
    "heading_collapsed": true
   },
   "source": [
    "## 7. Build and Train LSTM Neural Network"
   ]
  },
  {
   "cell_type": "code",
   "execution_count": 33,
   "metadata": {
    "hidden": true
   },
   "outputs": [],
   "source": [
    "from tensorflow.keras.models import Sequential\n",
    "from tensorflow.keras.layers import LSTM, Dense\n",
    "from tensorflow.keras.callbacks import TensorBoard"
   ]
  },
  {
   "cell_type": "code",
   "execution_count": 23,
   "metadata": {
    "hidden": true
   },
   "outputs": [],
   "source": [
    "log_dir = os.path.join('Logs')\n",
    "tb_callback = TensorBoard(log_dir=log_dir)"
   ]
  },
  {
   "cell_type": "code",
   "execution_count": 34,
   "metadata": {
    "hidden": true
   },
   "outputs": [],
   "source": [
    "model = Sequential()\n",
    "# 3 LSTM layers\n",
    "# model.add(LSTM(64, return_sequences=True, activation='relu', input_shape=(30,1662)))\n",
    "model.add(LSTM(64, return_sequences=True, activation='relu', input_shape=(30,258)))\n",
    "model.add(LSTM(128, return_sequences=True, activation='relu'))\n",
    "model.add(LSTM(64, return_sequences=False, activation='relu'))\n",
    "model.add(Dense(64, activation='relu'))\n",
    "model.add(Dense(32, activation='relu'))\n",
    "model.add(Dense(actions.shape[0], activation='softmax'))"
   ]
  },
  {
   "cell_type": "code",
   "execution_count": 35,
   "metadata": {
    "hidden": true
   },
   "outputs": [],
   "source": [
    "model.compile(optimizer='Adam', loss='categorical_crossentropy', metrics=['categorical_accuracy'])"
   ]
  },
  {
   "cell_type": "code",
   "execution_count": 30,
   "metadata": {
    "collapsed": true,
    "hidden": true
   },
   "outputs": [
    {
     "name": "stdout",
     "output_type": "stream",
     "text": [
      "Epoch 1/1000\n",
      "1/2 [==============>...............] - ETA: 0s - loss: 1.4095 - categorical_accuracy: 0.2812WARNING:tensorflow:From C:\\Users\\wushen\\Anaconda3\\lib\\site-packages\\tensorflow\\python\\ops\\summary_ops_v2.py:1277: stop (from tensorflow.python.eager.profiler) is deprecated and will be removed after 2020-07-01.\n",
      "Instructions for updating:\n",
      "use `tf.profiler.experimental.stop` instead.\n",
      "2/2 [==============================] - ETA: 0s - loss: 1.4151 - categorical_accuracy: 0.2833WARNING:tensorflow:Callbacks method `on_train_batch_end` is slow compared to the batch time (batch time: 0.1077s vs `on_train_batch_end` time: 0.9168s). Check your callbacks.\n",
      "2/2 [==============================] - 1s 533ms/step - loss: 1.4151 - categorical_accuracy: 0.2833\n",
      "Epoch 2/1000\n",
      "2/2 [==============================] - 0s 30ms/step - loss: 1.3447 - categorical_accuracy: 0.5000\n",
      "Epoch 3/1000\n",
      "2/2 [==============================] - 0s 29ms/step - loss: 1.2735 - categorical_accuracy: 0.3667\n",
      "Epoch 4/1000\n",
      "2/2 [==============================] - 0s 25ms/step - loss: 1.5418 - categorical_accuracy: 0.5833\n",
      "Epoch 5/1000\n",
      "2/2 [==============================] - 0s 30ms/step - loss: 2.7333 - categorical_accuracy: 0.2500\n",
      "Epoch 6/1000\n",
      "2/2 [==============================] - 0s 29ms/step - loss: 1.2106 - categorical_accuracy: 0.4500\n",
      "Epoch 7/1000\n",
      "2/2 [==============================] - 0s 32ms/step - loss: 1.1673 - categorical_accuracy: 0.3167\n",
      "Epoch 8/1000\n",
      "2/2 [==============================] - 0s 39ms/step - loss: 1.0239 - categorical_accuracy: 0.4833\n",
      "Epoch 9/1000\n",
      "2/2 [==============================] - 0s 38ms/step - loss: 0.9909 - categorical_accuracy: 0.4833\n",
      "Epoch 10/1000\n",
      "2/2 [==============================] - 0s 34ms/step - loss: 0.8434 - categorical_accuracy: 0.5000\n",
      "Epoch 11/1000\n",
      "2/2 [==============================] - 0s 40ms/step - loss: 0.7564 - categorical_accuracy: 0.6833\n",
      "Epoch 12/1000\n",
      "2/2 [==============================] - 0s 39ms/step - loss: 0.7703 - categorical_accuracy: 0.6500\n",
      "Epoch 13/1000\n",
      "2/2 [==============================] - 0s 36ms/step - loss: 1.8539 - categorical_accuracy: 0.5000\n",
      "Epoch 14/1000\n",
      "2/2 [==============================] - 0s 31ms/step - loss: 1.7777 - categorical_accuracy: 0.4500\n",
      "Epoch 15/1000\n",
      "2/2 [==============================] - 0s 30ms/step - loss: 1.4051 - categorical_accuracy: 0.2500\n",
      "Epoch 16/1000\n",
      "2/2 [==============================] - 0s 36ms/step - loss: 1.3309 - categorical_accuracy: 0.2833\n",
      "Epoch 17/1000\n",
      "2/2 [==============================] - 0s 35ms/step - loss: 1.3116 - categorical_accuracy: 0.2833\n",
      "Epoch 18/1000\n",
      "2/2 [==============================] - 0s 30ms/step - loss: 1.2997 - categorical_accuracy: 0.3000\n",
      "Epoch 19/1000\n",
      "2/2 [==============================] - 0s 31ms/step - loss: 1.2753 - categorical_accuracy: 0.3167\n",
      "Epoch 20/1000\n",
      "2/2 [==============================] - 0s 32ms/step - loss: 1.2084 - categorical_accuracy: 0.3333\n",
      "Epoch 21/1000\n",
      "2/2 [==============================] - 0s 38ms/step - loss: 1.1106 - categorical_accuracy: 0.3667\n",
      "Epoch 22/1000\n",
      "2/2 [==============================] - 0s 30ms/step - loss: 1.1311 - categorical_accuracy: 0.4000\n",
      "Epoch 23/1000\n",
      "2/2 [==============================] - 0s 40ms/step - loss: 1.0154 - categorical_accuracy: 0.5333\n",
      "Epoch 24/1000\n",
      "2/2 [==============================] - 0s 38ms/step - loss: 1.0158 - categorical_accuracy: 0.7000\n",
      "Epoch 25/1000\n",
      "2/2 [==============================] - 0s 33ms/step - loss: 0.9493 - categorical_accuracy: 0.7167\n",
      "Epoch 26/1000\n",
      "2/2 [==============================] - 0s 26ms/step - loss: 0.8453 - categorical_accuracy: 0.7167\n",
      "Epoch 27/1000\n",
      "2/2 [==============================] - 0s 36ms/step - loss: 0.6605 - categorical_accuracy: 0.7500\n",
      "Epoch 28/1000\n",
      "2/2 [==============================] - 0s 30ms/step - loss: 0.7032 - categorical_accuracy: 0.7000\n",
      "Epoch 29/1000\n",
      "2/2 [==============================] - 0s 32ms/step - loss: 0.4731 - categorical_accuracy: 0.7833\n",
      "Epoch 30/1000\n",
      "2/2 [==============================] - 0s 32ms/step - loss: 0.9890 - categorical_accuracy: 0.7167\n",
      "Epoch 31/1000\n",
      "2/2 [==============================] - 0s 35ms/step - loss: 1.7018 - categorical_accuracy: 0.4667\n",
      "Epoch 32/1000\n",
      "2/2 [==============================] - 0s 45ms/step - loss: 1.2048 - categorical_accuracy: 0.3333\n",
      "Epoch 33/1000\n",
      "2/2 [==============================] - 0s 31ms/step - loss: 1.1053 - categorical_accuracy: 0.2833\n",
      "Epoch 34/1000\n",
      "2/2 [==============================] - 0s 34ms/step - loss: 1.0939 - categorical_accuracy: 0.2500\n",
      "Epoch 35/1000\n",
      "2/2 [==============================] - 0s 37ms/step - loss: 1.0817 - categorical_accuracy: 0.2500\n",
      "Epoch 36/1000\n",
      "2/2 [==============================] - 0s 36ms/step - loss: 1.0680 - categorical_accuracy: 0.3167\n",
      "Epoch 37/1000\n",
      "2/2 [==============================] - 0s 39ms/step - loss: 1.0511 - categorical_accuracy: 0.4833\n",
      "Epoch 38/1000\n",
      "2/2 [==============================] - 0s 36ms/step - loss: 1.0341 - categorical_accuracy: 0.4833\n",
      "Epoch 39/1000\n",
      "2/2 [==============================] - 0s 38ms/step - loss: 1.0106 - categorical_accuracy: 0.5000\n",
      "Epoch 40/1000\n",
      "2/2 [==============================] - 0s 36ms/step - loss: 0.9789 - categorical_accuracy: 0.5000\n",
      "Epoch 41/1000\n",
      "2/2 [==============================] - 0s 49ms/step - loss: 0.9106 - categorical_accuracy: 0.5000\n",
      "Epoch 42/1000\n",
      "2/2 [==============================] - 0s 44ms/step - loss: 0.9115 - categorical_accuracy: 0.4833\n",
      "Epoch 43/1000\n",
      "2/2 [==============================] - 0s 33ms/step - loss: 1.4666 - categorical_accuracy: 0.3667\n",
      "Epoch 44/1000\n",
      "2/2 [==============================] - 0s 37ms/step - loss: 1.1835 - categorical_accuracy: 0.3833\n",
      "Epoch 45/1000\n",
      "2/2 [==============================] - 0s 40ms/step - loss: 1.0496 - categorical_accuracy: 0.5000\n",
      "Epoch 46/1000\n",
      "2/2 [==============================] - 0s 32ms/step - loss: 1.0072 - categorical_accuracy: 0.4833\n",
      "Epoch 47/1000\n",
      "2/2 [==============================] - 0s 31ms/step - loss: 1.0027 - categorical_accuracy: 0.4833\n",
      "Epoch 48/1000\n",
      "2/2 [==============================] - 0s 44ms/step - loss: 1.0119 - categorical_accuracy: 0.4833\n",
      "Epoch 49/1000\n",
      "2/2 [==============================] - 0s 32ms/step - loss: 1.0090 - categorical_accuracy: 0.4667\n",
      "Epoch 50/1000\n",
      "2/2 [==============================] - 0s 32ms/step - loss: 0.9795 - categorical_accuracy: 0.5333\n",
      "Epoch 51/1000\n",
      "2/2 [==============================] - 0s 34ms/step - loss: 0.9480 - categorical_accuracy: 0.6833\n",
      "Epoch 52/1000\n",
      "2/2 [==============================] - 0s 39ms/step - loss: 0.9206 - categorical_accuracy: 0.5833\n",
      "Epoch 53/1000\n",
      "2/2 [==============================] - 0s 29ms/step - loss: 0.8159 - categorical_accuracy: 0.7167\n",
      "Epoch 54/1000\n",
      "2/2 [==============================] - 0s 33ms/step - loss: 0.7838 - categorical_accuracy: 0.5000\n",
      "Epoch 55/1000\n",
      "2/2 [==============================] - 0s 35ms/step - loss: 0.7847 - categorical_accuracy: 0.6667\n",
      "Epoch 56/1000\n",
      "2/2 [==============================] - 0s 35ms/step - loss: 0.8903 - categorical_accuracy: 0.5167\n",
      "Epoch 57/1000\n",
      "2/2 [==============================] - 0s 32ms/step - loss: 0.9049 - categorical_accuracy: 0.5167\n",
      "Epoch 58/1000\n",
      "2/2 [==============================] - 0s 34ms/step - loss: 0.9062 - categorical_accuracy: 0.5000\n",
      "Epoch 59/1000\n",
      "2/2 [==============================] - 0s 35ms/step - loss: 0.8917 - categorical_accuracy: 0.5167\n",
      "Epoch 60/1000\n",
      "2/2 [==============================] - 0s 28ms/step - loss: 0.8511 - categorical_accuracy: 0.5167\n",
      "Epoch 61/1000\n",
      "2/2 [==============================] - 0s 32ms/step - loss: 1.2465 - categorical_accuracy: 0.6500\n",
      "Epoch 62/1000\n",
      "2/2 [==============================] - 0s 36ms/step - loss: 0.7485 - categorical_accuracy: 0.6500\n",
      "Epoch 63/1000\n",
      "2/2 [==============================] - 0s 42ms/step - loss: 1.1350 - categorical_accuracy: 0.4500\n",
      "Epoch 64/1000\n",
      "2/2 [==============================] - 0s 31ms/step - loss: 1.0424 - categorical_accuracy: 0.4833\n",
      "Epoch 65/1000\n",
      "2/2 [==============================] - 0s 34ms/step - loss: 0.9170 - categorical_accuracy: 0.5167\n",
      "Epoch 66/1000\n",
      "2/2 [==============================] - 0s 33ms/step - loss: 0.6675 - categorical_accuracy: 0.7000\n",
      "Epoch 67/1000\n",
      "2/2 [==============================] - 0s 34ms/step - loss: 0.4555 - categorical_accuracy: 0.7333\n",
      "Epoch 68/1000\n",
      "2/2 [==============================] - 0s 31ms/step - loss: 0.4150 - categorical_accuracy: 0.7333\n",
      "Epoch 69/1000\n",
      "2/2 [==============================] - 0s 33ms/step - loss: 0.4199 - categorical_accuracy: 0.7333\n",
      "Epoch 70/1000\n",
      "2/2 [==============================] - 0s 47ms/step - loss: 0.7126 - categorical_accuracy: 0.7667\n",
      "Epoch 71/1000\n",
      "2/2 [==============================] - 0s 48ms/step - loss: 0.8207 - categorical_accuracy: 0.5833\n",
      "Epoch 72/1000\n",
      "2/2 [==============================] - ETA: 0s - loss: 0.9491 - categorical_accuracy: 0.55 - 0s 49ms/step - loss: 0.9491 - categorical_accuracy: 0.5500\n",
      "Epoch 73/1000\n",
      "2/2 [==============================] - 0s 33ms/step - loss: 0.9168 - categorical_accuracy: 0.5500\n",
      "Epoch 74/1000\n",
      "2/2 [==============================] - 0s 34ms/step - loss: 0.8963 - categorical_accuracy: 0.5833\n",
      "Epoch 75/1000\n",
      "2/2 [==============================] - 0s 44ms/step - loss: 0.8326 - categorical_accuracy: 0.6667\n",
      "Epoch 76/1000\n",
      "2/2 [==============================] - 0s 37ms/step - loss: 0.7097 - categorical_accuracy: 0.7167\n",
      "Epoch 77/1000\n",
      "2/2 [==============================] - 0s 36ms/step - loss: 0.6249 - categorical_accuracy: 0.7500\n",
      "Epoch 78/1000\n",
      "2/2 [==============================] - 0s 45ms/step - loss: 0.6037 - categorical_accuracy: 0.7000\n",
      "Epoch 79/1000\n",
      "2/2 [==============================] - 0s 35ms/step - loss: 0.5433 - categorical_accuracy: 0.7167\n",
      "Epoch 80/1000\n",
      "2/2 [==============================] - 0s 38ms/step - loss: 0.4712 - categorical_accuracy: 0.7500\n",
      "Epoch 81/1000\n",
      "2/2 [==============================] - 0s 47ms/step - loss: 0.8195 - categorical_accuracy: 0.6833\n",
      "Epoch 82/1000\n",
      "2/2 [==============================] - 0s 32ms/step - loss: 10.3664 - categorical_accuracy: 0.5500\n",
      "Epoch 83/1000\n",
      "2/2 [==============================] - 0s 43ms/step - loss: 0.5405 - categorical_accuracy: 0.7000\n",
      "Epoch 84/1000\n",
      "2/2 [==============================] - 0s 35ms/step - loss: 0.8258 - categorical_accuracy: 0.5833\n",
      "Epoch 85/1000\n",
      "2/2 [==============================] - 0s 45ms/step - loss: 0.8381 - categorical_accuracy: 0.5500\n",
      "Epoch 86/1000\n",
      "2/2 [==============================] - 0s 44ms/step - loss: 0.7161 - categorical_accuracy: 0.6500\n",
      "Epoch 87/1000\n",
      "2/2 [==============================] - 0s 46ms/step - loss: 1.0517 - categorical_accuracy: 0.5500\n",
      "Epoch 88/1000\n",
      "2/2 [==============================] - 0s 45ms/step - loss: 0.7284 - categorical_accuracy: 0.6667\n",
      "Epoch 89/1000\n",
      "2/2 [==============================] - 0s 33ms/step - loss: 0.8451 - categorical_accuracy: 0.6000\n",
      "Epoch 90/1000\n",
      "2/2 [==============================] - 0s 42ms/step - loss: 0.6651 - categorical_accuracy: 0.7000\n",
      "Epoch 91/1000\n",
      "2/2 [==============================] - 0s 45ms/step - loss: 0.6893 - categorical_accuracy: 0.6667\n",
      "Epoch 92/1000\n",
      "2/2 [==============================] - 0s 47ms/step - loss: 0.5542 - categorical_accuracy: 0.7167\n",
      "Epoch 93/1000\n",
      "2/2 [==============================] - 0s 38ms/step - loss: 0.5282 - categorical_accuracy: 0.8000\n",
      "Epoch 94/1000\n",
      "2/2 [==============================] - 0s 42ms/step - loss: 0.4721 - categorical_accuracy: 0.7833\n",
      "Epoch 95/1000\n",
      "2/2 [==============================] - 0s 46ms/step - loss: 0.4170 - categorical_accuracy: 0.7833\n",
      "Epoch 96/1000\n",
      "2/2 [==============================] - 0s 46ms/step - loss: 0.3777 - categorical_accuracy: 0.9000\n",
      "Epoch 97/1000\n",
      "2/2 [==============================] - 0s 46ms/step - loss: 0.2614 - categorical_accuracy: 0.9000\n",
      "Epoch 98/1000\n",
      "2/2 [==============================] - 0s 41ms/step - loss: 0.7476 - categorical_accuracy: 0.7833\n",
      "Epoch 99/1000\n",
      "2/2 [==============================] - 0s 39ms/step - loss: 0.4759 - categorical_accuracy: 0.8000\n",
      "Epoch 100/1000\n",
      "2/2 [==============================] - 0s 35ms/step - loss: 0.8319 - categorical_accuracy: 0.6833\n",
      "Epoch 101/1000\n",
      "2/2 [==============================] - 0s 37ms/step - loss: 1.0346 - categorical_accuracy: 0.4667\n",
      "Epoch 102/1000\n",
      "2/2 [==============================] - 0s 44ms/step - loss: 1.0721 - categorical_accuracy: 0.5000\n",
      "Epoch 103/1000\n",
      "2/2 [==============================] - 0s 36ms/step - loss: 1.0589 - categorical_accuracy: 0.6167\n",
      "Epoch 104/1000\n",
      "2/2 [==============================] - 0s 34ms/step - loss: 1.0390 - categorical_accuracy: 0.7167\n",
      "Epoch 105/1000\n",
      "2/2 [==============================] - 0s 41ms/step - loss: 0.9595 - categorical_accuracy: 0.6500\n",
      "Epoch 106/1000\n",
      "2/2 [==============================] - 0s 41ms/step - loss: 0.9414 - categorical_accuracy: 0.5167\n",
      "Epoch 107/1000\n",
      "2/2 [==============================] - 0s 46ms/step - loss: 0.8858 - categorical_accuracy: 0.6667\n",
      "Epoch 108/1000\n",
      "2/2 [==============================] - 0s 46ms/step - loss: 0.8308 - categorical_accuracy: 0.6167\n",
      "Epoch 109/1000\n",
      "2/2 [==============================] - 0s 49ms/step - loss: 0.7707 - categorical_accuracy: 0.5333\n",
      "Epoch 110/1000\n",
      "2/2 [==============================] - 0s 50ms/step - loss: 0.6712 - categorical_accuracy: 0.6833\n",
      "Epoch 111/1000\n",
      "2/2 [==============================] - ETA: 0s - loss: 0.6811 - categorical_accuracy: 0.76 - 0s 42ms/step - loss: 0.6811 - categorical_accuracy: 0.7667\n",
      "Epoch 112/1000\n",
      "2/2 [==============================] - 0s 35ms/step - loss: 0.5371 - categorical_accuracy: 0.8833\n",
      "Epoch 113/1000\n",
      "2/2 [==============================] - 0s 42ms/step - loss: 0.4164 - categorical_accuracy: 0.8500\n",
      "Epoch 114/1000\n",
      "2/2 [==============================] - 0s 37ms/step - loss: 2.0827 - categorical_accuracy: 0.6833\n",
      "Epoch 115/1000\n",
      "2/2 [==============================] - 0s 40ms/step - loss: 0.6638 - categorical_accuracy: 0.6500\n",
      "Epoch 116/1000\n",
      "2/2 [==============================] - 0s 39ms/step - loss: 0.9683 - categorical_accuracy: 0.4167\n",
      "Epoch 117/1000\n",
      "2/2 [==============================] - 0s 44ms/step - loss: 0.8697 - categorical_accuracy: 0.5167\n",
      "Epoch 118/1000\n",
      "2/2 [==============================] - 0s 47ms/step - loss: 0.8823 - categorical_accuracy: 0.5333\n",
      "Epoch 119/1000\n",
      "2/2 [==============================] - 0s 47ms/step - loss: 0.8868 - categorical_accuracy: 0.5833\n",
      "Epoch 120/1000\n",
      "2/2 [==============================] - 0s 43ms/step - loss: 0.8866 - categorical_accuracy: 0.6333\n",
      "Epoch 121/1000\n",
      "2/2 [==============================] - 0s 44ms/step - loss: 0.8779 - categorical_accuracy: 0.6833\n",
      "Epoch 122/1000\n",
      "2/2 [==============================] - 0s 37ms/step - loss: 0.8623 - categorical_accuracy: 0.7000\n",
      "Epoch 123/1000\n",
      "2/2 [==============================] - 0s 41ms/step - loss: 0.8439 - categorical_accuracy: 0.7000\n",
      "Epoch 124/1000\n",
      "2/2 [==============================] - 0s 41ms/step - loss: 0.8180 - categorical_accuracy: 0.6500\n",
      "Epoch 125/1000\n",
      "2/2 [==============================] - 0s 33ms/step - loss: 0.7822 - categorical_accuracy: 0.6667\n",
      "Epoch 126/1000\n",
      "2/2 [==============================] - 0s 43ms/step - loss: 0.7352 - categorical_accuracy: 0.6167\n",
      "Epoch 127/1000\n",
      "2/2 [==============================] - 0s 45ms/step - loss: 0.6777 - categorical_accuracy: 0.5333\n",
      "Epoch 128/1000\n",
      "2/2 [==============================] - 0s 37ms/step - loss: 0.5887 - categorical_accuracy: 0.7000\n",
      "Epoch 129/1000\n",
      "2/2 [==============================] - 0s 36ms/step - loss: 0.5455 - categorical_accuracy: 0.8667\n",
      "Epoch 130/1000\n",
      "2/2 [==============================] - 0s 31ms/step - loss: 0.4935 - categorical_accuracy: 0.8000\n",
      "Epoch 131/1000\n",
      "2/2 [==============================] - 0s 32ms/step - loss: 1.0419 - categorical_accuracy: 0.7333\n",
      "Epoch 132/1000\n",
      "2/2 [==============================] - 0s 39ms/step - loss: 3.9449 - categorical_accuracy: 0.5167\n",
      "Epoch 133/1000\n",
      "2/2 [==============================] - 0s 46ms/step - loss: 1.9554 - categorical_accuracy: 0.2500\n",
      "Epoch 134/1000\n",
      "2/2 [==============================] - 0s 41ms/step - loss: 1.3930 - categorical_accuracy: 0.2833\n",
      "Epoch 135/1000\n",
      "2/2 [==============================] - 0s 32ms/step - loss: 1.2731 - categorical_accuracy: 0.3833\n",
      "Epoch 136/1000\n",
      "2/2 [==============================] - 0s 36ms/step - loss: 1.1387 - categorical_accuracy: 0.4667\n",
      "Epoch 137/1000\n",
      "2/2 [==============================] - 0s 46ms/step - loss: 1.1457 - categorical_accuracy: 0.5000\n",
      "Epoch 138/1000\n",
      "2/2 [==============================] - 0s 31ms/step - loss: 1.1425 - categorical_accuracy: 0.4500\n",
      "Epoch 139/1000\n"
     ]
    },
    {
     "name": "stdout",
     "output_type": "stream",
     "text": [
      "2/2 [==============================] - 0s 32ms/step - loss: 1.0886 - categorical_accuracy: 0.4833\n",
      "Epoch 140/1000\n",
      "2/2 [==============================] - 0s 50ms/step - loss: 1.0829 - categorical_accuracy: 0.5000\n",
      "Epoch 141/1000\n",
      "2/2 [==============================] - 0s 43ms/step - loss: 1.0790 - categorical_accuracy: 0.5000\n",
      "Epoch 142/1000\n",
      "2/2 [==============================] - 0s 32ms/step - loss: 1.0694 - categorical_accuracy: 0.4833\n",
      "Epoch 143/1000\n",
      "2/2 [==============================] - 0s 35ms/step - loss: 1.0532 - categorical_accuracy: 0.4833\n",
      "Epoch 144/1000\n",
      "2/2 [==============================] - ETA: 0s - loss: 1.0332 - categorical_accuracy: 0.50 - 0s 45ms/step - loss: 1.0332 - categorical_accuracy: 0.5000\n",
      "Epoch 145/1000\n",
      "2/2 [==============================] - 0s 43ms/step - loss: 1.0158 - categorical_accuracy: 0.5000\n",
      "Epoch 146/1000\n",
      "2/2 [==============================] - 0s 34ms/step - loss: 0.9936 - categorical_accuracy: 0.5833\n",
      "Epoch 147/1000\n",
      "2/2 [==============================] - 0s 32ms/step - loss: 0.9786 - categorical_accuracy: 0.5667\n",
      "Epoch 148/1000\n",
      "2/2 [==============================] - 0s 43ms/step - loss: 0.9375 - categorical_accuracy: 0.6167\n",
      "Epoch 149/1000\n",
      "2/2 [==============================] - 0s 43ms/step - loss: 0.9033 - categorical_accuracy: 0.4667\n",
      "Epoch 150/1000\n",
      "2/2 [==============================] - 0s 31ms/step - loss: 0.8446 - categorical_accuracy: 0.4667\n",
      "Epoch 151/1000\n",
      "2/2 [==============================] - 0s 42ms/step - loss: 2.8341 - categorical_accuracy: 0.3667\n",
      "Epoch 152/1000\n",
      "2/2 [==============================] - 0s 45ms/step - loss: 1.8577 - categorical_accuracy: 0.2500\n",
      "Epoch 153/1000\n",
      "2/2 [==============================] - 0s 43ms/step - loss: 1.3911 - categorical_accuracy: 0.2667\n",
      "Epoch 154/1000\n",
      "2/2 [==============================] - 0s 35ms/step - loss: 1.3781 - categorical_accuracy: 0.2667\n",
      "Epoch 155/1000\n",
      "2/2 [==============================] - 0s 47ms/step - loss: 1.3769 - categorical_accuracy: 0.2667\n",
      "Epoch 156/1000\n",
      "2/2 [==============================] - 0s 50ms/step - loss: 1.3804 - categorical_accuracy: 0.2667\n",
      "Epoch 157/1000\n",
      "2/2 [==============================] - 0s 44ms/step - loss: 1.3812 - categorical_accuracy: 0.2667\n",
      "Epoch 158/1000\n",
      "2/2 [==============================] - 0s 47ms/step - loss: 1.3817 - categorical_accuracy: 0.2667\n",
      "Epoch 159/1000\n",
      "2/2 [==============================] - 0s 46ms/step - loss: 1.3828 - categorical_accuracy: 0.2667\n",
      "Epoch 160/1000\n",
      "2/2 [==============================] - 0s 40ms/step - loss: 1.3809 - categorical_accuracy: 0.2667\n",
      "Epoch 161/1000\n",
      "2/2 [==============================] - 0s 50ms/step - loss: 1.3796 - categorical_accuracy: 0.2667\n",
      "Epoch 162/1000\n",
      "2/2 [==============================] - 0s 44ms/step - loss: 1.3781 - categorical_accuracy: 0.2667\n",
      "Epoch 163/1000\n",
      "2/2 [==============================] - 0s 37ms/step - loss: 1.3771 - categorical_accuracy: 0.2667\n",
      "Epoch 164/1000\n",
      "2/2 [==============================] - 0s 31ms/step - loss: 1.3739 - categorical_accuracy: 0.2667\n",
      "Epoch 165/1000\n",
      "2/2 [==============================] - 0s 32ms/step - loss: 1.3725 - categorical_accuracy: 0.2667\n",
      "Epoch 166/1000\n",
      "2/2 [==============================] - 0s 43ms/step - loss: 1.3678 - categorical_accuracy: 0.2667\n",
      "Epoch 167/1000\n",
      "2/2 [==============================] - 0s 32ms/step - loss: 1.3642 - categorical_accuracy: 0.2667\n",
      "Epoch 168/1000\n",
      "2/2 [==============================] - 0s 38ms/step - loss: 1.3621 - categorical_accuracy: 0.2667\n",
      "Epoch 169/1000\n",
      "2/2 [==============================] - 0s 40ms/step - loss: 1.3611 - categorical_accuracy: 0.2667\n",
      "Epoch 170/1000\n",
      "2/2 [==============================] - 0s 45ms/step - loss: 1.3601 - categorical_accuracy: 0.2667\n",
      "Epoch 171/1000\n",
      "2/2 [==============================] - 0s 30ms/step - loss: 1.3591 - categorical_accuracy: 0.2667\n",
      "Epoch 172/1000\n",
      "2/2 [==============================] - 0s 33ms/step - loss: 1.3584 - categorical_accuracy: 0.2667\n",
      "Epoch 173/1000\n",
      "2/2 [==============================] - 0s 44ms/step - loss: 1.3573 - categorical_accuracy: 0.2667\n",
      "Epoch 174/1000\n",
      "2/2 [==============================] - 0s 35ms/step - loss: 1.3561 - categorical_accuracy: 0.2667\n",
      "Epoch 175/1000\n",
      "2/2 [==============================] - 0s 32ms/step - loss: 1.3548 - categorical_accuracy: 0.2667\n",
      "Epoch 176/1000\n",
      "2/2 [==============================] - 0s 41ms/step - loss: 1.3530 - categorical_accuracy: 0.2667\n",
      "Epoch 177/1000\n",
      "2/2 [==============================] - 0s 40ms/step - loss: 1.3510 - categorical_accuracy: 0.3000\n",
      "Epoch 178/1000\n",
      "2/2 [==============================] - 0s 34ms/step - loss: 1.3478 - categorical_accuracy: 0.3667\n",
      "Epoch 179/1000\n",
      "2/2 [==============================] - 0s 43ms/step - loss: 1.3439 - categorical_accuracy: 0.4500\n",
      "Epoch 180/1000\n",
      "2/2 [==============================] - 0s 36ms/step - loss: 1.3393 - categorical_accuracy: 0.4000\n",
      "Epoch 181/1000\n",
      "2/2 [==============================] - 0s 32ms/step - loss: 1.3300 - categorical_accuracy: 0.2500\n",
      "Epoch 182/1000\n",
      "2/2 [==============================] - 0s 47ms/step - loss: 1.3152 - categorical_accuracy: 0.2500\n",
      "Epoch 183/1000\n",
      "2/2 [==============================] - 0s 34ms/step - loss: 1.2935 - categorical_accuracy: 0.2500\n",
      "Epoch 184/1000\n",
      "2/2 [==============================] - 0s 34ms/step - loss: 1.2202 - categorical_accuracy: 0.2500\n",
      "Epoch 185/1000\n",
      "2/2 [==============================] - 0s 42ms/step - loss: 1.2260 - categorical_accuracy: 0.2500\n",
      "Epoch 186/1000\n",
      "2/2 [==============================] - 0s 34ms/step - loss: 1.1502 - categorical_accuracy: 0.2500\n",
      "Epoch 187/1000\n",
      "2/2 [==============================] - 0s 34ms/step - loss: 1.1713 - categorical_accuracy: 0.2500\n",
      "Epoch 188/1000\n",
      "2/2 [==============================] - 0s 44ms/step - loss: 1.1450 - categorical_accuracy: 0.2667\n",
      "Epoch 189/1000\n",
      "2/2 [==============================] - 0s 36ms/step - loss: 1.0821 - categorical_accuracy: 0.2500\n",
      "Epoch 190/1000\n",
      "2/2 [==============================] - 0s 35ms/step - loss: 1.1021 - categorical_accuracy: 0.2500\n",
      "Epoch 191/1000\n",
      "2/2 [==============================] - 0s 32ms/step - loss: 1.0449 - categorical_accuracy: 0.3333\n",
      "Epoch 192/1000\n",
      "2/2 [==============================] - 0s 35ms/step - loss: 1.0660 - categorical_accuracy: 0.5500\n",
      "Epoch 193/1000\n",
      "2/2 [==============================] - 0s 42ms/step - loss: 1.0385 - categorical_accuracy: 0.5833\n",
      "Epoch 194/1000\n",
      "2/2 [==============================] - 0s 30ms/step - loss: 1.0086 - categorical_accuracy: 0.4500\n",
      "Epoch 195/1000\n",
      "2/2 [==============================] - 0s 38ms/step - loss: 1.0180 - categorical_accuracy: 0.4500\n",
      "Epoch 196/1000\n",
      "2/2 [==============================] - 0s 40ms/step - loss: 0.9902 - categorical_accuracy: 0.6500\n",
      "Epoch 197/1000\n",
      "2/2 [==============================] - 0s 41ms/step - loss: 0.9991 - categorical_accuracy: 0.5833\n",
      "Epoch 198/1000\n",
      "2/2 [==============================] - 0s 35ms/step - loss: 0.9923 - categorical_accuracy: 0.5500\n",
      "Epoch 199/1000\n",
      "2/2 [==============================] - 0s 37ms/step - loss: 0.9642 - categorical_accuracy: 0.6667\n",
      "Epoch 200/1000\n",
      "2/2 [==============================] - 0s 31ms/step - loss: 0.9600 - categorical_accuracy: 0.6167\n",
      "Epoch 201/1000\n",
      "2/2 [==============================] - 0s 36ms/step - loss: 0.9456 - categorical_accuracy: 0.6833\n",
      "Epoch 202/1000\n",
      "2/2 [==============================] - 0s 38ms/step - loss: 0.9317 - categorical_accuracy: 0.7000\n",
      "Epoch 203/1000\n",
      "2/2 [==============================] - 0s 31ms/step - loss: 0.9174 - categorical_accuracy: 0.6500\n",
      "Epoch 204/1000\n",
      "2/2 [==============================] - 0s 48ms/step - loss: 0.8968 - categorical_accuracy: 0.7000\n",
      "Epoch 205/1000\n",
      "2/2 [==============================] - 0s 46ms/step - loss: 2.1743 - categorical_accuracy: 0.7500\n",
      "Epoch 206/1000\n",
      "2/2 [==============================] - 0s 37ms/step - loss: 1.3669 - categorical_accuracy: 0.2667\n",
      "Epoch 207/1000\n",
      "2/2 [==============================] - 0s 30ms/step - loss: 1.3748 - categorical_accuracy: 0.2667\n",
      "Epoch 208/1000\n",
      "2/2 [==============================] - 0s 26ms/step - loss: 1.3755 - categorical_accuracy: 0.2667\n",
      "Epoch 209/1000\n",
      "2/2 [==============================] - 0s 34ms/step - loss: 1.3760 - categorical_accuracy: 0.2667\n",
      "Epoch 210/1000\n",
      "2/2 [==============================] - 0s 37ms/step - loss: 1.3764 - categorical_accuracy: 0.2667\n",
      "Epoch 211/1000\n",
      "2/2 [==============================] - 0s 35ms/step - loss: 1.3764 - categorical_accuracy: 0.2667\n",
      "Epoch 212/1000\n",
      "2/2 [==============================] - 0s 35ms/step - loss: 1.3762 - categorical_accuracy: 0.2667\n",
      "Epoch 213/1000\n",
      "2/2 [==============================] - 0s 46ms/step - loss: 1.3760 - categorical_accuracy: 0.2667\n",
      "Epoch 214/1000\n",
      "2/2 [==============================] - 0s 36ms/step - loss: 1.3755 - categorical_accuracy: 0.2667\n",
      "Epoch 215/1000\n",
      "2/2 [==============================] - 0s 48ms/step - loss: 1.3752 - categorical_accuracy: 0.2667\n",
      "Epoch 216/1000\n",
      "2/2 [==============================] - 0s 51ms/step - loss: 1.3749 - categorical_accuracy: 0.2667\n",
      "Epoch 217/1000\n",
      "2/2 [==============================] - 0s 49ms/step - loss: 1.3744 - categorical_accuracy: 0.2667\n",
      "Epoch 218/1000\n",
      "2/2 [==============================] - 0s 49ms/step - loss: 1.3738 - categorical_accuracy: 0.2667\n",
      "Epoch 219/1000\n",
      "2/2 [==============================] - 0s 52ms/step - loss: 1.3735 - categorical_accuracy: 0.2667\n",
      "Epoch 220/1000\n",
      "2/2 [==============================] - 0s 47ms/step - loss: 1.3729 - categorical_accuracy: 0.2667\n",
      "Epoch 221/1000\n",
      "2/2 [==============================] - 0s 53ms/step - loss: 1.3721 - categorical_accuracy: 0.2667\n",
      "Epoch 222/1000\n",
      "2/2 [==============================] - 0s 50ms/step - loss: 1.3715 - categorical_accuracy: 0.2667\n",
      "Epoch 223/1000\n",
      "2/2 [==============================] - 0s 48ms/step - loss: 1.3713 - categorical_accuracy: 0.2667\n",
      "Epoch 224/1000\n",
      "2/2 [==============================] - 0s 51ms/step - loss: 1.3710 - categorical_accuracy: 0.2667\n",
      "Epoch 225/1000\n",
      "2/2 [==============================] - 0s 42ms/step - loss: 1.3700 - categorical_accuracy: 0.2667\n",
      "Epoch 226/1000\n",
      "2/2 [==============================] - 0s 49ms/step - loss: 1.3696 - categorical_accuracy: 0.2667\n",
      "Epoch 227/1000\n",
      "2/2 [==============================] - 0s 49ms/step - loss: 1.3691 - categorical_accuracy: 0.2667\n",
      "Epoch 228/1000\n",
      "2/2 [==============================] - 0s 45ms/step - loss: 1.3691 - categorical_accuracy: 0.2667\n",
      "Epoch 229/1000\n",
      "2/2 [==============================] - 0s 51ms/step - loss: 1.3684 - categorical_accuracy: 0.2667\n",
      "Epoch 230/1000\n",
      "2/2 [==============================] - 0s 47ms/step - loss: 1.3680 - categorical_accuracy: 0.2667\n",
      "Epoch 231/1000\n",
      "2/2 [==============================] - ETA: 0s - loss: 1.3680 - categorical_accuracy: 0.26 - 0s 49ms/step - loss: 1.3680 - categorical_accuracy: 0.2667\n",
      "Epoch 232/1000\n",
      "2/2 [==============================] - 0s 49ms/step - loss: 1.3676 - categorical_accuracy: 0.2667\n",
      "Epoch 233/1000\n",
      "2/2 [==============================] - 0s 51ms/step - loss: 1.3671 - categorical_accuracy: 0.2667\n",
      "Epoch 234/1000\n",
      "2/2 [==============================] - 0s 47ms/step - loss: 1.3668 - categorical_accuracy: 0.2667\n",
      "Epoch 235/1000\n",
      "2/2 [==============================] - 0s 34ms/step - loss: 1.3666 - categorical_accuracy: 0.2667\n",
      "Epoch 236/1000\n",
      "2/2 [==============================] - 0s 50ms/step - loss: 1.3664 - categorical_accuracy: 0.2667\n",
      "Epoch 237/1000\n",
      "2/2 [==============================] - 0s 49ms/step - loss: 1.3662 - categorical_accuracy: 0.2667\n",
      "Epoch 238/1000\n",
      "2/2 [==============================] - 0s 29ms/step - loss: 1.3658 - categorical_accuracy: 0.2667\n",
      "Epoch 239/1000\n",
      "2/2 [==============================] - 0s 32ms/step - loss: 1.3655 - categorical_accuracy: 0.2667\n",
      "Epoch 240/1000\n",
      "2/2 [==============================] - 0s 26ms/step - loss: 1.3653 - categorical_accuracy: 0.2667\n",
      "Epoch 241/1000\n",
      "2/2 [==============================] - 0s 32ms/step - loss: 1.3651 - categorical_accuracy: 0.2667\n",
      "Epoch 242/1000\n",
      "2/2 [==============================] - 0s 30ms/step - loss: 1.3650 - categorical_accuracy: 0.2667\n",
      "Epoch 243/1000\n",
      "2/2 [==============================] - 0s 32ms/step - loss: 1.3647 - categorical_accuracy: 0.2667\n",
      "Epoch 244/1000\n",
      "2/2 [==============================] - 0s 27ms/step - loss: 1.3646 - categorical_accuracy: 0.2667\n",
      "Epoch 245/1000\n",
      "2/2 [==============================] - 0s 39ms/step - loss: 1.3644 - categorical_accuracy: 0.2667\n",
      "Epoch 246/1000\n",
      "2/2 [==============================] - 0s 51ms/step - loss: 1.3643 - categorical_accuracy: 0.2667\n",
      "Epoch 247/1000\n",
      "2/2 [==============================] - 0s 39ms/step - loss: 1.3641 - categorical_accuracy: 0.2667\n",
      "Epoch 248/1000\n",
      "2/2 [==============================] - 0s 38ms/step - loss: 1.3639 - categorical_accuracy: 0.2667\n",
      "Epoch 249/1000\n",
      "2/2 [==============================] - 0s 39ms/step - loss: 1.3638 - categorical_accuracy: 0.2667\n",
      "Epoch 250/1000\n",
      "2/2 [==============================] - 0s 29ms/step - loss: 1.3637 - categorical_accuracy: 0.2667\n",
      "Epoch 251/1000\n",
      "2/2 [==============================] - 0s 31ms/step - loss: 1.3635 - categorical_accuracy: 0.2667\n",
      "Epoch 252/1000\n",
      "2/2 [==============================] - 0s 28ms/step - loss: 1.3634 - categorical_accuracy: 0.2667\n",
      "Epoch 253/1000\n",
      "2/2 [==============================] - 0s 26ms/step - loss: 1.3633 - categorical_accuracy: 0.2667\n",
      "Epoch 254/1000\n",
      "2/2 [==============================] - 0s 31ms/step - loss: 1.3632 - categorical_accuracy: 0.2667\n",
      "Epoch 255/1000\n",
      "2/2 [==============================] - 0s 27ms/step - loss: 1.3630 - categorical_accuracy: 0.2667\n",
      "Epoch 256/1000\n",
      "2/2 [==============================] - 0s 29ms/step - loss: 1.3631 - categorical_accuracy: 0.2667\n",
      "Epoch 257/1000\n",
      "2/2 [==============================] - 0s 26ms/step - loss: 1.3628 - categorical_accuracy: 0.2667\n",
      "Epoch 258/1000\n",
      "2/2 [==============================] - 0s 28ms/step - loss: 1.3627 - categorical_accuracy: 0.2667\n",
      "Epoch 259/1000\n",
      "2/2 [==============================] - 0s 45ms/step - loss: 1.3626 - categorical_accuracy: 0.2667\n",
      "Epoch 260/1000\n",
      "2/2 [==============================] - 0s 45ms/step - loss: 1.3626 - categorical_accuracy: 0.2667\n",
      "Epoch 261/1000\n",
      "2/2 [==============================] - 0s 47ms/step - loss: 1.3622 - categorical_accuracy: 0.2667\n",
      "Epoch 262/1000\n",
      "2/2 [==============================] - 0s 48ms/step - loss: 1.3621 - categorical_accuracy: 0.2667\n",
      "Epoch 263/1000\n",
      "2/2 [==============================] - 0s 31ms/step - loss: 1.3620 - categorical_accuracy: 0.2667\n",
      "Epoch 264/1000\n",
      "2/2 [==============================] - 0s 25ms/step - loss: 1.3619 - categorical_accuracy: 0.2667\n",
      "Epoch 265/1000\n",
      "2/2 [==============================] - 0s 26ms/step - loss: 1.3619 - categorical_accuracy: 0.2667\n",
      "Epoch 266/1000\n",
      "2/2 [==============================] - 0s 48ms/step - loss: 1.3616 - categorical_accuracy: 0.2667\n",
      "Epoch 267/1000\n",
      "2/2 [==============================] - 0s 50ms/step - loss: 1.3614 - categorical_accuracy: 0.2667\n",
      "Epoch 268/1000\n",
      "2/2 [==============================] - 0s 46ms/step - loss: 1.3613 - categorical_accuracy: 0.2667\n",
      "Epoch 269/1000\n",
      "2/2 [==============================] - 0s 49ms/step - loss: 1.3611 - categorical_accuracy: 0.2667\n",
      "Epoch 270/1000\n",
      "2/2 [==============================] - 0s 53ms/step - loss: 1.3609 - categorical_accuracy: 0.2667\n",
      "Epoch 271/1000\n",
      "2/2 [==============================] - 0s 48ms/step - loss: 1.3607 - categorical_accuracy: 0.2667\n",
      "Epoch 272/1000\n",
      "2/2 [==============================] - 0s 51ms/step - loss: 1.3605 - categorical_accuracy: 0.2667\n",
      "Epoch 273/1000\n",
      "2/2 [==============================] - 0s 48ms/step - loss: 1.3603 - categorical_accuracy: 0.2667\n",
      "Epoch 274/1000\n",
      "2/2 [==============================] - ETA: 0s - loss: 1.3601 - categorical_accuracy: 0.26 - 0s 43ms/step - loss: 1.3601 - categorical_accuracy: 0.2667\n",
      "Epoch 275/1000\n",
      "2/2 [==============================] - 0s 42ms/step - loss: 1.3599 - categorical_accuracy: 0.2667\n",
      "Epoch 276/1000\n",
      "2/2 [==============================] - 0s 42ms/step - loss: 1.3596 - categorical_accuracy: 0.2667\n",
      "Epoch 277/1000\n",
      "2/2 [==============================] - 0s 52ms/step - loss: 1.3594 - categorical_accuracy: 0.2667\n",
      "Epoch 278/1000\n",
      "2/2 [==============================] - 0s 54ms/step - loss: 1.3591 - categorical_accuracy: 0.2667\n",
      "Epoch 279/1000\n",
      "2/2 [==============================] - 0s 53ms/step - loss: 1.3588 - categorical_accuracy: 0.3000\n",
      "Epoch 280/1000\n",
      "2/2 [==============================] - 0s 45ms/step - loss: 1.3585 - categorical_accuracy: 0.2833\n",
      "Epoch 281/1000\n",
      "2/2 [==============================] - 0s 47ms/step - loss: 1.3582 - categorical_accuracy: 0.2833\n",
      "Epoch 282/1000\n"
     ]
    },
    {
     "name": "stdout",
     "output_type": "stream",
     "text": [
      "2/2 [==============================] - 0s 49ms/step - loss: 1.3578 - categorical_accuracy: 0.2833\n",
      "Epoch 283/1000\n",
      "2/2 [==============================] - 0s 50ms/step - loss: 1.3576 - categorical_accuracy: 0.2667\n",
      "Epoch 284/1000\n",
      "2/2 [==============================] - 0s 48ms/step - loss: 1.3571 - categorical_accuracy: 0.2667\n",
      "Epoch 285/1000\n",
      "2/2 [==============================] - 0s 50ms/step - loss: 1.3568 - categorical_accuracy: 0.2833\n",
      "Epoch 286/1000\n",
      "2/2 [==============================] - 0s 51ms/step - loss: 1.3563 - categorical_accuracy: 0.3000\n",
      "Epoch 287/1000\n",
      "2/2 [==============================] - 0s 50ms/step - loss: 1.3559 - categorical_accuracy: 0.3667\n",
      "Epoch 288/1000\n",
      "2/2 [==============================] - 0s 47ms/step - loss: 1.3554 - categorical_accuracy: 0.4333\n",
      "Epoch 289/1000\n",
      "2/2 [==============================] - 0s 51ms/step - loss: 1.3549 - categorical_accuracy: 0.4833\n",
      "Epoch 290/1000\n",
      "2/2 [==============================] - 0s 58ms/step - loss: 1.3543 - categorical_accuracy: 0.4667\n",
      "Epoch 291/1000\n",
      "2/2 [==============================] - 0s 53ms/step - loss: 1.3537 - categorical_accuracy: 0.4500\n",
      "Epoch 292/1000\n",
      "2/2 [==============================] - 0s 47ms/step - loss: 1.3531 - categorical_accuracy: 0.4667\n",
      "Epoch 293/1000\n",
      "2/2 [==============================] - 0s 47ms/step - loss: 1.3527 - categorical_accuracy: 0.4500\n",
      "Epoch 294/1000\n",
      "2/2 [==============================] - 0s 49ms/step - loss: 1.3518 - categorical_accuracy: 0.5000\n",
      "Epoch 295/1000\n",
      "2/2 [==============================] - 0s 51ms/step - loss: 1.3512 - categorical_accuracy: 0.5000\n",
      "Epoch 296/1000\n",
      "2/2 [==============================] - 0s 51ms/step - loss: 1.3504 - categorical_accuracy: 0.5000\n",
      "Epoch 297/1000\n",
      "2/2 [==============================] - 0s 44ms/step - loss: 1.3497 - categorical_accuracy: 0.5000\n",
      "Epoch 298/1000\n",
      "2/2 [==============================] - 0s 52ms/step - loss: 1.3490 - categorical_accuracy: 0.5000\n",
      "Epoch 299/1000\n",
      "2/2 [==============================] - 0s 50ms/step - loss: 1.3481 - categorical_accuracy: 0.5000\n",
      "Epoch 300/1000\n",
      "2/2 [==============================] - 0s 46ms/step - loss: 1.3474 - categorical_accuracy: 0.5000\n",
      "Epoch 301/1000\n",
      "2/2 [==============================] - 0s 46ms/step - loss: 1.3464 - categorical_accuracy: 0.5167\n",
      "Epoch 302/1000\n",
      "2/2 [==============================] - 0s 47ms/step - loss: 1.3454 - categorical_accuracy: 0.5167\n",
      "Epoch 303/1000\n",
      "2/2 [==============================] - 0s 47ms/step - loss: 1.3445 - categorical_accuracy: 0.5167\n",
      "Epoch 304/1000\n",
      "2/2 [==============================] - 0s 49ms/step - loss: 1.3434 - categorical_accuracy: 0.5167\n",
      "Epoch 305/1000\n",
      "2/2 [==============================] - 0s 47ms/step - loss: 1.3424 - categorical_accuracy: 0.5167\n",
      "Epoch 306/1000\n",
      "2/2 [==============================] - 0s 48ms/step - loss: 1.3411 - categorical_accuracy: 0.5167\n",
      "Epoch 307/1000\n",
      "2/2 [==============================] - 0s 46ms/step - loss: 1.3399 - categorical_accuracy: 0.5167\n",
      "Epoch 308/1000\n",
      "2/2 [==============================] - 0s 49ms/step - loss: 1.3387 - categorical_accuracy: 0.5167\n",
      "Epoch 309/1000\n",
      "2/2 [==============================] - 0s 38ms/step - loss: 1.3374 - categorical_accuracy: 0.5167\n",
      "Epoch 310/1000\n",
      "2/2 [==============================] - 0s 42ms/step - loss: 1.3360 - categorical_accuracy: 0.5167\n",
      "Epoch 311/1000\n",
      "2/2 [==============================] - 0s 41ms/step - loss: 1.3345 - categorical_accuracy: 0.5167\n",
      "Epoch 312/1000\n",
      "2/2 [==============================] - 0s 47ms/step - loss: 1.3329 - categorical_accuracy: 0.5167\n",
      "Epoch 313/1000\n",
      "2/2 [==============================] - 0s 46ms/step - loss: 1.3313 - categorical_accuracy: 0.5167\n",
      "Epoch 314/1000\n",
      "2/2 [==============================] - 0s 46ms/step - loss: 1.3296 - categorical_accuracy: 0.5167\n",
      "Epoch 315/1000\n",
      "2/2 [==============================] - 0s 46ms/step - loss: 1.3278 - categorical_accuracy: 0.5167\n",
      "Epoch 316/1000\n",
      "2/2 [==============================] - 0s 46ms/step - loss: 1.3261 - categorical_accuracy: 0.5167\n",
      "Epoch 317/1000\n",
      "2/2 [==============================] - 0s 46ms/step - loss: 1.3242 - categorical_accuracy: 0.5167\n",
      "Epoch 318/1000\n",
      "2/2 [==============================] - 0s 50ms/step - loss: 1.3224 - categorical_accuracy: 0.5167\n",
      "Epoch 319/1000\n",
      "2/2 [==============================] - 0s 47ms/step - loss: 1.3200 - categorical_accuracy: 0.5167\n",
      "Epoch 320/1000\n",
      "2/2 [==============================] - 0s 50ms/step - loss: 1.3178 - categorical_accuracy: 0.5167\n",
      "Epoch 321/1000\n",
      "2/2 [==============================] - 0s 45ms/step - loss: 1.3155 - categorical_accuracy: 0.5167\n",
      "Epoch 322/1000\n",
      "2/2 [==============================] - 0s 44ms/step - loss: 1.3132 - categorical_accuracy: 0.5167\n",
      "Epoch 323/1000\n",
      "2/2 [==============================] - 0s 47ms/step - loss: 1.3107 - categorical_accuracy: 0.5167\n",
      "Epoch 324/1000\n",
      "2/2 [==============================] - 0s 48ms/step - loss: 1.3085 - categorical_accuracy: 0.5167\n",
      "Epoch 325/1000\n",
      "2/2 [==============================] - 0s 50ms/step - loss: 1.3055 - categorical_accuracy: 0.5167\n",
      "Epoch 326/1000\n",
      "2/2 [==============================] - 0s 46ms/step - loss: 1.3026 - categorical_accuracy: 0.5167\n",
      "Epoch 327/1000\n",
      "2/2 [==============================] - 0s 46ms/step - loss: 1.2995 - categorical_accuracy: 0.5167\n",
      "Epoch 328/1000\n",
      "2/2 [==============================] - 0s 45ms/step - loss: 1.2963 - categorical_accuracy: 0.5167\n",
      "Epoch 329/1000\n",
      "2/2 [==============================] - 0s 47ms/step - loss: 1.2930 - categorical_accuracy: 0.5167\n",
      "Epoch 330/1000\n",
      "2/2 [==============================] - 0s 48ms/step - loss: 1.2894 - categorical_accuracy: 0.5167\n",
      "Epoch 331/1000\n",
      "2/2 [==============================] - 0s 49ms/step - loss: 1.2857 - categorical_accuracy: 0.5167\n",
      "Epoch 332/1000\n",
      "2/2 [==============================] - 0s 50ms/step - loss: 1.2819 - categorical_accuracy: 0.5167\n",
      "Epoch 333/1000\n",
      "2/2 [==============================] - 0s 53ms/step - loss: 1.2778 - categorical_accuracy: 0.5167\n",
      "Epoch 334/1000\n",
      "2/2 [==============================] - 0s 55ms/step - loss: 1.2740 - categorical_accuracy: 0.5167\n",
      "Epoch 335/1000\n",
      "2/2 [==============================] - 0s 49ms/step - loss: 1.2693 - categorical_accuracy: 0.5167\n",
      "Epoch 336/1000\n",
      "2/2 [==============================] - 0s 47ms/step - loss: 1.2644 - categorical_accuracy: 0.5167\n",
      "Epoch 337/1000\n",
      "2/2 [==============================] - 0s 47ms/step - loss: 1.2599 - categorical_accuracy: 0.5167\n",
      "Epoch 338/1000\n",
      "2/2 [==============================] - 0s 36ms/step - loss: 1.2555 - categorical_accuracy: 0.5167\n",
      "Epoch 339/1000\n",
      "2/2 [==============================] - 0s 47ms/step - loss: 1.2501 - categorical_accuracy: 0.5167\n",
      "Epoch 340/1000\n",
      "2/2 [==============================] - 0s 54ms/step - loss: 1.2452 - categorical_accuracy: 0.5167\n",
      "Epoch 341/1000\n",
      "2/2 [==============================] - 0s 48ms/step - loss: 1.2400 - categorical_accuracy: 0.5167\n",
      "Epoch 342/1000\n",
      "2/2 [==============================] - 0s 46ms/step - loss: 1.2347 - categorical_accuracy: 0.5167\n",
      "Epoch 343/1000\n",
      "2/2 [==============================] - 0s 56ms/step - loss: 1.2293 - categorical_accuracy: 0.5167\n",
      "Epoch 344/1000\n",
      "2/2 [==============================] - 0s 47ms/step - loss: 1.2238 - categorical_accuracy: 0.5167\n",
      "Epoch 345/1000\n",
      "2/2 [==============================] - 0s 46ms/step - loss: 1.2176 - categorical_accuracy: 0.5167\n",
      "Epoch 346/1000\n",
      "2/2 [==============================] - 0s 49ms/step - loss: 1.2114 - categorical_accuracy: 0.5167\n",
      "Epoch 347/1000\n",
      "2/2 [==============================] - 0s 51ms/step - loss: 1.2054 - categorical_accuracy: 0.5167\n",
      "Epoch 348/1000\n",
      "2/2 [==============================] - 0s 47ms/step - loss: 1.1995 - categorical_accuracy: 0.5167\n",
      "Epoch 349/1000\n",
      "2/2 [==============================] - 0s 46ms/step - loss: 1.1929 - categorical_accuracy: 0.5167\n",
      "Epoch 350/1000\n",
      "2/2 [==============================] - 0s 55ms/step - loss: 1.1866 - categorical_accuracy: 0.5167\n",
      "Epoch 351/1000\n",
      "2/2 [==============================] - 0s 47ms/step - loss: 1.1805 - categorical_accuracy: 0.5167\n",
      "Epoch 352/1000\n",
      "2/2 [==============================] - 0s 43ms/step - loss: 1.1747 - categorical_accuracy: 0.5167\n",
      "Epoch 353/1000\n",
      "2/2 [==============================] - 0s 45ms/step - loss: 1.1682 - categorical_accuracy: 0.5167\n",
      "Epoch 354/1000\n",
      "2/2 [==============================] - 0s 33ms/step - loss: 1.1625 - categorical_accuracy: 0.5167\n",
      "Epoch 355/1000\n",
      "2/2 [==============================] - 0s 34ms/step - loss: 1.1562 - categorical_accuracy: 0.5167\n",
      "Epoch 356/1000\n",
      "2/2 [==============================] - 0s 38ms/step - loss: 1.1498 - categorical_accuracy: 0.5167\n",
      "Epoch 357/1000\n",
      "2/2 [==============================] - 0s 39ms/step - loss: 1.1438 - categorical_accuracy: 0.5167\n",
      "Epoch 358/1000\n",
      "2/2 [==============================] - 0s 43ms/step - loss: 1.1372 - categorical_accuracy: 0.5167\n",
      "Epoch 359/1000\n",
      "2/2 [==============================] - 0s 30ms/step - loss: 1.1311 - categorical_accuracy: 0.5167\n",
      "Epoch 360/1000\n",
      "2/2 [==============================] - 0s 32ms/step - loss: 1.1246 - categorical_accuracy: 0.5167\n",
      "Epoch 361/1000\n",
      "2/2 [==============================] - 0s 43ms/step - loss: 1.1182 - categorical_accuracy: 0.5167\n",
      "Epoch 362/1000\n",
      "2/2 [==============================] - 0s 39ms/step - loss: 1.1113 - categorical_accuracy: 0.5167\n",
      "Epoch 363/1000\n",
      "2/2 [==============================] - 0s 27ms/step - loss: 1.1049 - categorical_accuracy: 0.5167\n",
      "Epoch 364/1000\n",
      "2/2 [==============================] - ETA: 0s - loss: 1.0982 - categorical_accuracy: 0.51 - 0s 34ms/step - loss: 1.0982 - categorical_accuracy: 0.5167\n",
      "Epoch 365/1000\n",
      "2/2 [==============================] - 0s 42ms/step - loss: 1.0909 - categorical_accuracy: 0.5167\n",
      "Epoch 366/1000\n",
      "2/2 [==============================] - 0s 39ms/step - loss: 1.0839 - categorical_accuracy: 0.5167\n",
      "Epoch 367/1000\n",
      "2/2 [==============================] - 0s 40ms/step - loss: 1.0769 - categorical_accuracy: 0.5167\n",
      "Epoch 368/1000\n",
      "2/2 [==============================] - 0s 40ms/step - loss: 1.0700 - categorical_accuracy: 0.5167\n",
      "Epoch 369/1000\n",
      "2/2 [==============================] - 0s 35ms/step - loss: 1.0622 - categorical_accuracy: 0.5167\n",
      "Epoch 370/1000\n",
      "2/2 [==============================] - 0s 41ms/step - loss: 1.0550 - categorical_accuracy: 0.5167\n",
      "Epoch 371/1000\n",
      "2/2 [==============================] - 0s 48ms/step - loss: 1.0476 - categorical_accuracy: 0.5167\n",
      "Epoch 372/1000\n",
      "2/2 [==============================] - 0s 43ms/step - loss: 1.0403 - categorical_accuracy: 0.5167\n",
      "Epoch 373/1000\n",
      "2/2 [==============================] - 0s 40ms/step - loss: 1.0325 - categorical_accuracy: 0.5167\n",
      "Epoch 374/1000\n",
      "2/2 [==============================] - 0s 32ms/step - loss: 1.0247 - categorical_accuracy: 0.5167\n",
      "Epoch 375/1000\n",
      "2/2 [==============================] - 0s 35ms/step - loss: 1.0171 - categorical_accuracy: 0.5167\n",
      "Epoch 376/1000\n",
      "2/2 [==============================] - 0s 36ms/step - loss: 1.0094 - categorical_accuracy: 0.5167\n",
      "Epoch 377/1000\n",
      "2/2 [==============================] - 0s 38ms/step - loss: 1.0012 - categorical_accuracy: 0.5167\n",
      "Epoch 378/1000\n",
      "2/2 [==============================] - 0s 37ms/step - loss: 0.9935 - categorical_accuracy: 0.5167\n",
      "Epoch 379/1000\n",
      "2/2 [==============================] - 0s 44ms/step - loss: 0.9854 - categorical_accuracy: 0.5167\n",
      "Epoch 380/1000\n",
      "2/2 [==============================] - 0s 37ms/step - loss: 0.9774 - categorical_accuracy: 0.5167\n",
      "Epoch 381/1000\n",
      "2/2 [==============================] - 0s 36ms/step - loss: 0.9690 - categorical_accuracy: 0.5167\n",
      "Epoch 382/1000\n",
      "2/2 [==============================] - 0s 45ms/step - loss: 0.9617 - categorical_accuracy: 0.5167\n",
      "Epoch 383/1000\n",
      "2/2 [==============================] - 0s 33ms/step - loss: 0.9527 - categorical_accuracy: 0.5167\n",
      "Epoch 384/1000\n",
      "2/2 [==============================] - 0s 35ms/step - loss: 0.9440 - categorical_accuracy: 0.5167\n",
      "Epoch 385/1000\n",
      "2/2 [==============================] - 0s 44ms/step - loss: 0.9352 - categorical_accuracy: 0.5167\n",
      "Epoch 386/1000\n",
      "2/2 [==============================] - 0s 34ms/step - loss: 0.9264 - categorical_accuracy: 0.5167\n",
      "Epoch 387/1000\n",
      "2/2 [==============================] - 0s 37ms/step - loss: 0.9177 - categorical_accuracy: 0.5167\n",
      "Epoch 388/1000\n",
      "2/2 [==============================] - 0s 41ms/step - loss: 0.9085 - categorical_accuracy: 0.5333\n",
      "Epoch 389/1000\n",
      "2/2 [==============================] - 0s 35ms/step - loss: 0.8983 - categorical_accuracy: 0.5333\n",
      "Epoch 390/1000\n",
      "2/2 [==============================] - 0s 29ms/step - loss: 0.8883 - categorical_accuracy: 0.5500\n",
      "Epoch 391/1000\n",
      "2/2 [==============================] - 0s 40ms/step - loss: 0.8785 - categorical_accuracy: 0.5667\n",
      "Epoch 392/1000\n",
      "2/2 [==============================] - 0s 47ms/step - loss: 0.8672 - categorical_accuracy: 0.5667\n",
      "Epoch 393/1000\n",
      "2/2 [==============================] - 0s 33ms/step - loss: 0.8631 - categorical_accuracy: 0.5667\n",
      "Epoch 394/1000\n",
      "2/2 [==============================] - 0s 38ms/step - loss: 0.8423 - categorical_accuracy: 0.6000\n",
      "Epoch 395/1000\n",
      "2/2 [==============================] - 0s 30ms/step - loss: 0.8403 - categorical_accuracy: 0.6167\n",
      "Epoch 396/1000\n",
      "2/2 [==============================] - 0s 32ms/step - loss: 0.8188 - categorical_accuracy: 0.5833\n",
      "Epoch 397/1000\n",
      "2/2 [==============================] - 0s 34ms/step - loss: 0.8378 - categorical_accuracy: 0.5500\n",
      "Epoch 398/1000\n",
      "2/2 [==============================] - 0s 33ms/step - loss: 0.8253 - categorical_accuracy: 0.5167\n",
      "Epoch 399/1000\n",
      "2/2 [==============================] - 0s 31ms/step - loss: 0.7859 - categorical_accuracy: 0.6000\n",
      "Epoch 400/1000\n",
      "2/2 [==============================] - 0s 34ms/step - loss: 0.7754 - categorical_accuracy: 0.6000\n",
      "Epoch 401/1000\n",
      "2/2 [==============================] - 0s 35ms/step - loss: 0.7864 - categorical_accuracy: 0.6000\n",
      "Epoch 402/1000\n",
      "2/2 [==============================] - 0s 36ms/step - loss: 0.7616 - categorical_accuracy: 0.6500\n",
      "Epoch 403/1000\n",
      "2/2 [==============================] - 0s 33ms/step - loss: 0.7601 - categorical_accuracy: 0.6167\n",
      "Epoch 404/1000\n",
      "2/2 [==============================] - 0s 36ms/step - loss: 0.7370 - categorical_accuracy: 0.6833\n",
      "Epoch 405/1000\n",
      "2/2 [==============================] - 0s 33ms/step - loss: 0.7585 - categorical_accuracy: 0.6500\n",
      "Epoch 406/1000\n",
      "2/2 [==============================] - 0s 44ms/step - loss: 0.7151 - categorical_accuracy: 0.7000\n",
      "Epoch 407/1000\n",
      "2/2 [==============================] - 0s 45ms/step - loss: 0.6714 - categorical_accuracy: 0.7333\n",
      "Epoch 408/1000\n",
      "2/2 [==============================] - 0s 34ms/step - loss: 0.6355 - categorical_accuracy: 0.7667\n",
      "Epoch 409/1000\n"
     ]
    },
    {
     "ename": "KeyboardInterrupt",
     "evalue": "",
     "output_type": "error",
     "traceback": [
      "\u001b[1;31m---------------------------------------------------------------------------\u001b[0m",
      "\u001b[1;31mKeyboardInterrupt\u001b[0m                         Traceback (most recent call last)",
      "\u001b[1;32m<ipython-input-30-47b53afdc1ea>\u001b[0m in \u001b[0;36m<module>\u001b[1;34m\u001b[0m\n\u001b[1;32m----> 1\u001b[1;33m \u001b[0mmodel\u001b[0m\u001b[1;33m.\u001b[0m\u001b[0mfit\u001b[0m\u001b[1;33m(\u001b[0m\u001b[0mX_train\u001b[0m\u001b[1;33m,\u001b[0m \u001b[0my_train\u001b[0m\u001b[1;33m,\u001b[0m \u001b[0mepochs\u001b[0m\u001b[1;33m=\u001b[0m\u001b[1;36m1000\u001b[0m\u001b[1;33m,\u001b[0m \u001b[0mcallbacks\u001b[0m\u001b[1;33m=\u001b[0m\u001b[1;33m[\u001b[0m\u001b[0mtb_callback\u001b[0m\u001b[1;33m]\u001b[0m\u001b[1;33m)\u001b[0m\u001b[1;33m\u001b[0m\u001b[1;33m\u001b[0m\u001b[0m\n\u001b[0m",
      "\u001b[1;32m~\\Anaconda3\\lib\\site-packages\\tensorflow\\python\\keras\\engine\\training.py\u001b[0m in \u001b[0;36m_method_wrapper\u001b[1;34m(self, *args, **kwargs)\u001b[0m\n\u001b[0;32m    106\u001b[0m   \u001b[1;32mdef\u001b[0m \u001b[0m_method_wrapper\u001b[0m\u001b[1;33m(\u001b[0m\u001b[0mself\u001b[0m\u001b[1;33m,\u001b[0m \u001b[1;33m*\u001b[0m\u001b[0margs\u001b[0m\u001b[1;33m,\u001b[0m \u001b[1;33m**\u001b[0m\u001b[0mkwargs\u001b[0m\u001b[1;33m)\u001b[0m\u001b[1;33m:\u001b[0m\u001b[1;33m\u001b[0m\u001b[1;33m\u001b[0m\u001b[0m\n\u001b[0;32m    107\u001b[0m     \u001b[1;32mif\u001b[0m \u001b[1;32mnot\u001b[0m \u001b[0mself\u001b[0m\u001b[1;33m.\u001b[0m\u001b[0m_in_multi_worker_mode\u001b[0m\u001b[1;33m(\u001b[0m\u001b[1;33m)\u001b[0m\u001b[1;33m:\u001b[0m  \u001b[1;31m# pylint: disable=protected-access\u001b[0m\u001b[1;33m\u001b[0m\u001b[1;33m\u001b[0m\u001b[0m\n\u001b[1;32m--> 108\u001b[1;33m       \u001b[1;32mreturn\u001b[0m \u001b[0mmethod\u001b[0m\u001b[1;33m(\u001b[0m\u001b[0mself\u001b[0m\u001b[1;33m,\u001b[0m \u001b[1;33m*\u001b[0m\u001b[0margs\u001b[0m\u001b[1;33m,\u001b[0m \u001b[1;33m**\u001b[0m\u001b[0mkwargs\u001b[0m\u001b[1;33m)\u001b[0m\u001b[1;33m\u001b[0m\u001b[1;33m\u001b[0m\u001b[0m\n\u001b[0m\u001b[0;32m    109\u001b[0m \u001b[1;33m\u001b[0m\u001b[0m\n\u001b[0;32m    110\u001b[0m     \u001b[1;31m# Running inside `run_distribute_coordinator` already.\u001b[0m\u001b[1;33m\u001b[0m\u001b[1;33m\u001b[0m\u001b[1;33m\u001b[0m\u001b[0m\n",
      "\u001b[1;32m~\\Anaconda3\\lib\\site-packages\\tensorflow\\python\\keras\\engine\\training.py\u001b[0m in \u001b[0;36mfit\u001b[1;34m(self, x, y, batch_size, epochs, verbose, callbacks, validation_split, validation_data, shuffle, class_weight, sample_weight, initial_epoch, steps_per_epoch, validation_steps, validation_batch_size, validation_freq, max_queue_size, workers, use_multiprocessing)\u001b[0m\n\u001b[0;32m   1101\u001b[0m               \u001b[0mlogs\u001b[0m \u001b[1;33m=\u001b[0m \u001b[0mtmp_logs\u001b[0m  \u001b[1;31m# No error, now safe to assign to logs.\u001b[0m\u001b[1;33m\u001b[0m\u001b[1;33m\u001b[0m\u001b[0m\n\u001b[0;32m   1102\u001b[0m               \u001b[0mend_step\u001b[0m \u001b[1;33m=\u001b[0m \u001b[0mstep\u001b[0m \u001b[1;33m+\u001b[0m \u001b[0mdata_handler\u001b[0m\u001b[1;33m.\u001b[0m\u001b[0mstep_increment\u001b[0m\u001b[1;33m\u001b[0m\u001b[1;33m\u001b[0m\u001b[0m\n\u001b[1;32m-> 1103\u001b[1;33m               \u001b[0mcallbacks\u001b[0m\u001b[1;33m.\u001b[0m\u001b[0mon_train_batch_end\u001b[0m\u001b[1;33m(\u001b[0m\u001b[0mend_step\u001b[0m\u001b[1;33m,\u001b[0m \u001b[0mlogs\u001b[0m\u001b[1;33m)\u001b[0m\u001b[1;33m\u001b[0m\u001b[1;33m\u001b[0m\u001b[0m\n\u001b[0m\u001b[0;32m   1104\u001b[0m         \u001b[0mepoch_logs\u001b[0m \u001b[1;33m=\u001b[0m \u001b[0mcopy\u001b[0m\u001b[1;33m.\u001b[0m\u001b[0mcopy\u001b[0m\u001b[1;33m(\u001b[0m\u001b[0mlogs\u001b[0m\u001b[1;33m)\u001b[0m\u001b[1;33m\u001b[0m\u001b[1;33m\u001b[0m\u001b[0m\n\u001b[0;32m   1105\u001b[0m \u001b[1;33m\u001b[0m\u001b[0m\n",
      "\u001b[1;32m~\\Anaconda3\\lib\\site-packages\\tensorflow\\python\\keras\\callbacks.py\u001b[0m in \u001b[0;36mon_train_batch_end\u001b[1;34m(self, batch, logs)\u001b[0m\n\u001b[0;32m    438\u001b[0m     \"\"\"\n\u001b[0;32m    439\u001b[0m     \u001b[1;32mif\u001b[0m \u001b[0mself\u001b[0m\u001b[1;33m.\u001b[0m\u001b[0m_should_call_train_batch_hooks\u001b[0m\u001b[1;33m:\u001b[0m\u001b[1;33m\u001b[0m\u001b[1;33m\u001b[0m\u001b[0m\n\u001b[1;32m--> 440\u001b[1;33m       \u001b[0mself\u001b[0m\u001b[1;33m.\u001b[0m\u001b[0m_call_batch_hook\u001b[0m\u001b[1;33m(\u001b[0m\u001b[0mModeKeys\u001b[0m\u001b[1;33m.\u001b[0m\u001b[0mTRAIN\u001b[0m\u001b[1;33m,\u001b[0m \u001b[1;34m'end'\u001b[0m\u001b[1;33m,\u001b[0m \u001b[0mbatch\u001b[0m\u001b[1;33m,\u001b[0m \u001b[0mlogs\u001b[0m\u001b[1;33m=\u001b[0m\u001b[0mlogs\u001b[0m\u001b[1;33m)\u001b[0m\u001b[1;33m\u001b[0m\u001b[1;33m\u001b[0m\u001b[0m\n\u001b[0m\u001b[0;32m    441\u001b[0m \u001b[1;33m\u001b[0m\u001b[0m\n\u001b[0;32m    442\u001b[0m   \u001b[1;32mdef\u001b[0m \u001b[0mon_test_batch_begin\u001b[0m\u001b[1;33m(\u001b[0m\u001b[0mself\u001b[0m\u001b[1;33m,\u001b[0m \u001b[0mbatch\u001b[0m\u001b[1;33m,\u001b[0m \u001b[0mlogs\u001b[0m\u001b[1;33m=\u001b[0m\u001b[1;32mNone\u001b[0m\u001b[1;33m)\u001b[0m\u001b[1;33m:\u001b[0m\u001b[1;33m\u001b[0m\u001b[1;33m\u001b[0m\u001b[0m\n",
      "\u001b[1;32m~\\Anaconda3\\lib\\site-packages\\tensorflow\\python\\keras\\callbacks.py\u001b[0m in \u001b[0;36m_call_batch_hook\u001b[1;34m(self, mode, hook, batch, logs)\u001b[0m\n\u001b[0;32m    287\u001b[0m       \u001b[0mself\u001b[0m\u001b[1;33m.\u001b[0m\u001b[0m_call_batch_begin_hook\u001b[0m\u001b[1;33m(\u001b[0m\u001b[0mmode\u001b[0m\u001b[1;33m,\u001b[0m \u001b[0mbatch\u001b[0m\u001b[1;33m,\u001b[0m \u001b[0mlogs\u001b[0m\u001b[1;33m)\u001b[0m\u001b[1;33m\u001b[0m\u001b[1;33m\u001b[0m\u001b[0m\n\u001b[0;32m    288\u001b[0m     \u001b[1;32melif\u001b[0m \u001b[0mhook\u001b[0m \u001b[1;33m==\u001b[0m \u001b[1;34m'end'\u001b[0m\u001b[1;33m:\u001b[0m\u001b[1;33m\u001b[0m\u001b[1;33m\u001b[0m\u001b[0m\n\u001b[1;32m--> 289\u001b[1;33m       \u001b[0mself\u001b[0m\u001b[1;33m.\u001b[0m\u001b[0m_call_batch_end_hook\u001b[0m\u001b[1;33m(\u001b[0m\u001b[0mmode\u001b[0m\u001b[1;33m,\u001b[0m \u001b[0mbatch\u001b[0m\u001b[1;33m,\u001b[0m \u001b[0mlogs\u001b[0m\u001b[1;33m)\u001b[0m\u001b[1;33m\u001b[0m\u001b[1;33m\u001b[0m\u001b[0m\n\u001b[0m\u001b[0;32m    290\u001b[0m     \u001b[1;32melse\u001b[0m\u001b[1;33m:\u001b[0m\u001b[1;33m\u001b[0m\u001b[1;33m\u001b[0m\u001b[0m\n\u001b[0;32m    291\u001b[0m       \u001b[1;32mraise\u001b[0m \u001b[0mValueError\u001b[0m\u001b[1;33m(\u001b[0m\u001b[1;34m'Unrecognized hook: {}'\u001b[0m\u001b[1;33m.\u001b[0m\u001b[0mformat\u001b[0m\u001b[1;33m(\u001b[0m\u001b[0mhook\u001b[0m\u001b[1;33m)\u001b[0m\u001b[1;33m)\u001b[0m\u001b[1;33m\u001b[0m\u001b[1;33m\u001b[0m\u001b[0m\n",
      "\u001b[1;32m~\\Anaconda3\\lib\\site-packages\\tensorflow\\python\\keras\\callbacks.py\u001b[0m in \u001b[0;36m_call_batch_end_hook\u001b[1;34m(self, mode, batch, logs)\u001b[0m\n\u001b[0;32m    307\u001b[0m       \u001b[0mbatch_time\u001b[0m \u001b[1;33m=\u001b[0m \u001b[0mtime\u001b[0m\u001b[1;33m.\u001b[0m\u001b[0mtime\u001b[0m\u001b[1;33m(\u001b[0m\u001b[1;33m)\u001b[0m \u001b[1;33m-\u001b[0m \u001b[0mself\u001b[0m\u001b[1;33m.\u001b[0m\u001b[0m_batch_start_time\u001b[0m\u001b[1;33m\u001b[0m\u001b[1;33m\u001b[0m\u001b[0m\n\u001b[0;32m    308\u001b[0m \u001b[1;33m\u001b[0m\u001b[0m\n\u001b[1;32m--> 309\u001b[1;33m     \u001b[0mself\u001b[0m\u001b[1;33m.\u001b[0m\u001b[0m_call_batch_hook_helper\u001b[0m\u001b[1;33m(\u001b[0m\u001b[0mhook_name\u001b[0m\u001b[1;33m,\u001b[0m \u001b[0mbatch\u001b[0m\u001b[1;33m,\u001b[0m \u001b[0mlogs\u001b[0m\u001b[1;33m)\u001b[0m\u001b[1;33m\u001b[0m\u001b[1;33m\u001b[0m\u001b[0m\n\u001b[0m\u001b[0;32m    310\u001b[0m \u001b[1;33m\u001b[0m\u001b[0m\n\u001b[0;32m    311\u001b[0m     \u001b[1;32mif\u001b[0m \u001b[0mself\u001b[0m\u001b[1;33m.\u001b[0m\u001b[0m_check_timing\u001b[0m\u001b[1;33m:\u001b[0m\u001b[1;33m\u001b[0m\u001b[1;33m\u001b[0m\u001b[0m\n",
      "\u001b[1;32m~\\Anaconda3\\lib\\site-packages\\tensorflow\\python\\keras\\callbacks.py\u001b[0m in \u001b[0;36m_call_batch_hook_helper\u001b[1;34m(self, hook_name, batch, logs)\u001b[0m\n\u001b[0;32m    340\u001b[0m       \u001b[0mhook\u001b[0m \u001b[1;33m=\u001b[0m \u001b[0mgetattr\u001b[0m\u001b[1;33m(\u001b[0m\u001b[0mcallback\u001b[0m\u001b[1;33m,\u001b[0m \u001b[0mhook_name\u001b[0m\u001b[1;33m)\u001b[0m\u001b[1;33m\u001b[0m\u001b[1;33m\u001b[0m\u001b[0m\n\u001b[0;32m    341\u001b[0m       \u001b[1;32mif\u001b[0m \u001b[0mgetattr\u001b[0m\u001b[1;33m(\u001b[0m\u001b[0mcallback\u001b[0m\u001b[1;33m,\u001b[0m \u001b[1;34m'_supports_tf_logs'\u001b[0m\u001b[1;33m,\u001b[0m \u001b[1;32mFalse\u001b[0m\u001b[1;33m)\u001b[0m\u001b[1;33m:\u001b[0m\u001b[1;33m\u001b[0m\u001b[1;33m\u001b[0m\u001b[0m\n\u001b[1;32m--> 342\u001b[1;33m         \u001b[0mhook\u001b[0m\u001b[1;33m(\u001b[0m\u001b[0mbatch\u001b[0m\u001b[1;33m,\u001b[0m \u001b[0mlogs\u001b[0m\u001b[1;33m)\u001b[0m\u001b[1;33m\u001b[0m\u001b[1;33m\u001b[0m\u001b[0m\n\u001b[0m\u001b[0;32m    343\u001b[0m       \u001b[1;32melse\u001b[0m\u001b[1;33m:\u001b[0m\u001b[1;33m\u001b[0m\u001b[1;33m\u001b[0m\u001b[0m\n\u001b[0;32m    344\u001b[0m         \u001b[1;32mif\u001b[0m \u001b[0mnumpy_logs\u001b[0m \u001b[1;32mis\u001b[0m \u001b[1;32mNone\u001b[0m\u001b[1;33m:\u001b[0m  \u001b[1;31m# Only convert once.\u001b[0m\u001b[1;33m\u001b[0m\u001b[1;33m\u001b[0m\u001b[0m\n",
      "\u001b[1;32m~\\Anaconda3\\lib\\site-packages\\tensorflow\\python\\keras\\callbacks.py\u001b[0m in \u001b[0;36mon_train_batch_end\u001b[1;34m(self, batch, logs)\u001b[0m\n\u001b[0;32m    959\u001b[0m \u001b[1;33m\u001b[0m\u001b[0m\n\u001b[0;32m    960\u001b[0m   \u001b[1;32mdef\u001b[0m \u001b[0mon_train_batch_end\u001b[0m\u001b[1;33m(\u001b[0m\u001b[0mself\u001b[0m\u001b[1;33m,\u001b[0m \u001b[0mbatch\u001b[0m\u001b[1;33m,\u001b[0m \u001b[0mlogs\u001b[0m\u001b[1;33m=\u001b[0m\u001b[1;32mNone\u001b[0m\u001b[1;33m)\u001b[0m\u001b[1;33m:\u001b[0m\u001b[1;33m\u001b[0m\u001b[1;33m\u001b[0m\u001b[0m\n\u001b[1;32m--> 961\u001b[1;33m     \u001b[0mself\u001b[0m\u001b[1;33m.\u001b[0m\u001b[0m_batch_update_progbar\u001b[0m\u001b[1;33m(\u001b[0m\u001b[0mbatch\u001b[0m\u001b[1;33m,\u001b[0m \u001b[0mlogs\u001b[0m\u001b[1;33m)\u001b[0m\u001b[1;33m\u001b[0m\u001b[1;33m\u001b[0m\u001b[0m\n\u001b[0m\u001b[0;32m    962\u001b[0m \u001b[1;33m\u001b[0m\u001b[0m\n\u001b[0;32m    963\u001b[0m   \u001b[1;32mdef\u001b[0m \u001b[0mon_test_batch_end\u001b[0m\u001b[1;33m(\u001b[0m\u001b[0mself\u001b[0m\u001b[1;33m,\u001b[0m \u001b[0mbatch\u001b[0m\u001b[1;33m,\u001b[0m \u001b[0mlogs\u001b[0m\u001b[1;33m=\u001b[0m\u001b[1;32mNone\u001b[0m\u001b[1;33m)\u001b[0m\u001b[1;33m:\u001b[0m\u001b[1;33m\u001b[0m\u001b[1;33m\u001b[0m\u001b[0m\n",
      "\u001b[1;32m~\\Anaconda3\\lib\\site-packages\\tensorflow\\python\\keras\\callbacks.py\u001b[0m in \u001b[0;36m_batch_update_progbar\u001b[1;34m(self, batch, logs)\u001b[0m\n\u001b[0;32m   1015\u001b[0m       \u001b[1;31m# Only block async when verbose = 1.\u001b[0m\u001b[1;33m\u001b[0m\u001b[1;33m\u001b[0m\u001b[1;33m\u001b[0m\u001b[0m\n\u001b[0;32m   1016\u001b[0m       \u001b[0mlogs\u001b[0m \u001b[1;33m=\u001b[0m \u001b[0mtf_utils\u001b[0m\u001b[1;33m.\u001b[0m\u001b[0mto_numpy_or_python_type\u001b[0m\u001b[1;33m(\u001b[0m\u001b[0mlogs\u001b[0m\u001b[1;33m)\u001b[0m\u001b[1;33m\u001b[0m\u001b[1;33m\u001b[0m\u001b[0m\n\u001b[1;32m-> 1017\u001b[1;33m       \u001b[0mself\u001b[0m\u001b[1;33m.\u001b[0m\u001b[0mprogbar\u001b[0m\u001b[1;33m.\u001b[0m\u001b[0mupdate\u001b[0m\u001b[1;33m(\u001b[0m\u001b[0mself\u001b[0m\u001b[1;33m.\u001b[0m\u001b[0mseen\u001b[0m\u001b[1;33m,\u001b[0m \u001b[0mlist\u001b[0m\u001b[1;33m(\u001b[0m\u001b[0mlogs\u001b[0m\u001b[1;33m.\u001b[0m\u001b[0mitems\u001b[0m\u001b[1;33m(\u001b[0m\u001b[1;33m)\u001b[0m\u001b[1;33m)\u001b[0m\u001b[1;33m,\u001b[0m \u001b[0mfinalize\u001b[0m\u001b[1;33m=\u001b[0m\u001b[1;32mFalse\u001b[0m\u001b[1;33m)\u001b[0m\u001b[1;33m\u001b[0m\u001b[1;33m\u001b[0m\u001b[0m\n\u001b[0m\u001b[0;32m   1018\u001b[0m \u001b[1;33m\u001b[0m\u001b[0m\n\u001b[0;32m   1019\u001b[0m   \u001b[1;32mdef\u001b[0m \u001b[0m_finalize_progbar\u001b[0m\u001b[1;33m(\u001b[0m\u001b[0mself\u001b[0m\u001b[1;33m,\u001b[0m \u001b[0mlogs\u001b[0m\u001b[1;33m)\u001b[0m\u001b[1;33m:\u001b[0m\u001b[1;33m\u001b[0m\u001b[1;33m\u001b[0m\u001b[0m\n",
      "\u001b[1;32m~\\Anaconda3\\lib\\site-packages\\tensorflow\\python\\keras\\utils\\generic_utils.py\u001b[0m in \u001b[0;36mupdate\u001b[1;34m(self, current, values, finalize)\u001b[0m\n\u001b[0;32m    573\u001b[0m       \u001b[0mprev_total_width\u001b[0m \u001b[1;33m=\u001b[0m \u001b[0mself\u001b[0m\u001b[1;33m.\u001b[0m\u001b[0m_total_width\u001b[0m\u001b[1;33m\u001b[0m\u001b[1;33m\u001b[0m\u001b[0m\n\u001b[0;32m    574\u001b[0m       \u001b[1;32mif\u001b[0m \u001b[0mself\u001b[0m\u001b[1;33m.\u001b[0m\u001b[0m_dynamic_display\u001b[0m\u001b[1;33m:\u001b[0m\u001b[1;33m\u001b[0m\u001b[1;33m\u001b[0m\u001b[0m\n\u001b[1;32m--> 575\u001b[1;33m         \u001b[0msys\u001b[0m\u001b[1;33m.\u001b[0m\u001b[0mstdout\u001b[0m\u001b[1;33m.\u001b[0m\u001b[0mwrite\u001b[0m\u001b[1;33m(\u001b[0m\u001b[1;34m'\\b'\u001b[0m \u001b[1;33m*\u001b[0m \u001b[0mprev_total_width\u001b[0m\u001b[1;33m)\u001b[0m\u001b[1;33m\u001b[0m\u001b[1;33m\u001b[0m\u001b[0m\n\u001b[0m\u001b[0;32m    576\u001b[0m         \u001b[0msys\u001b[0m\u001b[1;33m.\u001b[0m\u001b[0mstdout\u001b[0m\u001b[1;33m.\u001b[0m\u001b[0mwrite\u001b[0m\u001b[1;33m(\u001b[0m\u001b[1;34m'\\r'\u001b[0m\u001b[1;33m)\u001b[0m\u001b[1;33m\u001b[0m\u001b[1;33m\u001b[0m\u001b[0m\n\u001b[0;32m    577\u001b[0m       \u001b[1;32melse\u001b[0m\u001b[1;33m:\u001b[0m\u001b[1;33m\u001b[0m\u001b[1;33m\u001b[0m\u001b[0m\n",
      "\u001b[1;32m~\\AppData\\Roaming\\Python\\Python37\\site-packages\\ipykernel\\iostream.py\u001b[0m in \u001b[0;36mwrite\u001b[1;34m(self, string)\u001b[0m\n\u001b[0;32m    400\u001b[0m             \u001b[0mis_child\u001b[0m \u001b[1;33m=\u001b[0m \u001b[1;33m(\u001b[0m\u001b[1;32mnot\u001b[0m \u001b[0mself\u001b[0m\u001b[1;33m.\u001b[0m\u001b[0m_is_master_process\u001b[0m\u001b[1;33m(\u001b[0m\u001b[1;33m)\u001b[0m\u001b[1;33m)\u001b[0m\u001b[1;33m\u001b[0m\u001b[1;33m\u001b[0m\u001b[0m\n\u001b[0;32m    401\u001b[0m             \u001b[1;31m# only touch the buffer in the IO thread to avoid races\u001b[0m\u001b[1;33m\u001b[0m\u001b[1;33m\u001b[0m\u001b[1;33m\u001b[0m\u001b[0m\n\u001b[1;32m--> 402\u001b[1;33m             \u001b[0mself\u001b[0m\u001b[1;33m.\u001b[0m\u001b[0mpub_thread\u001b[0m\u001b[1;33m.\u001b[0m\u001b[0mschedule\u001b[0m\u001b[1;33m(\u001b[0m\u001b[1;32mlambda\u001b[0m \u001b[1;33m:\u001b[0m \u001b[0mself\u001b[0m\u001b[1;33m.\u001b[0m\u001b[0m_buffer\u001b[0m\u001b[1;33m.\u001b[0m\u001b[0mwrite\u001b[0m\u001b[1;33m(\u001b[0m\u001b[0mstring\u001b[0m\u001b[1;33m)\u001b[0m\u001b[1;33m)\u001b[0m\u001b[1;33m\u001b[0m\u001b[1;33m\u001b[0m\u001b[0m\n\u001b[0m\u001b[0;32m    403\u001b[0m             \u001b[1;32mif\u001b[0m \u001b[0mis_child\u001b[0m\u001b[1;33m:\u001b[0m\u001b[1;33m\u001b[0m\u001b[1;33m\u001b[0m\u001b[0m\n\u001b[0;32m    404\u001b[0m                 \u001b[1;31m# newlines imply flush in subprocesses\u001b[0m\u001b[1;33m\u001b[0m\u001b[1;33m\u001b[0m\u001b[1;33m\u001b[0m\u001b[0m\n",
      "\u001b[1;32m~\\AppData\\Roaming\\Python\\Python37\\site-packages\\ipykernel\\iostream.py\u001b[0m in \u001b[0;36mschedule\u001b[1;34m(self, f)\u001b[0m\n\u001b[0;32m    203\u001b[0m             \u001b[0mself\u001b[0m\u001b[1;33m.\u001b[0m\u001b[0m_events\u001b[0m\u001b[1;33m.\u001b[0m\u001b[0mappend\u001b[0m\u001b[1;33m(\u001b[0m\u001b[0mf\u001b[0m\u001b[1;33m)\u001b[0m\u001b[1;33m\u001b[0m\u001b[1;33m\u001b[0m\u001b[0m\n\u001b[0;32m    204\u001b[0m             \u001b[1;31m# wake event thread (message content is ignored)\u001b[0m\u001b[1;33m\u001b[0m\u001b[1;33m\u001b[0m\u001b[1;33m\u001b[0m\u001b[0m\n\u001b[1;32m--> 205\u001b[1;33m             \u001b[0mself\u001b[0m\u001b[1;33m.\u001b[0m\u001b[0m_event_pipe\u001b[0m\u001b[1;33m.\u001b[0m\u001b[0msend\u001b[0m\u001b[1;33m(\u001b[0m\u001b[1;34mb''\u001b[0m\u001b[1;33m)\u001b[0m\u001b[1;33m\u001b[0m\u001b[1;33m\u001b[0m\u001b[0m\n\u001b[0m\u001b[0;32m    206\u001b[0m         \u001b[1;32melse\u001b[0m\u001b[1;33m:\u001b[0m\u001b[1;33m\u001b[0m\u001b[1;33m\u001b[0m\u001b[0m\n\u001b[0;32m    207\u001b[0m             \u001b[0mf\u001b[0m\u001b[1;33m(\u001b[0m\u001b[1;33m)\u001b[0m\u001b[1;33m\u001b[0m\u001b[1;33m\u001b[0m\u001b[0m\n",
      "\u001b[1;32m~\\AppData\\Roaming\\Python\\Python37\\site-packages\\zmq\\sugar\\socket.py\u001b[0m in \u001b[0;36msend\u001b[1;34m(self, data, flags, copy, track, routing_id, group)\u001b[0m\n\u001b[0;32m    398\u001b[0m                                  copy_threshold=self.copy_threshold)\n\u001b[0;32m    399\u001b[0m             \u001b[0mdata\u001b[0m\u001b[1;33m.\u001b[0m\u001b[0mgroup\u001b[0m \u001b[1;33m=\u001b[0m \u001b[0mgroup\u001b[0m\u001b[1;33m\u001b[0m\u001b[1;33m\u001b[0m\u001b[0m\n\u001b[1;32m--> 400\u001b[1;33m         \u001b[1;32mreturn\u001b[0m \u001b[0msuper\u001b[0m\u001b[1;33m(\u001b[0m\u001b[0mSocket\u001b[0m\u001b[1;33m,\u001b[0m \u001b[0mself\u001b[0m\u001b[1;33m)\u001b[0m\u001b[1;33m.\u001b[0m\u001b[0msend\u001b[0m\u001b[1;33m(\u001b[0m\u001b[0mdata\u001b[0m\u001b[1;33m,\u001b[0m \u001b[0mflags\u001b[0m\u001b[1;33m=\u001b[0m\u001b[0mflags\u001b[0m\u001b[1;33m,\u001b[0m \u001b[0mcopy\u001b[0m\u001b[1;33m=\u001b[0m\u001b[0mcopy\u001b[0m\u001b[1;33m,\u001b[0m \u001b[0mtrack\u001b[0m\u001b[1;33m=\u001b[0m\u001b[0mtrack\u001b[0m\u001b[1;33m)\u001b[0m\u001b[1;33m\u001b[0m\u001b[1;33m\u001b[0m\u001b[0m\n\u001b[0m\u001b[0;32m    401\u001b[0m \u001b[1;33m\u001b[0m\u001b[0m\n\u001b[0;32m    402\u001b[0m     \u001b[1;32mdef\u001b[0m \u001b[0msend_multipart\u001b[0m\u001b[1;33m(\u001b[0m\u001b[0mself\u001b[0m\u001b[1;33m,\u001b[0m \u001b[0mmsg_parts\u001b[0m\u001b[1;33m,\u001b[0m \u001b[0mflags\u001b[0m\u001b[1;33m=\u001b[0m\u001b[1;36m0\u001b[0m\u001b[1;33m,\u001b[0m \u001b[0mcopy\u001b[0m\u001b[1;33m=\u001b[0m\u001b[1;32mTrue\u001b[0m\u001b[1;33m,\u001b[0m \u001b[0mtrack\u001b[0m\u001b[1;33m=\u001b[0m\u001b[1;32mFalse\u001b[0m\u001b[1;33m,\u001b[0m \u001b[1;33m**\u001b[0m\u001b[0mkwargs\u001b[0m\u001b[1;33m)\u001b[0m\u001b[1;33m:\u001b[0m\u001b[1;33m\u001b[0m\u001b[1;33m\u001b[0m\u001b[0m\n",
      "\u001b[1;32mzmq\\backend\\cython\\socket.pyx\u001b[0m in \u001b[0;36mzmq.backend.cython.socket.Socket.send\u001b[1;34m()\u001b[0m\n",
      "\u001b[1;32mzmq\\backend\\cython\\socket.pyx\u001b[0m in \u001b[0;36mzmq.backend.cython.socket.Socket.send\u001b[1;34m()\u001b[0m\n",
      "\u001b[1;32mzmq\\backend\\cython\\socket.pyx\u001b[0m in \u001b[0;36mzmq.backend.cython.socket._send_copy\u001b[1;34m()\u001b[0m\n",
      "\u001b[1;32m~\\AppData\\Roaming\\Python\\Python37\\site-packages\\zmq\\backend\\cython\\checkrc.pxd\u001b[0m in \u001b[0;36mzmq.backend.cython.checkrc._check_rc\u001b[1;34m()\u001b[0m\n",
      "\u001b[1;31mKeyboardInterrupt\u001b[0m: "
     ]
    }
   ],
   "source": [
    "model.fit(X_train, y_train, epochs=1000, callbacks=[tb_callback])"
   ]
  },
  {
   "cell_type": "code",
   "execution_count": 31,
   "metadata": {
    "hidden": true
   },
   "outputs": [
    {
     "name": "stdout",
     "output_type": "stream",
     "text": [
      "Model: \"sequential\"\n",
      "_________________________________________________________________\n",
      "Layer (type)                 Output Shape              Param #   \n",
      "=================================================================\n",
      "lstm (LSTM)                  (None, 30, 64)            82688     \n",
      "_________________________________________________________________\n",
      "lstm_1 (LSTM)                (None, 30, 128)           98816     \n",
      "_________________________________________________________________\n",
      "lstm_2 (LSTM)                (None, 64)                49408     \n",
      "_________________________________________________________________\n",
      "dense (Dense)                (None, 64)                4160      \n",
      "_________________________________________________________________\n",
      "dense_1 (Dense)              (None, 32)                2080      \n",
      "_________________________________________________________________\n",
      "dense_2 (Dense)              (None, 4)                 132       \n",
      "=================================================================\n",
      "Total params: 237,284\n",
      "Trainable params: 237,284\n",
      "Non-trainable params: 0\n",
      "_________________________________________________________________\n"
     ]
    }
   ],
   "source": [
    "model.summary()"
   ]
  },
  {
   "cell_type": "markdown",
   "metadata": {
    "heading_collapsed": true
   },
   "source": [
    "## 8. Make Predictions"
   ]
  },
  {
   "cell_type": "code",
   "execution_count": 35,
   "metadata": {
    "hidden": true
   },
   "outputs": [],
   "source": [
    "res = model.predict(X_test)"
   ]
  },
  {
   "cell_type": "code",
   "execution_count": 39,
   "metadata": {
    "hidden": true
   },
   "outputs": [
    {
     "data": {
      "text/plain": [
       "'thanks'"
      ]
     },
     "execution_count": 39,
     "metadata": {},
     "output_type": "execute_result"
    }
   ],
   "source": [
    "actions[np.argmax(res[1])]"
   ]
  },
  {
   "cell_type": "code",
   "execution_count": 40,
   "metadata": {
    "hidden": true
   },
   "outputs": [
    {
     "data": {
      "text/plain": [
       "'thanks'"
      ]
     },
     "execution_count": 40,
     "metadata": {},
     "output_type": "execute_result"
    }
   ],
   "source": [
    "actions[np.argmax(y_test[1])]"
   ]
  },
  {
   "cell_type": "markdown",
   "metadata": {
    "heading_collapsed": true
   },
   "source": [
    "## 9. Save Weights"
   ]
  },
  {
   "cell_type": "code",
   "execution_count": 32,
   "metadata": {
    "hidden": true
   },
   "outputs": [],
   "source": [
    "model.save('action_hireme.h5')"
   ]
  },
  {
   "cell_type": "code",
   "execution_count": 29,
   "metadata": {
    "hidden": true
   },
   "outputs": [],
   "source": [
    "del model"
   ]
  },
  {
   "cell_type": "code",
   "execution_count": 11,
   "metadata": {
    "hidden": true
   },
   "outputs": [],
   "source": [
    "# Original model: hello, thanks\n",
    "# model = Sequential()\n",
    "# model.add(LSTM(64, return_sequences=True, activation='relu', input_shape=(30,1662)))\n",
    "# model.add(LSTM(128, return_sequences=True, activation='relu'))\n",
    "# model.add(LSTM(64, return_sequences=False, activation='relu'))\n",
    "# model.add(Dense(64, activation='relu'))\n",
    "# model.add(Dense(32, activation='relu'))\n",
    "# model.add(Dense(actions.shape[0], activation='softmax'))\n",
    "# model.compile(optimizer='Adam', loss='categorical_crossentropy', metrics=['categorical_accuracy'])\n",
    "\n",
    "# model.load_weights('action_v1.h5')"
   ]
  },
  {
   "cell_type": "code",
   "execution_count": 36,
   "metadata": {
    "hidden": true
   },
   "outputs": [],
   "source": [
    "model.load_weights('action_hireme.h5')"
   ]
  },
  {
   "cell_type": "markdown",
   "metadata": {
    "heading_collapsed": true
   },
   "source": [
    "## 10. Evaluation using Confusion Matrix and Accuracy"
   ]
  },
  {
   "cell_type": "code",
   "execution_count": 33,
   "metadata": {
    "hidden": true
   },
   "outputs": [],
   "source": [
    "from sklearn.metrics import multilabel_confusion_matrix, accuracy_score"
   ]
  },
  {
   "cell_type": "code",
   "execution_count": 34,
   "metadata": {
    "collapsed": true,
    "hidden": true
   },
   "outputs": [
    {
     "ename": "NameError",
     "evalue": "name 'X_test' is not defined",
     "output_type": "error",
     "traceback": [
      "\u001b[1;31m---------------------------------------------------------------------------\u001b[0m",
      "\u001b[1;31mNameError\u001b[0m                                 Traceback (most recent call last)",
      "\u001b[1;32m<ipython-input-34-412a1357352b>\u001b[0m in \u001b[0;36m<module>\u001b[1;34m\u001b[0m\n\u001b[1;32m----> 1\u001b[1;33m \u001b[0myhat\u001b[0m \u001b[1;33m=\u001b[0m \u001b[0mmodel\u001b[0m\u001b[1;33m.\u001b[0m\u001b[0mpredict\u001b[0m\u001b[1;33m(\u001b[0m\u001b[0mX_test\u001b[0m\u001b[1;33m)\u001b[0m\u001b[1;33m\u001b[0m\u001b[1;33m\u001b[0m\u001b[0m\n\u001b[0m",
      "\u001b[1;31mNameError\u001b[0m: name 'X_test' is not defined"
     ]
    }
   ],
   "source": [
    "yhat = model.predict(X_test)"
   ]
  },
  {
   "cell_type": "code",
   "execution_count": 44,
   "metadata": {
    "hidden": true
   },
   "outputs": [],
   "source": [
    "ytrue = np.argmax(y_test, axis=1).tolist()\n",
    "yhat = np.argmax(yhat, axis=1).tolist()"
   ]
  },
  {
   "cell_type": "code",
   "execution_count": 45,
   "metadata": {
    "hidden": true
   },
   "outputs": [
    {
     "data": {
      "text/plain": [
       "array([[[1, 0],\n",
       "        [0, 1]],\n",
       "\n",
       "       [[1, 0],\n",
       "        [0, 1]]], dtype=int64)"
      ]
     },
     "execution_count": 45,
     "metadata": {},
     "output_type": "execute_result"
    }
   ],
   "source": [
    "multilabel_confusion_matrix(ytrue, yhat)"
   ]
  },
  {
   "cell_type": "code",
   "execution_count": 46,
   "metadata": {
    "hidden": true
   },
   "outputs": [
    {
     "data": {
      "text/plain": [
       "1.0"
      ]
     },
     "execution_count": 46,
     "metadata": {},
     "output_type": "execute_result"
    }
   ],
   "source": [
    "accuracy_score(ytrue, yhat)"
   ]
  },
  {
   "cell_type": "markdown",
   "metadata": {},
   "source": [
    "## 11. Test in Real Time"
   ]
  },
  {
   "cell_type": "code",
   "execution_count": 33,
   "metadata": {},
   "outputs": [],
   "source": [
    "# from scipy import stats"
   ]
  },
  {
   "cell_type": "code",
   "execution_count": 126,
   "metadata": {},
   "outputs": [],
   "source": [
    "# To do visualization of word probabilityies\n",
    "colors = [(245,117,16), (117,245,16), (16,117,245), (100,255,125)]\n",
    "def prob_viz(res, actions, input_frame, colors):\n",
    "    output_frame = input_frame.copy()\n",
    "    for num, prob in enumerate(res):\n",
    "        cv2.rectangle(output_frame, (0,60+num*40), (int(prob*100), 90+num*40), colors[num], -1)\n",
    "        cv2.putText(output_frame, actions[num], (0, 85+num*40), cv2.FONT_HERSHEY_SIMPLEX, 1, (255,255,255), 2, cv2.LINE_AA)\n",
    "        \n",
    "    return output_frame"
   ]
  },
  {
   "cell_type": "code",
   "execution_count": null,
   "metadata": {},
   "outputs": [],
   "source": []
  },
  {
   "cell_type": "code",
   "execution_count": 127,
   "metadata": {
    "scrolled": true
   },
   "outputs": [
    {
     "ename": "IndexError",
     "evalue": "index 2 is out of bounds for axis 0 with size 2",
     "output_type": "error",
     "traceback": [
      "\u001b[1;31m---------------------------------------------------------------------------\u001b[0m",
      "\u001b[1;31mIndexError\u001b[0m                                Traceback (most recent call last)",
      "\u001b[1;32m<ipython-input-127-0248883a8ffa>\u001b[0m in \u001b[0;36m<module>\u001b[1;34m\u001b[0m\n\u001b[0;32m      1\u001b[0m \u001b[0mplt\u001b[0m\u001b[1;33m.\u001b[0m\u001b[0mfigure\u001b[0m\u001b[1;33m(\u001b[0m\u001b[0mfigsize\u001b[0m\u001b[1;33m=\u001b[0m\u001b[1;33m(\u001b[0m\u001b[1;36m18\u001b[0m\u001b[1;33m,\u001b[0m\u001b[1;36m18\u001b[0m\u001b[1;33m)\u001b[0m\u001b[1;33m)\u001b[0m\u001b[1;33m\u001b[0m\u001b[1;33m\u001b[0m\u001b[0m\n\u001b[1;32m----> 2\u001b[1;33m \u001b[0mplt\u001b[0m\u001b[1;33m.\u001b[0m\u001b[0mimshow\u001b[0m\u001b[1;33m(\u001b[0m\u001b[0mprob_viz\u001b[0m\u001b[1;33m(\u001b[0m\u001b[0mres\u001b[0m\u001b[1;33m,\u001b[0m \u001b[0mactions\u001b[0m\u001b[1;33m,\u001b[0m \u001b[0mimage\u001b[0m\u001b[1;33m,\u001b[0m \u001b[0mcolors\u001b[0m\u001b[1;33m)\u001b[0m\u001b[1;33m)\u001b[0m\u001b[1;33m\u001b[0m\u001b[1;33m\u001b[0m\u001b[0m\n\u001b[0m",
      "\u001b[1;32m<ipython-input-126-92691e64e41f>\u001b[0m in \u001b[0;36mprob_viz\u001b[1;34m(res, actions, input_frame, colors)\u001b[0m\n\u001b[0;32m      5\u001b[0m     \u001b[1;32mfor\u001b[0m \u001b[0mnum\u001b[0m\u001b[1;33m,\u001b[0m \u001b[0mprob\u001b[0m \u001b[1;32min\u001b[0m \u001b[0menumerate\u001b[0m\u001b[1;33m(\u001b[0m\u001b[0mres\u001b[0m\u001b[1;33m)\u001b[0m\u001b[1;33m:\u001b[0m\u001b[1;33m\u001b[0m\u001b[1;33m\u001b[0m\u001b[0m\n\u001b[0;32m      6\u001b[0m         \u001b[0mcv2\u001b[0m\u001b[1;33m.\u001b[0m\u001b[0mrectangle\u001b[0m\u001b[1;33m(\u001b[0m\u001b[0moutput_frame\u001b[0m\u001b[1;33m,\u001b[0m \u001b[1;33m(\u001b[0m\u001b[1;36m0\u001b[0m\u001b[1;33m,\u001b[0m\u001b[1;36m60\u001b[0m\u001b[1;33m+\u001b[0m\u001b[0mnum\u001b[0m\u001b[1;33m*\u001b[0m\u001b[1;36m40\u001b[0m\u001b[1;33m)\u001b[0m\u001b[1;33m,\u001b[0m \u001b[1;33m(\u001b[0m\u001b[0mint\u001b[0m\u001b[1;33m(\u001b[0m\u001b[0mprob\u001b[0m\u001b[1;33m*\u001b[0m\u001b[1;36m100\u001b[0m\u001b[1;33m)\u001b[0m\u001b[1;33m,\u001b[0m \u001b[1;36m90\u001b[0m\u001b[1;33m+\u001b[0m\u001b[0mnum\u001b[0m\u001b[1;33m*\u001b[0m\u001b[1;36m40\u001b[0m\u001b[1;33m)\u001b[0m\u001b[1;33m,\u001b[0m \u001b[0mcolors\u001b[0m\u001b[1;33m[\u001b[0m\u001b[0mnum\u001b[0m\u001b[1;33m]\u001b[0m\u001b[1;33m,\u001b[0m \u001b[1;33m-\u001b[0m\u001b[1;36m1\u001b[0m\u001b[1;33m)\u001b[0m\u001b[1;33m\u001b[0m\u001b[1;33m\u001b[0m\u001b[0m\n\u001b[1;32m----> 7\u001b[1;33m         \u001b[0mcv2\u001b[0m\u001b[1;33m.\u001b[0m\u001b[0mputText\u001b[0m\u001b[1;33m(\u001b[0m\u001b[0moutput_frame\u001b[0m\u001b[1;33m,\u001b[0m \u001b[0mactions\u001b[0m\u001b[1;33m[\u001b[0m\u001b[0mnum\u001b[0m\u001b[1;33m]\u001b[0m\u001b[1;33m,\u001b[0m \u001b[1;33m(\u001b[0m\u001b[1;36m0\u001b[0m\u001b[1;33m,\u001b[0m \u001b[1;36m85\u001b[0m\u001b[1;33m+\u001b[0m\u001b[0mnum\u001b[0m\u001b[1;33m*\u001b[0m\u001b[1;36m40\u001b[0m\u001b[1;33m)\u001b[0m\u001b[1;33m,\u001b[0m \u001b[0mcv2\u001b[0m\u001b[1;33m.\u001b[0m\u001b[0mFONT_HERSHEY_SIMPLEX\u001b[0m\u001b[1;33m,\u001b[0m \u001b[1;36m1\u001b[0m\u001b[1;33m,\u001b[0m \u001b[1;33m(\u001b[0m\u001b[1;36m255\u001b[0m\u001b[1;33m,\u001b[0m\u001b[1;36m255\u001b[0m\u001b[1;33m,\u001b[0m\u001b[1;36m255\u001b[0m\u001b[1;33m)\u001b[0m\u001b[1;33m,\u001b[0m \u001b[1;36m2\u001b[0m\u001b[1;33m,\u001b[0m \u001b[0mcv2\u001b[0m\u001b[1;33m.\u001b[0m\u001b[0mLINE_AA\u001b[0m\u001b[1;33m)\u001b[0m\u001b[1;33m\u001b[0m\u001b[1;33m\u001b[0m\u001b[0m\n\u001b[0m\u001b[0;32m      8\u001b[0m \u001b[1;33m\u001b[0m\u001b[0m\n\u001b[0;32m      9\u001b[0m     \u001b[1;32mreturn\u001b[0m \u001b[0moutput_frame\u001b[0m\u001b[1;33m\u001b[0m\u001b[1;33m\u001b[0m\u001b[0m\n",
      "\u001b[1;31mIndexError\u001b[0m: index 2 is out of bounds for axis 0 with size 2"
     ]
    },
    {
     "data": {
      "text/plain": [
       "<Figure size 1296x1296 with 0 Axes>"
      ]
     },
     "metadata": {},
     "output_type": "display_data"
    }
   ],
   "source": [
    "plt.figure(figsize=(18,18))\n",
    "plt.imshow(prob_viz(res, actions, image, colors))"
   ]
  },
  {
   "cell_type": "code",
   "execution_count": 129,
   "metadata": {},
   "outputs": [
    {
     "ename": "IndexError",
     "evalue": "index 2 is out of bounds for axis 0 with size 2",
     "output_type": "error",
     "traceback": [
      "\u001b[1;31m---------------------------------------------------------------------------\u001b[0m",
      "\u001b[1;31mIndexError\u001b[0m                                Traceback (most recent call last)",
      "\u001b[1;32m<ipython-input-129-26b3f942688a>\u001b[0m in \u001b[0;36m<module>\u001b[1;34m\u001b[0m\n\u001b[0;32m     49\u001b[0m \u001b[1;33m\u001b[0m\u001b[0m\n\u001b[0;32m     50\u001b[0m \u001b[1;31m#             # Viz probabilities\u001b[0m\u001b[1;33m\u001b[0m\u001b[1;33m\u001b[0m\u001b[1;33m\u001b[0m\u001b[0m\n\u001b[1;32m---> 51\u001b[1;33m             \u001b[0mimage\u001b[0m \u001b[1;33m=\u001b[0m \u001b[0mprob_viz\u001b[0m\u001b[1;33m(\u001b[0m\u001b[0mres\u001b[0m\u001b[1;33m,\u001b[0m \u001b[0mactions\u001b[0m\u001b[1;33m,\u001b[0m \u001b[0mimage\u001b[0m\u001b[1;33m,\u001b[0m \u001b[0mcolors\u001b[0m\u001b[1;33m)\u001b[0m\u001b[1;33m\u001b[0m\u001b[1;33m\u001b[0m\u001b[0m\n\u001b[0m\u001b[0;32m     52\u001b[0m \u001b[1;33m\u001b[0m\u001b[0m\n\u001b[0;32m     53\u001b[0m         \u001b[0mcv2\u001b[0m\u001b[1;33m.\u001b[0m\u001b[0mrectangle\u001b[0m\u001b[1;33m(\u001b[0m\u001b[0mimage\u001b[0m\u001b[1;33m,\u001b[0m \u001b[1;33m(\u001b[0m\u001b[1;36m0\u001b[0m\u001b[1;33m,\u001b[0m\u001b[1;36m0\u001b[0m\u001b[1;33m)\u001b[0m\u001b[1;33m,\u001b[0m \u001b[1;33m(\u001b[0m\u001b[1;36m640\u001b[0m\u001b[1;33m,\u001b[0m \u001b[1;36m40\u001b[0m\u001b[1;33m)\u001b[0m\u001b[1;33m,\u001b[0m \u001b[1;33m(\u001b[0m\u001b[1;36m245\u001b[0m\u001b[1;33m,\u001b[0m \u001b[1;36m117\u001b[0m\u001b[1;33m,\u001b[0m \u001b[1;36m16\u001b[0m\u001b[1;33m)\u001b[0m\u001b[1;33m,\u001b[0m \u001b[1;33m-\u001b[0m\u001b[1;36m1\u001b[0m\u001b[1;33m)\u001b[0m\u001b[1;33m\u001b[0m\u001b[1;33m\u001b[0m\u001b[0m\n",
      "\u001b[1;32m<ipython-input-126-92691e64e41f>\u001b[0m in \u001b[0;36mprob_viz\u001b[1;34m(res, actions, input_frame, colors)\u001b[0m\n\u001b[0;32m      5\u001b[0m     \u001b[1;32mfor\u001b[0m \u001b[0mnum\u001b[0m\u001b[1;33m,\u001b[0m \u001b[0mprob\u001b[0m \u001b[1;32min\u001b[0m \u001b[0menumerate\u001b[0m\u001b[1;33m(\u001b[0m\u001b[0mres\u001b[0m\u001b[1;33m)\u001b[0m\u001b[1;33m:\u001b[0m\u001b[1;33m\u001b[0m\u001b[1;33m\u001b[0m\u001b[0m\n\u001b[0;32m      6\u001b[0m         \u001b[0mcv2\u001b[0m\u001b[1;33m.\u001b[0m\u001b[0mrectangle\u001b[0m\u001b[1;33m(\u001b[0m\u001b[0moutput_frame\u001b[0m\u001b[1;33m,\u001b[0m \u001b[1;33m(\u001b[0m\u001b[1;36m0\u001b[0m\u001b[1;33m,\u001b[0m\u001b[1;36m60\u001b[0m\u001b[1;33m+\u001b[0m\u001b[0mnum\u001b[0m\u001b[1;33m*\u001b[0m\u001b[1;36m40\u001b[0m\u001b[1;33m)\u001b[0m\u001b[1;33m,\u001b[0m \u001b[1;33m(\u001b[0m\u001b[0mint\u001b[0m\u001b[1;33m(\u001b[0m\u001b[0mprob\u001b[0m\u001b[1;33m*\u001b[0m\u001b[1;36m100\u001b[0m\u001b[1;33m)\u001b[0m\u001b[1;33m,\u001b[0m \u001b[1;36m90\u001b[0m\u001b[1;33m+\u001b[0m\u001b[0mnum\u001b[0m\u001b[1;33m*\u001b[0m\u001b[1;36m40\u001b[0m\u001b[1;33m)\u001b[0m\u001b[1;33m,\u001b[0m \u001b[0mcolors\u001b[0m\u001b[1;33m[\u001b[0m\u001b[0mnum\u001b[0m\u001b[1;33m]\u001b[0m\u001b[1;33m,\u001b[0m \u001b[1;33m-\u001b[0m\u001b[1;36m1\u001b[0m\u001b[1;33m)\u001b[0m\u001b[1;33m\u001b[0m\u001b[1;33m\u001b[0m\u001b[0m\n\u001b[1;32m----> 7\u001b[1;33m         \u001b[0mcv2\u001b[0m\u001b[1;33m.\u001b[0m\u001b[0mputText\u001b[0m\u001b[1;33m(\u001b[0m\u001b[0moutput_frame\u001b[0m\u001b[1;33m,\u001b[0m \u001b[0mactions\u001b[0m\u001b[1;33m[\u001b[0m\u001b[0mnum\u001b[0m\u001b[1;33m]\u001b[0m\u001b[1;33m,\u001b[0m \u001b[1;33m(\u001b[0m\u001b[1;36m0\u001b[0m\u001b[1;33m,\u001b[0m \u001b[1;36m85\u001b[0m\u001b[1;33m+\u001b[0m\u001b[0mnum\u001b[0m\u001b[1;33m*\u001b[0m\u001b[1;36m40\u001b[0m\u001b[1;33m)\u001b[0m\u001b[1;33m,\u001b[0m \u001b[0mcv2\u001b[0m\u001b[1;33m.\u001b[0m\u001b[0mFONT_HERSHEY_SIMPLEX\u001b[0m\u001b[1;33m,\u001b[0m \u001b[1;36m1\u001b[0m\u001b[1;33m,\u001b[0m \u001b[1;33m(\u001b[0m\u001b[1;36m255\u001b[0m\u001b[1;33m,\u001b[0m\u001b[1;36m255\u001b[0m\u001b[1;33m,\u001b[0m\u001b[1;36m255\u001b[0m\u001b[1;33m)\u001b[0m\u001b[1;33m,\u001b[0m \u001b[1;36m2\u001b[0m\u001b[1;33m,\u001b[0m \u001b[0mcv2\u001b[0m\u001b[1;33m.\u001b[0m\u001b[0mLINE_AA\u001b[0m\u001b[1;33m)\u001b[0m\u001b[1;33m\u001b[0m\u001b[1;33m\u001b[0m\u001b[0m\n\u001b[0m\u001b[0;32m      8\u001b[0m \u001b[1;33m\u001b[0m\u001b[0m\n\u001b[0;32m      9\u001b[0m     \u001b[1;32mreturn\u001b[0m \u001b[0moutput_frame\u001b[0m\u001b[1;33m\u001b[0m\u001b[1;33m\u001b[0m\u001b[0m\n",
      "\u001b[1;31mIndexError\u001b[0m: index 2 is out of bounds for axis 0 with size 2"
     ]
    }
   ],
   "source": [
    "# 1. New detection variables\n",
    "sequence = []        #collect the 30 frames to generate a prediction\n",
    "sentence = []        #concat history of detections\n",
    "predictions = []\n",
    "threshold = 0.5\n",
    "\n",
    "cap = cv2.VideoCapture(0)\n",
    "cap.set(cv2.CAP_PROP_FRAME_WIDTH, 1280)\n",
    "cap.set(cv2.CAP_PROP_FRAME_HEIGHT, 720)\n",
    "\n",
    "# Set mediapipe model \n",
    "with mp_holistic.Holistic(min_detection_confidence=0.5, min_tracking_confidence=0.5) as holistic:\n",
    "    while cap.isOpened():\n",
    "\n",
    "        # Read feed\n",
    "        ret, frame = cap.read()\n",
    "\n",
    "        # Make detections\n",
    "        image, results = mediapipe_detection(frame, holistic)\n",
    "#         print(results)\n",
    "        \n",
    "        # Draw landmarks\n",
    "        draw_styled_landmarks(image, results)\n",
    "        \n",
    "        # 2. Prediction logic\n",
    "        keypoints = extract_keypoints(results)\n",
    "        sequence.append(keypoints)\n",
    "        sequence = sequence[-30:]   \n",
    "        \n",
    "#         once sequence has 30 frames\n",
    "        if len(sequence) == 30: \n",
    "            # model expects (1, 30, 258), current sequence (30, 258)\n",
    "            res = model.predict(np.expand_dims(sequence, axis=0))[0]\n",
    "            predictions.append(np.argmax(res))\n",
    "            \n",
    "            \n",
    "        #3. Viz logic\n",
    "            if np.unique(predictions[-10:])[0]==np.argmax(res): \n",
    "                if res[np.argmax(res)] > threshold: \n",
    "                    \n",
    "                    if len(sentence) > 0: \n",
    "                        if actions[np.argmax(res)] != sentence[-1]:    #append only if next action is different\n",
    "                            sentence.append(actions[np.argmax(res)])\n",
    "                    else:\n",
    "                        sentence.append(actions[np.argmax(res)])\n",
    "\n",
    "            if len(sentence) > 5:          #just grab the last 5 values when sentence has more than 5 words\n",
    "                sentence = sentence[-5:]\n",
    "\n",
    "#             # Viz probabilities\n",
    "#             image = prob_viz(res, actions, image, colors)\n",
    "            \n",
    "        cv2.rectangle(image, (0,0), (640, 40), (245, 117, 16), -1)\n",
    "        cv2.putText(image, ' '.join(sentence), (3,30), \n",
    "                       cv2.FONT_HERSHEY_SIMPLEX, 1, (255, 255, 255), 2, cv2.LINE_AA)\n",
    "        \n",
    "        # Show to screen\n",
    "        cv2.imshow('OpenCV Feed', image)\n",
    "\n",
    "        # Break gracefully\n",
    "        if cv2.waitKey(10) & 0xFF == ord('q'):\n",
    "            break\n",
    "    cap.release()\n",
    "    cv2.destroyAllWindows()"
   ]
  },
  {
   "cell_type": "code",
   "execution_count": 130,
   "metadata": {},
   "outputs": [],
   "source": [
    "cap.release()\n",
    "cv2.destroyAllWindows()"
   ]
  },
  {
   "cell_type": "code",
   "execution_count": 16,
   "metadata": {},
   "outputs": [
    {
     "data": {
      "text/plain": [
       "(1, 30, 258)"
      ]
     },
     "execution_count": 16,
     "metadata": {},
     "output_type": "execute_result"
    }
   ],
   "source": [
    "np.expand_dims(sequence, axis=0).shape"
   ]
  },
  {
   "cell_type": "markdown",
   "metadata": {
    "heading_collapsed": true
   },
   "source": [
    "# Debugging\n",
    "\n",
    "Using the original action.h5, trained on hello and thanks\n",
    "- debug output issue\n",
    "- the face points are also included"
   ]
  },
  {
   "cell_type": "code",
   "execution_count": 13,
   "metadata": {
    "hidden": true
   },
   "outputs": [],
   "source": [
    "import cv2\n",
    "import numpy as np\n",
    "import os\n",
    "from matplotlib import pyplot as plt\n",
    "import time\n",
    "import mediapipe as mp\n",
    "from tensorflow.keras.utils import to_categorical\n",
    "from tensorflow.keras.models import Sequential\n",
    "from tensorflow.keras.layers import LSTM, Dense"
   ]
  },
  {
   "cell_type": "code",
   "execution_count": 14,
   "metadata": {
    "hidden": true
   },
   "outputs": [],
   "source": [
    "mp_holistic = mp.solutions.holistic # Holistic model\n",
    "mp_drawing = mp.solutions.drawing_utils # Drawing utilities\n",
    "\n",
    "def mediapipe_detection(image, model):\n",
    "    image = cv2.cvtColor(image, cv2.COLOR_BGR2RGB) # COLOR CONVERSION BGR 2 RGB\n",
    "    image.flags.writeable = False                  # Image is no longer writeable\n",
    "    results = model.process(image)                 # Make prediction\n",
    "    image.flags.writeable = True                   # Image is now writeable \n",
    "    image = cv2.cvtColor(image, cv2.COLOR_RGB2BGR) # COLOR COVERSION RGB 2 BGR\n",
    "    return image, results\n",
    "\n",
    "def draw_landmarks(image, results):\n",
    "    mp_drawing.draw_landmarks(image, results.face_landmarks, mp_holistic.FACEMESH_TESSELATION) # Draw face connections\n",
    "    mp_drawing.draw_landmarks(image, results.pose_landmarks, mp_holistic.POSE_CONNECTIONS) # Draw pose connections\n",
    "    mp_drawing.draw_landmarks(image, results.left_hand_landmarks, mp_holistic.HAND_CONNECTIONS) # Draw left hand connections\n",
    "    mp_drawing.draw_landmarks(image, results.right_hand_landmarks, mp_holistic.HAND_CONNECTIONS) # Draw right hand connections\n",
    "\n",
    "def draw_styled_landmarks(image, results):\n",
    "    # Draw face connections\n",
    "    mp_drawing.draw_landmarks(image, results.face_landmarks, mp_holistic.FACEMESH_TESSELATION, \n",
    "                             mp_drawing.DrawingSpec(color=(80,110,10), thickness=1, circle_radius=1), \n",
    "                             mp_drawing.DrawingSpec(color=(80,256,121), thickness=1, circle_radius=1)\n",
    "                             ) \n",
    "    # Draw pose connections\n",
    "    mp_drawing.draw_landmarks(image, results.pose_landmarks, mp_holistic.POSE_CONNECTIONS,\n",
    "                             mp_drawing.DrawingSpec(color=(60,20,220), thickness=2, circle_radius=1), \n",
    "                             mp_drawing.DrawingSpec(color=(255,144,30), thickness=2, circle_radius=2)\n",
    "                             ) \n",
    "    # Draw left hand connections\n",
    "    mp_drawing.draw_landmarks(image, results.left_hand_landmarks, mp_holistic.HAND_CONNECTIONS, \n",
    "                             mp_drawing.DrawingSpec(color=(60,20,220), thickness=2, circle_radius=1), \n",
    "                             mp_drawing.DrawingSpec(color=(0,255,30), thickness=2, circle_radius=2)\n",
    "                             ) \n",
    "    # Draw right hand connections  \n",
    "    mp_drawing.draw_landmarks(image, results.right_hand_landmarks, mp_holistic.HAND_CONNECTIONS, \n",
    "                             mp_drawing.DrawingSpec(color=(60,20,220), thickness=2, circle_radius=1), \n",
    "                             mp_drawing.DrawingSpec(color=(0,255,30), thickness=2, circle_radius=2)\n",
    "                             ) \n",
    "    \n",
    "def extract_keypoints(results):\n",
    "    pose = np.array([[res.x, res.y, res.z, res.visibility] for res in results.pose_landmarks.landmark]).flatten() if results.pose_landmarks else np.zeros(33*4)\n",
    "    face = np.array([[res.x, res.y, res.z] for res in results.face_landmarks.landmark]).flatten() if results.face_landmarks else np.zeros(468*3)\n",
    "    lh = np.array([[res.x, res.y, res.z] for res in results.left_hand_landmarks.landmark]).flatten() if results.left_hand_landmarks else np.zeros(21*3)\n",
    "    rh = np.array([[res.x, res.y, res.z] for res in results.right_hand_landmarks.landmark]).flatten() if results.right_hand_landmarks else np.zeros(21*3)\n",
    "    return np.concatenate([pose, face, lh, rh])"
   ]
  },
  {
   "cell_type": "code",
   "execution_count": 15,
   "metadata": {
    "hidden": true
   },
   "outputs": [],
   "source": [
    "# Check camera set up\n",
    "cap = cv2.VideoCapture(0)\n",
    "# Set mediapipe model: instantiate the model to fit into detection function\n",
    "with mp_holistic.Holistic(min_detection_confidence=0.5, min_tracking_confidence=0.5) as holistic:\n",
    "    while cap.isOpened():\n",
    "\n",
    "        # Read frame from webcam, return value, frame: image from webcam\n",
    "        ret, frame = cap.read()\n",
    "\n",
    "        # Feed webcam image to mediapipe to Make detections\n",
    "        image, results = mediapipe_detection(frame, holistic)\n",
    "#         print(results)\n",
    "        \n",
    "        # Draw landmarks\n",
    "        draw_styled_landmarks(image, results)\n",
    "\n",
    "        # Show to screen\n",
    "        cv2.imshow('OpenCV Feed', image)\n",
    "\n",
    "        # Break gracefully\n",
    "        if cv2.waitKey(10) & 0xFF == ord('q'):\n",
    "            break\n",
    "    cap.release()\n",
    "    cv2.destroyAllWindows()"
   ]
  },
  {
   "cell_type": "code",
   "execution_count": 21,
   "metadata": {
    "hidden": true
   },
   "outputs": [],
   "source": [
    "actions = np.array(['hello', 'thanks'])"
   ]
  },
  {
   "cell_type": "code",
   "execution_count": 22,
   "metadata": {
    "hidden": true
   },
   "outputs": [],
   "source": [
    "# Original model: hello, thanks\n",
    "model = Sequential()\n",
    "model.add(LSTM(64, return_sequences=True, activation='relu', input_shape=(30,1662)))\n",
    "model.add(LSTM(128, return_sequences=True, activation='relu'))\n",
    "model.add(LSTM(64, return_sequences=False, activation='relu'))\n",
    "model.add(Dense(64, activation='relu'))\n",
    "model.add(Dense(32, activation='relu'))\n",
    "model.add(Dense(actions.shape[0], activation='softmax'))\n",
    "model.compile(optimizer='Adam', loss='categorical_crossentropy', metrics=['categorical_accuracy'])\n",
    "\n",
    "model.load_weights('action_v1.h5')"
   ]
  }
 ],
 "metadata": {
  "kernelspec": {
   "display_name": "Python 3",
   "language": "python",
   "name": "python3"
  },
  "language_info": {
   "codemirror_mode": {
    "name": "ipython",
    "version": 3
   },
   "file_extension": ".py",
   "mimetype": "text/x-python",
   "name": "python",
   "nbconvert_exporter": "python",
   "pygments_lexer": "ipython3",
   "version": "3.7.4"
  }
 },
 "nbformat": 4,
 "nbformat_minor": 2
}
